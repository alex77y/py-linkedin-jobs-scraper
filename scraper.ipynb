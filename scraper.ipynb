{
 "cells": [
  {
   "cell_type": "code",
   "execution_count": 2,
   "metadata": {},
   "outputs": [
    {
     "data": {
      "text/plain": [
       "'AQEDAS2mLGsASEaYAAABjf1VuRkAAAGQqCVqvU4AUxLR8GDMvnA8OHRUtcNXu3yTYZCDX1xye0dToP_l5dWGteox4x1Nbs15mr8ovHbhMwr8JEoS-GRDxIRip1muX3RqB-HpR4rqVE3L3yi7gzP9ziO3'"
      ]
     },
     "execution_count": 2,
     "metadata": {},
     "output_type": "execute_result"
    }
   ],
   "source": [
    "import os\n",
    "import logging\n",
    "os.environ['LI_AT_COOKIE']"
   ]
  },
  {
   "cell_type": "code",
   "execution_count": 8,
   "metadata": {},
   "outputs": [],
   "source": [
    "company_job_link = 'https://www.linkedin.com/jobs/search/?f_C=162663&geoId=92000000&origin=COMPANY_PAGE_JOBS_CLUSTER_EXPANSION&originToLandingJobPostings=3954754673%2C3952663973%2C3955407426%2C3845620624%2C3942259594%2C3972937075%2C3964004424%2C3948218536%2C3972232833&lipi=urn%3Ali%3Apage%3Acompanies_company_jobs_jobs%3B2eb68743-9b7d-46d1-a182-6194d6c6dc89'"
   ]
  },
  {
   "cell_type": "code",
   "execution_count": 11,
   "metadata": {},
   "outputs": [
    {
     "name": "stderr",
     "output_type": "stream",
     "text": [
      "INFO:li:scraper:('Using strategy AuthenticatedStrategy',)\n",
      "INFO:li:scraper:('Starting new query', \"Query(query= options=QueryOptions(limit=25 locations=['Worldwide'] filters=QueryFilters(company_jobs_url=https://www.linkedin.com/jobs/search/?currentJobId=3954754673&f_C=162663&geoId=92000000&origin=COMPANY_PAGE_JOBS_CLUSTER_EXPANSION&originToLandingJobPostings=3954754673%2C3952663973%2C3955407426%2C3845620624%2C3942259594%2C3972937075%2C3964004424%2C3948218536%2C3972232833) apply_link=False skip_promoted_jobs=False page_offset=0))\")\n",
      "INFO:li:scraper:('Chrome debugger url', 'http://localhost:60056')\n",
      "INFO:li:scraper:('Websocket debugger url: ', 'ws://localhost:60056/devtools/page/E658C2CF46ECDA37552BF2E27CE1EDA2')\n",
      "INFO:li:scraper:('[][Worldwide]', 'Setting authentication cookie')\n",
      "INFO:li:scraper:('[][Worldwide]', 'Opening https://www.linkedin.com/jobs/search?location=Worldwide&f_C=162663&start=0')\n",
      "INFO:li:scraper:('[][Worldwide]', 'Session is valid')\n",
      "INFO:li:scraper:('[][Worldwide]', 'No jobs found, skip')\n"
     ]
    },
    {
     "name": "stdout",
     "output_type": "stream",
     "text": [
      "[ON_END]\n"
     ]
    }
   ],
   "source": [
    "import logging\n",
    "from linkedin_jobs_scraper import LinkedinScraper\n",
    "from linkedin_jobs_scraper.events import Events, EventData, EventMetrics\n",
    "from linkedin_jobs_scraper.query import Query, QueryOptions, QueryFilters\n",
    "from linkedin_jobs_scraper.filters import RelevanceFilters, TimeFilters, TypeFilters, ExperienceLevelFilters, \\\n",
    "    OnSiteOrRemoteFilters, SalaryBaseFilters\n",
    "\n",
    "# Change root logger level (default is WARN)\n",
    "logging.basicConfig(level=logging.INFO)\n",
    "\n",
    "\n",
    "# Fired once for each successfully processed job\n",
    "def on_data(data: EventData):\n",
    "    print('[ON_DATA]', data.title, data.company, data.company_link, data.date, data.link, data.insights,\n",
    "          len(data.description))\n",
    "\n",
    "\n",
    "# Fired once for each page (25 jobs)\n",
    "def on_metrics(metrics: EventMetrics):\n",
    "    print('[ON_METRICS]', str(metrics))\n",
    "\n",
    "\n",
    "def on_error(error):\n",
    "    print('[ON_ERROR]', error)\n",
    "\n",
    "\n",
    "def on_end():\n",
    "    print('[ON_END]')\n",
    "\n",
    "\n",
    "scraper = LinkedinScraper(\n",
    "    chrome_executable_path=None,  # Custom Chrome executable path (e.g. /foo/bar/bin/chromedriver)\n",
    "    chrome_binary_location=None,  \n",
    "    chrome_options=None,  # Custom Chrome options here\n",
    "    headless=True,  # Overrides headless mode only if chrome_options is None\n",
    "    max_workers=1,  # How many threads will be spawned to run queries concurrently (one Chrome driver for each thread)\n",
    "    slow_mo=0.5,  # Slow down the scraper to avoid 'Too many requests 429' errors (in seconds)\n",
    "    page_load_timeout=40,\n",
    "  # Page load timeout (in seconds)    \n",
    ")\n",
    "\n",
    "# Add event listeners\n",
    "scraper.on(Events.DATA, on_data)\n",
    "scraper.on(Events.ERROR, on_error)\n",
    "scraper.on(Events.END, on_end)\n",
    "\n",
    "query = Query(    \n",
    "    options=QueryOptions(        \n",
    "        filters=QueryFilters(\n",
    "            # Paste link below\n",
    "            company_jobs_url= 'https://www.linkedin.com/jobs/search/?currentJobId=3954754673&f_C=162663&geoId=92000000&origin=COMPANY_PAGE_JOBS_CLUSTER_EXPANSION&originToLandingJobPostings=3954754673%2C3952663973%2C3955407426%2C3845620624%2C3942259594%2C3972937075%2C3964004424%2C3948218536%2C3972232833'        \n",
    "        )\n",
    "    )\n",
    ")\n",
    "scraper.run(query)"
   ]
  },
  {
   "cell_type": "code",
   "execution_count": 4,
   "metadata": {},
   "outputs": [],
   "source": [
    "from linkedin_jobs_scraper.query import Query, QueryOptions, QueryFilters\n",
    "from linkedin_jobs_scraper.filters import RelevanceFilters, TimeFilters, TypeFilters, ExperienceLevelFilters, \\\n",
    "    OnSiteOrRemoteFilters, IndustryFilters, SalaryBaseFilters\n"
   ]
  }
 ],
 "metadata": {
  "kernelspec": {
   "display_name": "Python 3",
   "language": "python",
   "name": "python3"
  },
  "language_info": {
   "codemirror_mode": {
    "name": "ipython",
    "version": 3
   },
   "file_extension": ".py",
   "mimetype": "text/x-python",
   "name": "python",
   "nbconvert_exporter": "python",
   "pygments_lexer": "ipython3",
   "version": "3.9.18"
  }
 },
 "nbformat": 4,
 "nbformat_minor": 2
}
