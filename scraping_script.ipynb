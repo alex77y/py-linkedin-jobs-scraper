{
 "cells": [
  {
   "cell_type": "code",
   "execution_count": 2,
   "metadata": {},
   "outputs": [],
   "source": [
    "import os\n",
    "import logging\n",
    "import requests\n",
    "from bs4 import BeautifulSoup\n",
    "import logging\n",
    "from linkedin_jobs_scraper import LinkedinScraper\n",
    "from linkedin_jobs_scraper.events import Events, EventData, EventMetrics\n",
    "from linkedin_jobs_scraper.query import Query, QueryOptions, QueryFilters\n",
    "from linkedin_jobs_scraper.filters import RelevanceFilters, TimeFilters, TypeFilters, ExperienceLevelFilters, \\\n",
    "    OnSiteOrRemoteFilters, SalaryBaseFilters\n",
    "import pandas as pd\n",
    "from linkedin_jobs_scraper.utils.chrome_driver import build_driver\n",
    "import time\n",
    "from datetime import datetime\n",
    "import csv"
   ]
  },
  {
   "cell_type": "code",
   "execution_count": 3,
   "metadata": {},
   "outputs": [],
   "source": [
    "FieldName = ['job_id', 'title', 'company','date','link','insight','description']\n",
    "today = datetime.now().strftime(\"%y_%m_%d\")\n",
    "target_csv = f\"job_scan_{today}.csv\"\n",
    "\n",
    "# Create the output csv if not exist\n",
    "if target_csv and not os.path.exists(target_csv):\n",
    "    with open(target_csv, mode='w', newline='', encoding='utf-8') as file:\n",
    "        writer = csv.DictWriter(file,fieldnames=FieldName)\n",
    "        writer.writeheader()\n"
   ]
  },
  {
   "cell_type": "code",
   "execution_count": 4,
   "metadata": {},
   "outputs": [
    {
     "name": "stderr",
     "output_type": "stream",
     "text": [
      "INFO:li:scraper:('Using strategy AuthenticatedStrategy',)\n"
     ]
    }
   ],
   "source": [
    "# Function to append each result to the CSV file\n",
    "def write_output(result, csv_file,FieldName = FieldName):\n",
    "    with open(csv_file, mode='a', newline='', encoding='utf-8') as file:\n",
    "        writer = csv.DictWriter(file, fieldnames=FieldName)\n",
    "        writer.writerow(result)\n",
    "\n",
    "\n",
    "# Change root logger level (default is WARN)\n",
    "logging.basicConfig(level=logging.INFO)\n",
    "\n",
    "\n",
    "# Fired once for each successfully processed job\n",
    "def on_data(data: EventData):\n",
    "    print(target_csv)\n",
    "    print('[ON_DATA]',data.job_id, data.title, data.company, data.date, data.link, data.insights,\n",
    "          len(data.description))\n",
    "    output = {'job_id':data.job_id, 'title':data.title, 'company':data.company,'date':data.date,'link':data.link,'insight':data.insights,'description':data.description}\n",
    "    write_output(output, target_csv)\n",
    "\n",
    "# Fired once for each page (25 jobs)\n",
    "def on_metrics(metrics: EventMetrics):\n",
    "    print('[ON_METRICS]', str(metrics))\n",
    "\n",
    "\n",
    "def on_error(error):\n",
    "    print('[ON_ERROR]', error)\n",
    "\n",
    "\n",
    "def on_end():\n",
    "    print('[ON_END]')\n",
    "\n",
    "\n",
    "scraper = LinkedinScraper(\n",
    "    chrome_executable_path=None,  # Custom Chrome executable path (e.g. /foo/bar/bin/chromedriver)\n",
    "    chrome_binary_location=None,  \n",
    "    chrome_options=None,  # Custom Chrome options here\n",
    "    headless=True,  # Overrides headless mode only if chrome_options is None\n",
    "    max_workers=1,  # How many threads will be spawned to run queries concurrently (one Chrome driver for each thread)\n",
    "    slow_mo=0.5,  # Slow down the scraper to avoid 'Too many requests 429' errors (in seconds)\n",
    "    page_load_timeout=40,\n",
    "  # Page load timeout (in seconds)    \n",
    ")\n",
    "\n",
    "# Add event listeners\n",
    "scraper.on(Events.DATA, on_data)\n",
    "scraper.on(Events.ERROR, on_error)\n",
    "scraper.on(Events.END, on_end)\n"
   ]
  },
  {
   "cell_type": "code",
   "execution_count": 5,
   "metadata": {},
   "outputs": [
    {
     "name": "stderr",
     "output_type": "stream",
     "text": [
      "INFO:li:scraper:('Starting new query', \"Query(query= options=QueryOptions(limit=1000 locations=['United States'] filters=QueryFilters(company_jobs_url=https://www.linkedin.com/jobs/search/?f_C=6640471&geoId=92000000&origin=COMPANY_PAGE_JOBS_CLUSTER_EXPANSION&originToLandingJobPostings=3971570718%2C3973575366) apply_link=False skip_promoted_jobs=True page_offset=0))\")\n",
      "INFO:li:scraper:('Chrome debugger url', 'http://localhost:52662')\n",
      "INFO:li:scraper:('Websocket debugger url: ', 'ws://localhost:52662/devtools/page/B4806963BEA75228F6CEA2B81D986532')\n",
      "INFO:li:scraper:('[][United States]', 'Setting authentication cookie')\n",
      "INFO:li:scraper:('[][United States]', 'Opening https://www.linkedin.com/jobs/search?location=United+States&f_C=6640471&start=0')\n",
      "INFO:li:scraper:('[][United States]', 'Session is valid')\n",
      "INFO:li:scraper:('[][United States][1]', 'Processed')\n"
     ]
    },
    {
     "name": "stdout",
     "output_type": "stream",
     "text": [
      "job_scan_24_07_18.csv\n",
      "[ON_DATA] 3971570718 Senior Data Analyst with verification Solera Health  https://www.linkedin.com/jobs/view/3971570718/?eBP=NON_CHARGEABLE_CHANNEL&refId=Ec2rSjDYSFjQ%2Bv71OLh7vw%3D%3D&trackingId=WJ6Tn50EEj1ijUQuTUgGhQ%3D%3D&trk=flagship3_search_srp_jobs ['Remote Full-time Mid-Senior level', '51-200 employees · Hospitals and Health Care', 'Skills: Data Analytics, SQL, +8 more', 'See how you compare to over 100 other applicants. Try Premium for $0', '', 'Am I a good fit for this job?', 'How can I best position myself for this job?', 'Tell me more about Solera He...'] 5241\n"
     ]
    },
    {
     "name": "stderr",
     "output_type": "stream",
     "text": [
      "INFO:li:scraper:('[][United States][2]', 'Processed')\n"
     ]
    },
    {
     "name": "stdout",
     "output_type": "stream",
     "text": [
      "job_scan_24_07_18.csv\n",
      "[ON_DATA] 3973575366 Compliance Manager with verification Solera Health 2024-07-11 https://www.linkedin.com/jobs/view/3973575366/?eBP=NON_CHARGEABLE_CHANNEL&refId=Ec2rSjDYSFjQ%2Bv71OLh7vw%3D%3D&trackingId=Nyk6xrxMedXXWDsZodzdPQ%3D%3D&trk=flagship3_search_srp_jobs ['Remote Full-time Mid-Senior level', '51-200 employees · Hospitals and Health Care', 'Skills: Healthcare Compliance, External Audits, +8 more', 'See how you compare to over 100 other applicants. Try Premium for $0', '', 'Am I a good fit for this job?', 'How can I best position myself for this job?', 'Tell me more about Solera He...'] 4870\n"
     ]
    },
    {
     "name": "stderr",
     "output_type": "stream",
     "text": [
      "INFO:li:scraper:('[][United States][3]', 'Skipped because promoted')\n",
      "INFO:li:scraper:('[][United States][4]', 'Skipped because promoted')\n",
      "INFO:li:scraper:('[][United States][5]', 'Skipped because promoted')\n",
      "INFO:li:scraper:('[][United States]', 'No more jobs to process in this page')\n",
      "INFO:li:scraper:('[][United States]', 'Metrics:', '{ processed: 2, failed: 0, missed: 20, skipped: 3 }')\n",
      "INFO:li:scraper:('[][United States]', 'Pagination requested [1]')\n",
      "INFO:li:scraper:('[][United States]', 'Opening https://www.linkedin.com/jobs/search?location=United+States&f_C=6640471&start=25')\n",
      "INFO:li:scraper:('[][United States]', 'Waiting for new jobs to load')\n",
      "INFO:li:scraper:('[][United States]', \"Couldn't find more jobs for the running query\")\n"
     ]
    },
    {
     "name": "stdout",
     "output_type": "stream",
     "text": [
      "[ON_END]\n"
     ]
    },
    {
     "name": "stderr",
     "output_type": "stream",
     "text": [
      "INFO:li:scraper:('Starting new query', \"Query(query= options=QueryOptions(limit=1000 locations=['United States'] filters=QueryFilters(company_jobs_url=https://www.linkedin.com/jobs/search/?f_C=162663&geoId=92000000&origin=COMPANY_PAGE_JOBS_CLUSTER_EXPANSION&originToLandingJobPostings=3976928274%2C3976929226%2C3978624919%2C3976941501%2C3941299394%2C3974393900%2C3972232833%2C3978633146%2C3948216652) apply_link=False skip_promoted_jobs=True page_offset=0))\")\n",
      "INFO:li:scraper:('Chrome debugger url', 'http://localhost:52717')\n",
      "INFO:li:scraper:('Websocket debugger url: ', 'ws://localhost:52717/devtools/page/24735D359681C6BF2F441E4CB08E8DED')\n",
      "INFO:li:scraper:('[][United States]', 'Setting authentication cookie')\n",
      "INFO:li:scraper:('[][United States]', 'Opening https://www.linkedin.com/jobs/search?location=United+States&f_C=162663&start=0')\n",
      "INFO:li:scraper:('[][United States]', 'Session is valid')\n",
      "INFO:li:scraper:('[][United States][1]', 'Processed')\n"
     ]
    },
    {
     "name": "stdout",
     "output_type": "stream",
     "text": [
      "job_scan_24_07_18.csv\n",
      "[ON_DATA] 3976928274 Senior Consultant, Enterprise Strategy with verification Blue Cross NC  https://www.linkedin.com/jobs/view/3976928274/?eBP=NON_CHARGEABLE_CHANNEL&refId=f%2Fqv3f0StxeGZHKtJeDyOQ%3D%3D&trackingId=0uxmbpuSak5PDuyECxCZQw%3D%3D&trk=flagship3_search_srp_jobs ['Remote Full-time Mid-Senior level', '5,001-10,000 employees · Insurance', 'Skills: Management Consulting, Enterprise Consulting, +3 more', 'See how you compare to over 100 other applicants. Try Premium for $0', '', 'Am I a good fit for this job?', 'How can I best position myself for this job?', 'Tell me more about Blue Cros...'] 4820\n"
     ]
    },
    {
     "name": "stderr",
     "output_type": "stream",
     "text": [
      "INFO:li:scraper:('[][United States][2]', 'Processed')\n"
     ]
    },
    {
     "name": "stdout",
     "output_type": "stream",
     "text": [
      "job_scan_24_07_18.csv\n",
      "[ON_DATA] 3976929226 Enterprise Strategy Consultant with verification Blue Cross NC  https://www.linkedin.com/jobs/view/3976929226/?eBP=NON_CHARGEABLE_CHANNEL&refId=f%2Fqv3f0StxeGZHKtJeDyOQ%3D%3D&trackingId=yjC1H9%2Fyrdve3MZCnDQGXw%3D%3D&trk=flagship3_search_srp_jobs ['Remote Full-time Associate', '5,001-10,000 employees · Insurance', 'Skills: Strategy Consulting, Storyboarding, +4 more', 'See recent hiring trends for Bluecrossnc-LL. Try Premium for $0', '', 'Am I a good fit for this job?', 'How can I best position myself for this job?', 'Tell me more about Blue Cros...'] 4845\n"
     ]
    },
    {
     "name": "stderr",
     "output_type": "stream",
     "text": [
      "INFO:li:scraper:('[][United States][3]', 'Processed')\n"
     ]
    },
    {
     "name": "stdout",
     "output_type": "stream",
     "text": [
      "job_scan_24_07_18.csv\n",
      "[ON_DATA] 3978624919 Strategic Advisor, Pharmacy Consultant Relations with verification Blue Cross NC  https://www.linkedin.com/jobs/view/3978624919/?eBP=NON_CHARGEABLE_CHANNEL&refId=f%2Fqv3f0StxeGZHKtJeDyOQ%3D%3D&trackingId=coLlyskX6kKcbRnUEFhfkA%3D%3D&trk=flagship3_search_srp_jobs ['Remote Full-time Mid-Senior level', '5,001-10,000 employees · Insurance', 'Skills: Communication, Strategic Communications, +5 more', 'See how you compare to 12 applicants. Try Premium for $0', '', 'Am I a good fit for this job?', 'How can I best position myself for this job?', 'Tell me more about Blue Cros...'] 2126\n"
     ]
    },
    {
     "name": "stderr",
     "output_type": "stream",
     "text": [
      "INFO:li:scraper:('[][United States][4]', 'Processed')\n"
     ]
    },
    {
     "name": "stdout",
     "output_type": "stream",
     "text": [
      "job_scan_24_07_18.csv\n",
      "[ON_DATA] 3976941501 Sr. Business Systems Analyst (Pharmacy) with verification Blue Cross NC  https://www.linkedin.com/jobs/view/3976941501/?eBP=NON_CHARGEABLE_CHANNEL&refId=f%2Fqv3f0StxeGZHKtJeDyOQ%3D%3D&trackingId=kvBM%2FzUkOhBpTSrX6rfdPg%3D%3D&trk=flagship3_search_srp_jobs ['Remote Full-time Mid-Senior level', '5,001-10,000 employees · Insurance', 'Skills: Functional Specifications, Business Requirements, +8 more', 'See how you compare to 78 applicants. Try Premium for $0', '', 'Am I a good fit for this job?', 'How can I best position myself for this job?', 'Tell me more about Blue Cros...'] 4702\n"
     ]
    },
    {
     "name": "stderr",
     "output_type": "stream",
     "text": [
      "INFO:li:scraper:('[][United States][5]', 'Processed')\n"
     ]
    },
    {
     "name": "stdout",
     "output_type": "stream",
     "text": [
      "job_scan_24_07_18.csv\n",
      "[ON_DATA] 3974393900 Sr. RPA Developer- UiPath Blue Cross NC  https://www.linkedin.com/jobs/view/3974393900/?eBP=NON_CHARGEABLE_CHANNEL&refId=f%2Fqv3f0StxeGZHKtJeDyOQ%3D%3D&trackingId=nBUMYuB5wgu2%2BZCCXf9qGg%3D%3D&trk=flagship3_search_srp_jobs ['$100.5K/yr - $182.7K/yr Full-time Mid-Senior level', '5,001-10,000 employees · Insurance', 'Skills: Artificial Intelligence (AI), Robotic Process Automation (RPA), +8 more', 'See recent hiring trends for Bluecrossnc-LL. Try Premium for $0', '', 'Am I a good fit for this job?', 'How can I best position myself for this job?', 'Tell me more about Blue Cros...'] 2263\n"
     ]
    },
    {
     "name": "stderr",
     "output_type": "stream",
     "text": [
      "INFO:li:scraper:('[][United States][6]', 'Processed')\n"
     ]
    },
    {
     "name": "stdout",
     "output_type": "stream",
     "text": [
      "job_scan_24_07_18.csv\n",
      "[ON_DATA] 3941299394 Enterprise Strategy Consultant Blue Cross NC  https://www.linkedin.com/jobs/view/3941299394/?eBP=NON_CHARGEABLE_CHANNEL&refId=f%2Fqv3f0StxeGZHKtJeDyOQ%3D%3D&trackingId=jFNEQz1xPx6sSHwt7PCvZA%3D%3D&trk=flagship3_search_srp_jobs ['$77.2K/yr - $123.4K/yr Remote Full-time Mid-Senior level', '5,001-10,000 employees · Insurance', 'Skills: Strategy Consulting, Business Case Preparation, +8 more', 'See recent hiring trends for Bluecrossnc-LL. Try Premium for $0', '', 'Am I a good fit for this job?', 'How can I best position myself for this job?', 'Tell me more about Blue Cros...'] 4860\n"
     ]
    },
    {
     "name": "stderr",
     "output_type": "stream",
     "text": [
      "INFO:li:scraper:('[][United States][7]', 'Processed')\n"
     ]
    },
    {
     "name": "stdout",
     "output_type": "stream",
     "text": [
      "job_scan_24_07_18.csv\n",
      "[ON_DATA] 3972232833 Senior AI/ML Scientist Blue Cross NC  https://www.linkedin.com/jobs/view/3972232833/?eBP=NON_CHARGEABLE_CHANNEL&refId=f%2Fqv3f0StxeGZHKtJeDyOQ%3D%3D&trackingId=RAgBfuz9%2FtyLsxKR0Fo2Bw%3D%3D&trk=flagship3_search_srp_jobs ['$110K/yr - $199K/yr Full-time Mid-Senior level', '5,001-10,000 employees · Insurance', 'Skills: Artificial Intelligence (AI), Reinforcement Learning, +8 more', 'See recent hiring trends for Bluecrossnc-LL. Try Premium for $0', '', 'Am I a good fit for this job?', 'How can I best position myself for this job?', 'Tell me more about Blue Cros...'] 3480\n"
     ]
    },
    {
     "name": "stderr",
     "output_type": "stream",
     "text": [
      "INFO:li:scraper:('[][United States][8]', 'Processed')\n"
     ]
    },
    {
     "name": "stdout",
     "output_type": "stream",
     "text": [
      "job_scan_24_07_18.csv\n",
      "[ON_DATA] 3978633146 Clinical Coding Analyst with verification Blue Cross NC  https://www.linkedin.com/jobs/view/3978633146/?eBP=NON_CHARGEABLE_CHANNEL&refId=f%2Fqv3f0StxeGZHKtJeDyOQ%3D%3D&trackingId=6J%2BNXLP2pyZF9LErSKFQ0g%3D%3D&trk=flagship3_search_srp_jobs ['$68.2K/yr - $90K/yr Remote Full-time Associate', '5,001-10,000 employees · Insurance', 'Skills: Nursing, PCP, +8 more', 'See how you compare to 6 applicants. Try Premium for $0'] 2742\n"
     ]
    },
    {
     "name": "stderr",
     "output_type": "stream",
     "text": [
      "INFO:li:scraper:('[][United States][9]', 'Processed')\n"
     ]
    },
    {
     "name": "stdout",
     "output_type": "stream",
     "text": [
      "job_scan_24_07_18.csv\n",
      "[ON_DATA] 3955735944 Senior Actuarial Analyst with verification Blue Cross NC  https://www.linkedin.com/jobs/view/3955735944/?eBP=NON_CHARGEABLE_CHANNEL&refId=f%2Fqv3f0StxeGZHKtJeDyOQ%3D%3D&trackingId=0A8sXsig65W3gEEsWHN6%2BQ%3D%3D&trk=flagship3_search_srp_jobs ['Remote Full-time Mid-Senior level', '5,001-10,000 employees · Insurance', 'Skills: Statistical Analysis, Actuarial Science, +5 more', 'See how you compare to 51 applicants. Try Premium for $0', '', 'Am I a good fit for this job?', 'How can I best position myself for this job?', 'Tell me more about Blue Cros...'] 2043\n"
     ]
    },
    {
     "name": "stderr",
     "output_type": "stream",
     "text": [
      "INFO:li:scraper:('[][United States][10]', 'Processed')\n"
     ]
    },
    {
     "name": "stdout",
     "output_type": "stream",
     "text": [
      "job_scan_24_07_18.csv\n",
      "[ON_DATA] 3948216652 Sr Support Engineer - Generative AI Blue Cross NC 2024-06-12 https://www.linkedin.com/jobs/view/3948216652/?eBP=NON_CHARGEABLE_CHANNEL&refId=f%2Fqv3f0StxeGZHKtJeDyOQ%3D%3D&trackingId=j1iC2xhlYJIaV77nm1Mlng%3D%3D&trk=flagship3_search_srp_jobs ['$100.5K/yr - $182.7K/yr On-site Full-time Mid-Senior level', '5,001-10,000 employees · Insurance', 'Skills: Business Workflows, Generative AI, +5 more', 'See recent hiring trends for Bluecrossnc-LL. Try Premium for $0', '', 'Am I a good fit for this job?', 'How can I best position myself for this job?', 'Tell me more about Blue Cros...'] 2447\n"
     ]
    },
    {
     "name": "stderr",
     "output_type": "stream",
     "text": [
      "INFO:li:scraper:('[][United States][11]', 'Processed')\n"
     ]
    },
    {
     "name": "stdout",
     "output_type": "stream",
     "text": [
      "job_scan_24_07_18.csv\n",
      "[ON_DATA] 3942800274 AI/ML Governance Analyst Blue Cross NC 2024-06-05 https://www.linkedin.com/jobs/view/3942800274/?eBP=NON_CHARGEABLE_CHANNEL&refId=f%2Fqv3f0StxeGZHKtJeDyOQ%3D%3D&trackingId=nHuVyTjPn%2BORNMvurqcR1w%3D%3D&trk=flagship3_search_srp_jobs ['$74K/yr - $118.2K/yr On-site Full-time Entry level', '5,001-10,000 employees · Insurance', 'Skills: Implementation Plans, Communication, +8 more', 'See recent hiring trends for Bluecrossnc-LL. Try Premium for $0'] 3896\n"
     ]
    },
    {
     "name": "stderr",
     "output_type": "stream",
     "text": [
      "INFO:li:scraper:('[][United States][12]', 'Processed')\n"
     ]
    },
    {
     "name": "stdout",
     "output_type": "stream",
     "text": [
      "job_scan_24_07_18.csv\n",
      "[ON_DATA] 3952663973 Sr Support Engineer, AI/ML Blue Cross NC 2024-06-17 https://www.linkedin.com/jobs/view/3952663973/?eBP=NON_CHARGEABLE_CHANNEL&refId=f%2Fqv3f0StxeGZHKtJeDyOQ%3D%3D&trackingId=iVGC8GVwzMafIKoi6nmXKA%3D%3D&trk=flagship3_search_srp_jobs ['$100.5K/yr - $182.7K/yr On-site Full-time Mid-Senior level', '5,001-10,000 employees · Insurance', 'Skills: Troubleshooting, Communication, +2 more', 'See recent hiring trends for Bluecrossnc-LL. Try Premium for $0', '', 'Am I a good fit for this job?', 'How can I best position myself for this job?', 'Tell me more about Blue Cros...'] 2543\n"
     ]
    },
    {
     "name": "stderr",
     "output_type": "stream",
     "text": [
      "INFO:li:scraper:('[][United States][13]', 'Processed')\n"
     ]
    },
    {
     "name": "stdout",
     "output_type": "stream",
     "text": [
      "job_scan_24_07_18.csv\n",
      "[ON_DATA] 3952667429 Sr Machine Learning Engineer Blue Cross NC 2024-06-17 https://www.linkedin.com/jobs/view/3952667429/?eBP=NON_CHARGEABLE_CHANNEL&refId=f%2Fqv3f0StxeGZHKtJeDyOQ%3D%3D&trackingId=cDBuPAecG2A91lT3u1PlYg%3D%3D&trk=flagship3_search_srp_jobs ['$100.5K/yr - $182.7K/yr On-site Full-time Mid-Senior level', '5,001-10,000 employees · Insurance', 'Skills: Technical Requirements, Data Validation, +8 more', 'See recent hiring trends for Bluecrossnc-LL. Try Premium for $0', '', 'Am I a good fit for this job?', 'How can I best position myself for this job?', 'Tell me more about Blue Cros...'] 3344\n"
     ]
    },
    {
     "name": "stderr",
     "output_type": "stream",
     "text": [
      "INFO:li:scraper:('[][United States][14]', 'Processed')\n"
     ]
    },
    {
     "name": "stdout",
     "output_type": "stream",
     "text": [
      "job_scan_24_07_18.csv\n",
      "[ON_DATA] 3958140946 Consulting Actuary - Medicare Part D with verification Blue Cross NC 2024-06-24 https://www.linkedin.com/jobs/view/3958140946/?eBP=NON_CHARGEABLE_CHANNEL&refId=f%2Fqv3f0StxeGZHKtJeDyOQ%3D%3D&trackingId=BmLwrVNFPOQ5W2Ad2fxCUQ%3D%3D&trk=flagship3_search_srp_jobs ['Remote Full-time Mid-Senior level', '5,001-10,000 employees · Insurance', 'Skills: Medicare Part D, Actuarial Science, +2 more', 'See how you compare to 5 applicants. Try Premium for $0', '', 'Am I a good fit for this job?', 'How can I best position myself for this job?', 'Tell me more about Blue Cros...'] 1887\n"
     ]
    },
    {
     "name": "stderr",
     "output_type": "stream",
     "text": [
      "INFO:li:scraper:('[][United States][15]', 'Processed')\n"
     ]
    },
    {
     "name": "stdout",
     "output_type": "stream",
     "text": [
      "job_scan_24_07_18.csv\n",
      "[ON_DATA] 3972933689 Clinical Quality Management Analyst - 2 positions (Eastern NC and Western NC) Blue Cross NC 2024-07-10 https://www.linkedin.com/jobs/view/3972933689/?eBP=NON_CHARGEABLE_CHANNEL&refId=f%2Fqv3f0StxeGZHKtJeDyOQ%3D%3D&trackingId=99J5f05VbXmpHS0p3%2B2JUw%3D%3D&trk=flagship3_search_srp_jobs ['$68.2K/yr - $109.1K/yr On-site Full-time Mid-Senior level', '5,001-10,000 employees · Insurance', 'Skills: Licensed Practical Nurse (LPN), Medical Review, +8 more', 'See recent hiring trends for Bluecrossnc-LL. Try Premium for $0', '', 'Am I a good fit for this job?', 'How can I best position myself for this job?', 'Tell me more about Blue Cros...'] 2913\n"
     ]
    },
    {
     "name": "stderr",
     "output_type": "stream",
     "text": [
      "INFO:li:scraper:('[][United States][16]', 'Processed')\n"
     ]
    },
    {
     "name": "stdout",
     "output_type": "stream",
     "text": [
      "job_scan_24_07_18.csv\n",
      "[ON_DATA] 3972937075 Sr Business Systems Analyst (Pharmacy Division - Medicare) Blue Cross NC 2024-07-10 https://www.linkedin.com/jobs/view/3972937075/?eBP=NON_CHARGEABLE_CHANNEL&refId=f%2Fqv3f0StxeGZHKtJeDyOQ%3D%3D&trackingId=vA%2Ffm2geG4l3E2rEKYvGkg%3D%3D&trk=flagship3_search_srp_jobs ['$75.9K/yr - $136.6K/yr Hybrid Full-time Mid-Senior level', '5,001-10,000 employees · Insurance', 'Skills: Functional Specifications, Business Requirements, +8 more', 'See recent hiring trends for Bluecrossnc-LL. Try Premium for $0'] 4755\n"
     ]
    },
    {
     "name": "stderr",
     "output_type": "stream",
     "text": [
      "INFO:li:scraper:('[][United States][17]', 'Processed')\n"
     ]
    },
    {
     "name": "stdout",
     "output_type": "stream",
     "text": [
      "job_scan_24_07_18.csv\n",
      "[ON_DATA] 3963798864 BI Developer Analyst Blue Cross NC 2024-07-01 https://www.linkedin.com/jobs/view/3963798864/?eBP=NON_CHARGEABLE_CHANNEL&refId=f%2Fqv3f0StxeGZHKtJeDyOQ%3D%3D&trackingId=i63fzX25lr9fDE7N%2FU4DrQ%3D%3D&trk=flagship3_search_srp_jobs ['$68.2K/yr - $109.1K/yr Full-time Mid-Senior level', '5,001-10,000 employees · Insurance', 'Skills: Acceptance Testing, Data Visualization, +8 more', 'See recent hiring trends for Bluecrossnc-LL. Try Premium for $0', '', 'Am I a good fit for this job?', 'How can I best position myself for this job?', 'Tell me more about Blue Cros...'] 2789\n"
     ]
    },
    {
     "name": "stderr",
     "output_type": "stream",
     "text": [
      "INFO:li:scraper:('[][United States][18]', 'Processed')\n"
     ]
    },
    {
     "name": "stdout",
     "output_type": "stream",
     "text": [
      "job_scan_24_07_18.csv\n",
      "[ON_DATA] 3945998755 Principal AI Strategy and Governance Analyst Blue Cross NC 2024-06-10 https://www.linkedin.com/jobs/view/3945998755/?eBP=NON_CHARGEABLE_CHANNEL&refId=f%2Fqv3f0StxeGZHKtJeDyOQ%3D%3D&trackingId=YgQ5Wr7zUpskoDsW%2B8YvOg%3D%3D&trk=flagship3_search_srp_jobs ['$118.3K/yr - $214.8K/yr On-site Full-time Mid-Senior level', '5,001-10,000 employees · Insurance', 'Skills: Data Governance, Responsible, Accountable, Consulted, Informed (RACI), +8 more', 'See recent hiring trends for Bluecrossnc-LL. Try Premium for $0', '', 'Am I a good fit for this job?', 'How can I best position myself for this job?', 'Tell me more about Blue Cros...'] 4836\n"
     ]
    },
    {
     "name": "stderr",
     "output_type": "stream",
     "text": [
      "INFO:li:scraper:('[][United States][19]', 'Processed')\n"
     ]
    },
    {
     "name": "stdout",
     "output_type": "stream",
     "text": [
      "job_scan_24_07_18.csv\n",
      "[ON_DATA] 3845620624 Associate Vice President (AVP), Government Pharmacy Blue Cross NC 2024-02-08 https://www.linkedin.com/jobs/view/3845620624/?eBP=NON_CHARGEABLE_CHANNEL&refId=f%2Fqv3f0StxeGZHKtJeDyOQ%3D%3D&trackingId=HbW0kw0vAmLYPS1Dqvdk4g%3D%3D&trk=flagship3_search_srp_jobs ['$165.8K/yr - $331.6K/yr On-site Full-time Executive', '5,001-10,000 employees · Insurance', 'Skills: Government Business, Bid Processes, +8 more', 'See recent hiring trends for Bluecrossnc-LL. Try Premium for $0', '', 'Am I a good fit for this job?', 'How can I best position myself for this job?', 'Tell me more about Blue Cros...'] 2960\n"
     ]
    },
    {
     "name": "stderr",
     "output_type": "stream",
     "text": [
      "INFO:li:scraper:('[][United States][20]', 'Processed')\n"
     ]
    },
    {
     "name": "stdout",
     "output_type": "stream",
     "text": [
      "job_scan_24_07_18.csv\n",
      "[ON_DATA] 3979027531 Senior Manager, Strategic Portfolio Management Blue Cross NC 2024-07-17 https://www.linkedin.com/jobs/view/3979027531/?eBP=NON_CHARGEABLE_CHANNEL&refId=f%2Fqv3f0StxeGZHKtJeDyOQ%3D%3D&trackingId=RAwq8yKpgWX9qB8XiKfAqA%3D%3D&trk=flagship3_search_srp_jobs ['$117.2K/yr - $222.5K/yr On-site Full-time Mid-Senior level', '5,001-10,000 employees · Insurance', 'Skills: Capital Allocation, Investment Banking, +8 more', 'See recent hiring trends for Bluecrossnc-LL. Try Premium for $0'] 3317\n"
     ]
    },
    {
     "name": "stderr",
     "output_type": "stream",
     "text": [
      "INFO:li:scraper:('[][United States][21]', 'Processed')\n"
     ]
    },
    {
     "name": "stdout",
     "output_type": "stream",
     "text": [
      "job_scan_24_07_18.csv\n",
      "[ON_DATA] 3958756183 Consulting Actuary - Medicare Part D Blue Cross NC 2024-05-31 https://www.linkedin.com/jobs/view/3958756183/?eBP=NON_CHARGEABLE_CHANNEL&refId=f%2Fqv3f0StxeGZHKtJeDyOQ%3D%3D&trackingId=qWJEevkxlMYGa9l3Qqjcqg%3D%3D&trk=flagship3_search_srp_jobs ['$105.5K/yr - $200.5K/yr On-site Full-time Mid-Senior level', '5,001-10,000 employees · Insurance', 'Skills: Actuarial Science, Actuaries, +8 more', 'See recent hiring trends for Bluecrossnc-LL. Try Premium for $0'] 1943\n"
     ]
    },
    {
     "name": "stderr",
     "output_type": "stream",
     "text": [
      "INFO:li:scraper:('[][United States][22]', 'Processed')\n"
     ]
    },
    {
     "name": "stdout",
     "output_type": "stream",
     "text": [
      "job_scan_24_07_18.csv\n",
      "[ON_DATA] 3945998756 Principal Data & Analytics Governance Analyst Blue Cross NC 2024-06-10 https://www.linkedin.com/jobs/view/3945998756/?eBP=NON_CHARGEABLE_CHANNEL&refId=f%2Fqv3f0StxeGZHKtJeDyOQ%3D%3D&trackingId=VLu22jlEzGMdC%2BAYxd4ZoA%3D%3D&trk=flagship3_search_srp_jobs ['$91.1K/yr - $164K/yr Full-time Mid-Senior level', '5,001-10,000 employees · Insurance', 'Skills: Analytics, Analytical Skills, +6 more', 'See recent hiring trends for Bluecrossnc-LL. Try Premium for $0', '', 'Am I a good fit for this job?', 'How can I best position myself for this job?', 'Tell me more about Blue Cros...'] 1792\n"
     ]
    },
    {
     "name": "stderr",
     "output_type": "stream",
     "text": [
      "INFO:li:scraper:('[][United States][23]', 'Processed')\n"
     ]
    },
    {
     "name": "stdout",
     "output_type": "stream",
     "text": [
      "job_scan_24_07_18.csv\n",
      "[ON_DATA] 3942259594 Principal Logical Data Modeler Blue Cross NC 2024-06-04 https://www.linkedin.com/jobs/view/3942259594/?eBP=NON_CHARGEABLE_CHANNEL&refId=f%2Fqv3f0StxeGZHKtJeDyOQ%3D%3D&trackingId=2OPrbHE%2BWx7bXhEYTU1FYQ%3D%3D&trk=flagship3_search_srp_jobs ['$105.6K/yr - $191.8K/yr Full-time Mid-Senior level', '5,001-10,000 employees · Insurance', 'Skills: Data Models, Data Modeling, +8 more', 'See recent hiring trends for Bluecrossnc-LL. Try Premium for $0', '', 'Am I a good fit for this job?', 'How can I best position myself for this job?', 'Tell me more about Blue Cros...'] 3626\n"
     ]
    },
    {
     "name": "stderr",
     "output_type": "stream",
     "text": [
      "INFO:li:scraper:('[][United States][24]', 'Processed')\n"
     ]
    },
    {
     "name": "stdout",
     "output_type": "stream",
     "text": [
      "job_scan_24_07_18.csv\n",
      "[ON_DATA] 3975518358 Clinical Coding Analyst Blue Cross NC 2024-07-12 https://www.linkedin.com/jobs/view/3975518358/?eBP=NON_CHARGEABLE_CHANNEL&refId=f%2Fqv3f0StxeGZHKtJeDyOQ%3D%3D&trackingId=33uTILRDHiwaTqKRdNB52g%3D%3D&trk=flagship3_search_srp_jobs ['On-site Full-time Mid-Senior level', '5,001-10,000 employees · Insurance', 'Skills: Licensed Practical Nurse (LPN), Resource Allocation, +2 more', 'See recent hiring trends for Bluecrossnc-LL. Try Premium for $0', '', 'Am I a good fit for this job?', 'How can I best position myself for this job?', 'Tell me more about Blue Cros...'] 2740\n"
     ]
    },
    {
     "name": "stderr",
     "output_type": "stream",
     "text": [
      "INFO:li:scraper:('[][United States][25]', 'Processed')\n",
      "INFO:li:scraper:('[][United States]', 'No more jobs to process in this page')\n",
      "INFO:li:scraper:('[][United States]', 'Metrics:', '{ processed: 25, failed: 0, missed: 0, skipped: 0 }')\n",
      "INFO:li:scraper:('[][United States]', 'Pagination requested [1]')\n",
      "INFO:li:scraper:('[][United States]', 'Opening https://www.linkedin.com/jobs/search?location=United+States&f_C=162663&start=25')\n",
      "INFO:li:scraper:('[][United States]', 'Waiting for new jobs to load')\n"
     ]
    },
    {
     "name": "stdout",
     "output_type": "stream",
     "text": [
      "job_scan_24_07_18.csv\n",
      "[ON_DATA] 3972932853 Team Leader, Compliance Blue Cross NC 2024-07-10 https://www.linkedin.com/jobs/view/3972932853/?eBP=NON_CHARGEABLE_CHANNEL&refId=f%2Fqv3f0StxeGZHKtJeDyOQ%3D%3D&trackingId=VziMnGS%2FN2xpwfpFnc4XrQ%3D%3D&trk=flagship3_search_srp_jobs ['$69K/yr - $124.2K/yr On-site Full-time Mid-Senior level', '5,001-10,000 employees · Insurance', 'Skills: Medicare, Timelines, +8 more', 'See recent hiring trends for Bluecrossnc-LL. Try Premium for $0', '', 'Am I a good fit for this job?', 'How can I best position myself for this job?', 'Tell me more about Blue Cros...'] 2794\n"
     ]
    },
    {
     "name": "stderr",
     "output_type": "stream",
     "text": [
      "INFO:li:scraper:('[][United States]', 'Session is valid')\n",
      "INFO:li:scraper:('[][United States][26]', 'Processed')\n"
     ]
    },
    {
     "name": "stdout",
     "output_type": "stream",
     "text": [
      "job_scan_24_07_18.csv\n",
      "[ON_DATA] 3974399214 Manager, Analytics Blue Cross NC  https://www.linkedin.com/jobs/view/3974399214/?eBP=NON_CHARGEABLE_CHANNEL&refId=PInPb5eHCicBRSNpG8IPTQ%3D%3D&trackingId=SIEjgIwNciUFxK7r%2FHA00Q%3D%3D&trk=flagship3_search_srp_jobs ['Full-time Mid-Senior level', '5,001-10,000 employees · Insurance', 'Skills: Analytics, Analytical Skills, +6 more', 'See recent hiring trends for Bluecrossnc-LL. Try Premium for $0', '', 'Am I a good fit for this job?', 'How can I best position myself for this job?', 'Tell me more about Blue Cros...'] 2019\n"
     ]
    },
    {
     "name": "stderr",
     "output_type": "stream",
     "text": [
      "INFO:li:scraper:('[][United States][27]', 'Processed')\n"
     ]
    },
    {
     "name": "stdout",
     "output_type": "stream",
     "text": [
      "job_scan_24_07_18.csv\n",
      "[ON_DATA] 3964005054 Sr Business Systems Analyst Blue Cross NC 2024-07-01 https://www.linkedin.com/jobs/view/3964005054/?eBP=NON_CHARGEABLE_CHANNEL&refId=PInPb5eHCicBRSNpG8IPTQ%3D%3D&trackingId=M3tGx9UPG7Mwu6s1h2gWmw%3D%3D&trk=flagship3_search_srp_jobs ['$75.9K/yr - $136.6K/yr Hybrid Full-time Mid-Senior level', '5,001-10,000 employees · Insurance', 'Skills: Communication, Written Communication, +8 more', 'See recent hiring trends for Bluecrossnc-LL. Try Premium for $0', '', 'Am I a good fit for this job?', 'How can I best position myself for this job?', 'Tell me more about Blue Cros...'] 5084\n"
     ]
    },
    {
     "name": "stderr",
     "output_type": "stream",
     "text": [
      "INFO:li:scraper:('[][United States][28]', 'Processed')\n"
     ]
    },
    {
     "name": "stdout",
     "output_type": "stream",
     "text": [
      "job_scan_24_07_18.csv\n",
      "[ON_DATA] 3955408336 Sr Actuarial Analyst Blue Cross NC 2024-06-20 https://www.linkedin.com/jobs/view/3955408336/?eBP=NON_CHARGEABLE_CHANNEL&refId=PInPb5eHCicBRSNpG8IPTQ%3D%3D&trackingId=UBmY5NaSmg2RIkDmiQOx2w%3D%3D&trk=flagship3_search_srp_jobs ['$75.9K/yr - $136.6K/yr Hybrid Full-time Mid-Senior level', '5,001-10,000 employees · Insurance', 'Skills: Actuarial Exams, Actuarial Science, +8 more', 'See how you compare to 3 applicants. Try Premium for $0', '', 'Am I a good fit for this job?', 'How can I best position myself for this job?', 'Tell me more about Blue Cros...'] 1879\n"
     ]
    },
    {
     "name": "stderr",
     "output_type": "stream",
     "text": [
      "INFO:li:scraper:('[][United States][29]', 'Processed')\n"
     ]
    },
    {
     "name": "stdout",
     "output_type": "stream",
     "text": [
      "job_scan_24_07_18.csv\n",
      "[ON_DATA] 3908067120 Principal Project/Program Manager, Medicare Pharmacy Blue Cross NC 2024-04-23 https://www.linkedin.com/jobs/view/3908067120/?eBP=NON_CHARGEABLE_CHANNEL&refId=PInPb5eHCicBRSNpG8IPTQ%3D%3D&trackingId=L3%2FumtMY6kOMAT5CjYIj7Q%3D%3D&trk=flagship3_search_srp_jobs ['$91.1K/yr - $164K/yr On-site Full-time Mid-Senior level', '5,001-10,000 employees · Insurance', 'Skills: Customer Satisfaction, Project Plans, +8 more', 'See recent hiring trends for Bluecrossnc-LL. Try Premium for $0', '', 'Am I a good fit for this job?', 'How can I best position myself for this job?', 'Tell me more about Blue Cros...'] 3472\n"
     ]
    },
    {
     "name": "stderr",
     "output_type": "stream",
     "text": [
      "INFO:li:scraper:('[][United States][30]', 'Skipped because promoted')\n",
      "INFO:li:scraper:('[][United States][31]', 'Skipped because promoted')\n",
      "INFO:li:scraper:('[][United States][32]', 'Skipped because promoted')\n",
      "INFO:li:scraper:('[][United States]', 'No more jobs to process in this page')\n",
      "INFO:li:scraper:('[][United States]', 'Metrics:', '{ processed: 29, failed: 0, missed: 18, skipped: 3 }')\n",
      "INFO:li:scraper:('[][United States]', 'Pagination requested [2]')\n",
      "INFO:li:scraper:('[][United States]', 'Opening https://www.linkedin.com/jobs/search?location=United+States&f_C=162663&start=50')\n",
      "INFO:li:scraper:('[][United States]', 'Waiting for new jobs to load')\n",
      "INFO:li:scraper:('[][United States]', \"Couldn't find more jobs for the running query\")\n"
     ]
    },
    {
     "name": "stdout",
     "output_type": "stream",
     "text": [
      "[ON_END]\n"
     ]
    },
    {
     "name": "stderr",
     "output_type": "stream",
     "text": [
      "INFO:li:scraper:('Starting new query', \"Query(query= options=QueryOptions(limit=1000 locations=['United States'] filters=QueryFilters(company_jobs_url=https://www.linkedin.com/jobs/search/?f_C=8195786&geoId=92000000&origin=COMPANY_PAGE_JOBS_CLUSTER_EXPANSION&originToLandingJobPostings=3970188635%2C3970196235) apply_link=False skip_promoted_jobs=True page_offset=0))\")\n",
      "INFO:li:scraper:('Chrome debugger url', 'http://localhost:52809')\n",
      "INFO:li:scraper:('Websocket debugger url: ', 'ws://localhost:52809/devtools/page/71AC32FDFC2A98EF72A9737A2F8A68BE')\n",
      "INFO:li:scraper:('[][United States]', 'Setting authentication cookie')\n",
      "INFO:li:scraper:('[][United States]', 'Opening https://www.linkedin.com/jobs/search?location=United+States&f_C=8195786&start=0')\n",
      "INFO:li:scraper:('[][United States]', 'Session is valid')\n",
      "INFO:li:scraper:('[][United States]', 'No jobs found, skip')\n"
     ]
    },
    {
     "name": "stdout",
     "output_type": "stream",
     "text": [
      "[ON_END]\n"
     ]
    },
    {
     "name": "stderr",
     "output_type": "stream",
     "text": [
      "INFO:li:scraper:('Starting new query', \"Query(query= options=QueryOptions(limit=1000 locations=['United States'] filters=QueryFilters(company_jobs_url=https://www.linkedin.com/jobs/search/?f_C=10292265%2C288165%2C43644&geoId=92000000&origin=COMPANY_PAGE_JOBS_CLUSTER_EXPANSION&originToLandingJobPostings=3974083415%2C3963240819%2C3963242481%2C3963244174%2C3971831654%2C3963242486%2C3963244164%2C3977455115%2C3963241521) apply_link=False skip_promoted_jobs=True page_offset=0))\")\n",
      "INFO:li:scraper:('Chrome debugger url', 'http://localhost:52857')\n",
      "INFO:li:scraper:('Websocket debugger url: ', 'ws://localhost:52857/devtools/page/50A8B3E992E68F972FB79BAB176774B0')\n",
      "INFO:li:scraper:('[][United States]', 'Setting authentication cookie')\n",
      "INFO:li:scraper:('[][United States]', 'Opening https://www.linkedin.com/jobs/search?location=United+States&f_C=10292265%2C288165%2C43644&start=0')\n",
      "INFO:li:scraper:('[][United States]', 'Session is valid')\n",
      "INFO:li:scraper:('[][United States][1]', 'Processed')\n"
     ]
    },
    {
     "name": "stdout",
     "output_type": "stream",
     "text": [
      "job_scan_24_07_18.csv\n",
      "[ON_DATA] 3974083415 Laboratory Assistant with verification Altasciences  https://www.linkedin.com/jobs/view/3974083415/?eBP=NON_CHARGEABLE_CHANNEL&refId=Z2QB%2FS01q8nrfxf1flYGEg%3D%3D&trackingId=FEZjJ6lzWTpep9%2FsjCcLIg%3D%3D&trk=flagship3_search_srp_jobs ['$21/hr - $24/hr Full-time Entry level', '1,001-5,000 employees · Research Services', 'Skills: Laboratory Equipment, Green Loan Principles (GLP), +8 more', 'See how you compare to 8 applicants. Try Premium for $0', '', 'Am I a good fit for this job?', 'How can I best position myself for this job?', 'Tell me more about Altasciences'] 3639\n"
     ]
    },
    {
     "name": "stderr",
     "output_type": "stream",
     "text": [
      "INFO:li:scraper:('[][United States][2]', 'Processed')\n"
     ]
    },
    {
     "name": "stdout",
     "output_type": "stream",
     "text": [
      "job_scan_24_07_18.csv\n",
      "[ON_DATA] 3963240819 Laboratory Accessioner with verification Altasciences 2024-06-29 https://www.linkedin.com/jobs/view/3963240819/?eBP=NON_CHARGEABLE_CHANNEL&refId=Z2QB%2FS01q8nrfxf1flYGEg%3D%3D&trackingId=MeNL5cRvFyaBXh0bufe7TA%3D%3D&trk=flagship3_search_srp_jobs ['$18.35/hr - $22.61/hr Full-time Entry level', '1,001-5,000 employees · Research Services', 'Skills: Spelling, Requisitions, +8 more', 'See how you compare to 25 applicants. Try Premium for $0', '', 'Am I a good fit for this job?', 'How can I best position myself for this job?', 'Tell me more about Altasciences'] 3623\n"
     ]
    },
    {
     "name": "stderr",
     "output_type": "stream",
     "text": [
      "INFO:li:scraper:('[][United States][3]', 'Processed')\n"
     ]
    },
    {
     "name": "stdout",
     "output_type": "stream",
     "text": [
      "job_scan_24_07_18.csv\n",
      "[ON_DATA] 3963242481 Animal Care Technician I with verification Altasciences 2024-06-29 https://www.linkedin.com/jobs/view/3963242481/?eBP=NON_CHARGEABLE_CHANNEL&refId=Z2QB%2FS01q8nrfxf1flYGEg%3D%3D&trackingId=4MSD%2BfTkLd98AWtunS8yxw%3D%3D&trk=flagship3_search_srp_jobs ['$19.50/hr - $24/hr Full-time Entry level', '1,001-5,000 employees · Research Services', 'Skills: Animal Science, Animal Behavior, +7 more', 'See recent hiring trends for Altasciences. Try Premium for $0', '', 'Am I a good fit for this job?', 'How can I best position myself for this job?', 'Tell me more about Altasciences'] 3903\n"
     ]
    },
    {
     "name": "stderr",
     "output_type": "stream",
     "text": [
      "INFO:li:scraper:('[][United States][4]', 'Processed')\n"
     ]
    },
    {
     "name": "stdout",
     "output_type": "stream",
     "text": [
      "job_scan_24_07_18.csv\n",
      "[ON_DATA] 3971831654 Study Coordinator I with verification Altasciences 2024-07-10 https://www.linkedin.com/jobs/view/3971831654/?eBP=NON_CHARGEABLE_CHANNEL&refId=Z2QB%2FS01q8nrfxf1flYGEg%3D%3D&trackingId=FfllwFtelfysokSxdMq8RA%3D%3D&trk=flagship3_search_srp_jobs ['$22/hr - $26/hr Full-time Entry level', '1,001-5,000 employees · Research Services', 'Skills: Green Loan Principles (GLP), Client Relations, +8 more', 'See how you compare to 23 applicants. Try Premium for $0'] 5002\n"
     ]
    },
    {
     "name": "stderr",
     "output_type": "stream",
     "text": [
      "INFO:li:scraper:('[][United States][5]', 'Processed')\n"
     ]
    },
    {
     "name": "stdout",
     "output_type": "stream",
     "text": [
      "job_scan_24_07_18.csv\n",
      "[ON_DATA] 3963242486 Study Coordinator I with verification Altasciences 2024-06-29 https://www.linkedin.com/jobs/view/3963242486/?eBP=NON_CHARGEABLE_CHANNEL&refId=Z2QB%2FS01q8nrfxf1flYGEg%3D%3D&trackingId=zY7h%2FhUzWg2Wh%2F0cXQiIHA%3D%3D&trk=flagship3_search_srp_jobs ['$22/hr - $26/hr Full-time Entry level', '1,001-5,000 employees · Research Services', 'Skills: Green Loan Principles (GLP), Client Relations, +8 more', 'See how you compare to 23 applicants. Try Premium for $0'] 4979\n"
     ]
    },
    {
     "name": "stderr",
     "output_type": "stream",
     "text": [
      "INFO:li:scraper:('[][United States][6]', 'Processed')\n"
     ]
    },
    {
     "name": "stdout",
     "output_type": "stream",
     "text": [
      "job_scan_24_07_18.csv\n",
      "[ON_DATA] 3963244164 Specimen Management Technician I with verification Altasciences 2024-06-29 https://www.linkedin.com/jobs/view/3963244164/?eBP=NON_CHARGEABLE_CHANNEL&refId=Z2QB%2FS01q8nrfxf1flYGEg%3D%3D&trackingId=ITwj4LSmCtX1yJnP3znjpQ%3D%3D&trk=flagship3_search_srp_jobs ['$19/hr Full-time Entry level', '1,001-5,000 employees · Research Services', 'Skills: Green Loan Principles (GLP), Procedure Manuals, +8 more', 'See recent hiring trends for Altasciences. Try Premium for $0', '', 'Am I a good fit for this job?', 'How can I best position myself for this job?', 'Tell me more about Altasciences'] 4642\n"
     ]
    },
    {
     "name": "stderr",
     "output_type": "stream",
     "text": [
      "INFO:li:scraper:('[][United States][7]', 'Processed')\n"
     ]
    },
    {
     "name": "stdout",
     "output_type": "stream",
     "text": [
      "job_scan_24_07_18.csv\n",
      "[ON_DATA] 3977455115 Animal Care Technician with verification Altasciences 2024-07-16 https://www.linkedin.com/jobs/view/3977455115/?eBP=NON_CHARGEABLE_CHANNEL&refId=Z2QB%2FS01q8nrfxf1flYGEg%3D%3D&trackingId=cQSdfEuyLhmW0f8DSG59Mw%3D%3D&trk=flagship3_search_srp_jobs ['$19.50/hr - $24/hr Full-time Entry level', '1,001-5,000 employees · Research Services', 'Skills: Animal Care, GED, +8 more', 'See recent hiring trends for Altasciences. Try Premium for $0', '', 'Am I a good fit for this job?', 'How can I best position myself for this job?', 'Tell me more about Altasciences'] 3752\n"
     ]
    },
    {
     "name": "stderr",
     "output_type": "stream",
     "text": [
      "INFO:li:scraper:('[][United States][8]', 'Processed')\n"
     ]
    },
    {
     "name": "stdout",
     "output_type": "stream",
     "text": [
      "job_scan_24_07_18.csv\n",
      "[ON_DATA] 3963241521 Animal Facilities Technician with verification Altasciences 2024-06-29 https://www.linkedin.com/jobs/view/3963241521/?eBP=NON_CHARGEABLE_CHANNEL&refId=Z2QB%2FS01q8nrfxf1flYGEg%3D%3D&trackingId=OR7%2F64kYgMBF5iaaJzq0mA%3D%3D&trk=flagship3_search_srp_jobs ['$19.50/hr - $24/hr Full-time Entry level', '1,001-5,000 employees · Research Services', 'Skills: Green Loan Principles (GLP), Good Laboratory Practice (GLP), +7 more', 'See how you compare to 3 applicants. Try Premium for $0', '', 'Am I a good fit for this job?', 'How can I best position myself for this job?', 'Tell me more about Altasciences'] 3322\n"
     ]
    },
    {
     "name": "stderr",
     "output_type": "stream",
     "text": [
      "INFO:li:scraper:('[][United States][9]', 'Processed')\n"
     ]
    },
    {
     "name": "stdout",
     "output_type": "stream",
     "text": [
      "job_scan_24_07_18.csv\n",
      "[ON_DATA] 3963244176 Research Associate I, Scientific Services with verification Altasciences 2024-06-29 https://www.linkedin.com/jobs/view/3963244176/?eBP=NON_CHARGEABLE_CHANNEL&refId=Z2QB%2FS01q8nrfxf1flYGEg%3D%3D&trackingId=IigakoXLLs2TJ2QG56Meqg%3D%3D&trk=flagship3_search_srp_jobs ['$22.25/hr - $28.98/hr Full-time Entry level', '1,001-5,000 employees · Research Services', 'Skills: Mathematics, Basic Math, +8 more', 'See recent hiring trends for Altasciences. Try Premium for $0'] 5148\n"
     ]
    },
    {
     "name": "stderr",
     "output_type": "stream",
     "text": [
      "INFO:li:scraper:('[][United States][10]', 'Processed')\n"
     ]
    },
    {
     "name": "stdout",
     "output_type": "stream",
     "text": [
      "job_scan_24_07_18.csv\n",
      "[ON_DATA] 3963241519 Research Associate I, Scientific Services with verification Altasciences 2024-06-29 https://www.linkedin.com/jobs/view/3963241519/?eBP=NON_CHARGEABLE_CHANNEL&refId=Z2QB%2FS01q8nrfxf1flYGEg%3D%3D&trackingId=n61ltnvd%2FoZu67NYFQ6wcQ%3D%3D&trk=flagship3_search_srp_jobs ['$22.25/hr - $28.98/hr Full-time Entry level', '1,001-5,000 employees · Research Services', 'Skills: Mathematics, Computer Literacy, +8 more', 'See how you compare to 10 applicants. Try Premium for $0', '', 'Am I a good fit for this job?', 'How can I best position myself for this job?', 'Tell me more about Altasciences'] 5149\n"
     ]
    },
    {
     "name": "stderr",
     "output_type": "stream",
     "text": [
      "INFO:li:scraper:('[][United States][11]', 'Processed')\n"
     ]
    },
    {
     "name": "stdout",
     "output_type": "stream",
     "text": [
      "job_scan_24_07_18.csv\n",
      "[ON_DATA] 3963241526 Research Associate I, Scientific Services with verification Altasciences 2024-06-29 https://www.linkedin.com/jobs/view/3963241526/?eBP=NON_CHARGEABLE_CHANNEL&refId=Z2QB%2FS01q8nrfxf1flYGEg%3D%3D&trackingId=i%2BKKRzOzbl7FNT6Dp%2FZEbQ%3D%3D&trk=flagship3_search_srp_jobs ['$22.25/hr - $28.98/hr Full-time Entry level', '1,001-5,000 employees · Research Services', 'Skills: Mathematics, Computer Literacy, +8 more', 'See how you compare to 3 applicants. Try Premium for $0', '', 'Am I a good fit for this job?', 'How can I best position myself for this job?', 'Tell me more about Altasciences'] 5149\n"
     ]
    },
    {
     "name": "stderr",
     "output_type": "stream",
     "text": [
      "INFO:li:scraper:('[][United States][12]', 'Processed')\n"
     ]
    },
    {
     "name": "stdout",
     "output_type": "stream",
     "text": [
      "job_scan_24_07_18.csv\n",
      "[ON_DATA] 3963245186 Customer Service Agent - Participant Recruitment with verification Altasciences 2024-06-29 https://www.linkedin.com/jobs/view/3963245186/?eBP=NON_CHARGEABLE_CHANNEL&refId=Z2QB%2FS01q8nrfxf1flYGEg%3D%3D&trackingId=jbjv0qt9WIFL2SSHvyTA2g%3D%3D&trk=flagship3_search_srp_jobs ['Full-time Entry level', '1,001-5,000 employees · Research Services', 'Skills: Contact Centers, Social Perceptiveness, +8 more', 'See how you compare to 4 applicants. Try Premium for $0', '', 'Am I a good fit for this job?', 'How can I best position myself for this job?', 'Tell me more about Altasciences'] 4899\n"
     ]
    },
    {
     "name": "stderr",
     "output_type": "stream",
     "text": [
      "INFO:li:scraper:('[][United States][13]', 'Processed')\n"
     ]
    },
    {
     "name": "stdout",
     "output_type": "stream",
     "text": [
      "job_scan_24_07_18.csv\n",
      "[ON_DATA] 3963240817 Histology Technician II with verification Altasciences 2024-06-29 https://www.linkedin.com/jobs/view/3963240817/?eBP=NON_CHARGEABLE_CHANNEL&refId=Z2QB%2FS01q8nrfxf1flYGEg%3D%3D&trackingId=dSsiZjwODlq1zW%2FC1DjmrA%3D%3D&trk=flagship3_search_srp_jobs ['$22/hr - $29/hr Full-time Mid-Senior level', '1,001-5,000 employees · Research Services', 'Skills: Microtome, Staining, +8 more', 'See how you compare to 3 applicants. Try Premium for $0', '', 'Am I a good fit for this job?', 'How can I best position myself for this job?', 'Tell me more about Altasciences'] 4888\n"
     ]
    },
    {
     "name": "stderr",
     "output_type": "stream",
     "text": [
      "INFO:li:scraper:('[][United States][14]', 'Processed')\n"
     ]
    },
    {
     "name": "stdout",
     "output_type": "stream",
     "text": [
      "job_scan_24_07_18.csv\n",
      "[ON_DATA] 3963244172 Screening Administrative Assistant with verification Altasciences 2024-06-29 https://www.linkedin.com/jobs/view/3963244172/?eBP=NON_CHARGEABLE_CHANNEL&refId=Z2QB%2FS01q8nrfxf1flYGEg%3D%3D&trackingId=MdYgndsu16hmy9c88D88Yg%3D%3D&trk=flagship3_search_srp_jobs ['$18/hr - $21/hr Full-time Entry level', '1,001-5,000 employees · Research Services', 'Skills: GED, Confidentiality, +8 more', 'See how you compare to 32 applicants. Try Premium for $0', '', 'Am I a good fit for this job?', 'How can I best position myself for this job?', 'Tell me more about Altasciences'] 3427\n"
     ]
    },
    {
     "name": "stderr",
     "output_type": "stream",
     "text": [
      "INFO:li:scraper:('[][United States][15]', 'Processed')\n"
     ]
    },
    {
     "name": "stdout",
     "output_type": "stream",
     "text": [
      "job_scan_24_07_18.csv\n",
      "[ON_DATA] 3963241524 Participant Recruitment Agent with verification Altasciences 2024-06-29 https://www.linkedin.com/jobs/view/3963241524/?eBP=NON_CHARGEABLE_CHANNEL&refId=Z2QB%2FS01q8nrfxf1flYGEg%3D%3D&trackingId=bfki0tclljq5sr1%2FQnRWFw%3D%3D&trk=flagship3_search_srp_jobs ['$18.74/hr - $22/hr Part-time Entry level', '1,001-5,000 employees · Research Services', 'See how you compare to 11 applicants. Try Premium for $0', '', 'Am I a good fit for this job?', 'How can I best position myself for this job?', 'Tell me more about Altasciences'] 3488\n"
     ]
    },
    {
     "name": "stderr",
     "output_type": "stream",
     "text": [
      "INFO:li:scraper:('[][United States][16]', 'Processed')\n"
     ]
    },
    {
     "name": "stdout",
     "output_type": "stream",
     "text": [
      "job_scan_24_07_18.csv\n",
      "[ON_DATA] 3963246092 Research Associate I, Scientific Services with verification Altasciences 2024-06-29 https://www.linkedin.com/jobs/view/3963246092/?eBP=NON_CHARGEABLE_CHANNEL&refId=Z2QB%2FS01q8nrfxf1flYGEg%3D%3D&trackingId=Csdpn2nQBU5R%2BM0Z9CjQ8g%3D%3D&trk=flagship3_search_srp_jobs ['$21.75/hr Full-time Entry level', '1,001-5,000 employees · Research Services', 'Skills: Animal Welfare, Grief Counseling, +8 more', 'See how you compare to 6 applicants. Try Premium for $0', '', 'Am I a good fit for this job?', 'How can I best position myself for this job?', 'Tell me more about Altasciences'] 5081\n"
     ]
    },
    {
     "name": "stderr",
     "output_type": "stream",
     "text": [
      "INFO:li:scraper:('[][United States][17]', 'Processed')\n"
     ]
    },
    {
     "name": "stdout",
     "output_type": "stream",
     "text": [
      "job_scan_24_07_18.csv\n",
      "[ON_DATA] 3963242478 Research Associate II - Biomarker with verification Altasciences 2024-06-29 https://www.linkedin.com/jobs/view/3963242478/?eBP=NON_CHARGEABLE_CHANNEL&refId=Z2QB%2FS01q8nrfxf1flYGEg%3D%3D&trackingId=nIkWplZ8V1VjyTuTWEQEFg%3D%3D&trk=flagship3_search_srp_jobs ['$22.50/hr - $28/hr Full-time Entry level', '1,001-5,000 employees · Research Services', 'Skills: Procedure Manuals, Data Collection, +8 more', 'See how you compare to 14 applicants. Try Premium for $0', '', 'Am I a good fit for this job?', 'How can I best position myself for this job?', 'Tell me more about Altasciences'] 4575\n"
     ]
    },
    {
     "name": "stderr",
     "output_type": "stream",
     "text": [
      "INFO:li:scraper:('[][United States][18]', 'Processed')\n"
     ]
    },
    {
     "name": "stdout",
     "output_type": "stream",
     "text": [
      "job_scan_24_07_18.csv\n",
      "[ON_DATA] 3963242477 Inventory Coordinator with verification Altasciences 2024-06-29 https://www.linkedin.com/jobs/view/3963242477/?eBP=NON_CHARGEABLE_CHANNEL&refId=Z2QB%2FS01q8nrfxf1flYGEg%3D%3D&trackingId=fNh070nl9kip4%2F5QMvAuXA%3D%3D&trk=flagship3_search_srp_jobs ['$19.50/hr - $23/hr Full-time Mid-Senior level', '1,001-5,000 employees · Research Services', 'Skills: Chain of Custody, Inventory Control, +8 more', 'See how you compare to 8 applicants. Try Premium for $0', '', 'Am I a good fit for this job?', 'How can I best position myself for this job?', 'Tell me more about Altasciences'] 4627\n"
     ]
    },
    {
     "name": "stderr",
     "output_type": "stream",
     "text": [
      "INFO:li:scraper:('[][United States][19]', 'Processed')\n"
     ]
    },
    {
     "name": "stdout",
     "output_type": "stream",
     "text": [
      "job_scan_24_07_18.csv\n",
      "[ON_DATA] 3972902096 Scientist I with verification Altasciences 2024-07-11 https://www.linkedin.com/jobs/view/3972902096/?eBP=NON_CHARGEABLE_CHANNEL&refId=Z2QB%2FS01q8nrfxf1flYGEg%3D%3D&trackingId=0kzxzTW2EqmYLC4OvBCZWA%3D%3D&trk=flagship3_search_srp_jobs ['Full-time Entry level', '1,001-5,000 employees · Research Services', 'Skills: Analytical Instruments, Reagents, +8 more', 'See how you compare to 8 applicants. Try Premium for $0', '', 'Am I a good fit for this job?', 'How can I best position myself for this job?', 'Tell me more about Altasciences'] 4068\n"
     ]
    },
    {
     "name": "stderr",
     "output_type": "stream",
     "text": [
      "INFO:li:scraper:('[][United States][20]', 'Processed')\n"
     ]
    },
    {
     "name": "stdout",
     "output_type": "stream",
     "text": [
      "job_scan_24_07_18.csv\n",
      "[ON_DATA] 3963245183 Research Associate, Laboratory Animals with verification Altasciences 2024-06-29 https://www.linkedin.com/jobs/view/3963245183/?eBP=NON_CHARGEABLE_CHANNEL&refId=Z2QB%2FS01q8nrfxf1flYGEg%3D%3D&trackingId=4EcTAxMaCHKJ5TDNUJFkrA%3D%3D&trk=flagship3_search_srp_jobs ['Full-time Entry level', '1,001-5,000 employees · Research Services', 'Skills: Procedure Manuals, Mathematics, +8 more', 'See how you compare to 7 applicants. Try Premium for $0', '', 'Am I a good fit for this job?', 'How can I best position myself for this job?', 'Tell me more about Altasciences'] 5770\n"
     ]
    },
    {
     "name": "stderr",
     "output_type": "stream",
     "text": [
      "INFO:li:scraper:('[][United States][21]', 'Processed')\n"
     ]
    },
    {
     "name": "stdout",
     "output_type": "stream",
     "text": [
      "job_scan_24_07_18.csv\n",
      "[ON_DATA] 3963245193 Research Associate II, Laboratory Animals with verification Altasciences 2024-06-29 https://www.linkedin.com/jobs/view/3963245193/?eBP=NON_CHARGEABLE_CHANNEL&refId=Z2QB%2FS01q8nrfxf1flYGEg%3D%3D&trackingId=Nbsx7i0YlywIGimb%2Fcm80A%3D%3D&trk=flagship3_search_srp_jobs ['$23.25/hr - $29/hr Full-time Entry level', '1,001-5,000 employees · Research Services', 'Skills: Procedure Manuals, Mathematics, +6 more', 'See how you compare to 21 applicants. Try Premium for $0', '', 'Am I a good fit for this job?', 'How can I best position myself for this job?', 'Tell me more about Altasciences'] 5827\n"
     ]
    },
    {
     "name": "stderr",
     "output_type": "stream",
     "text": [
      "INFO:li:scraper:('[][United States][22]', 'Processed')\n"
     ]
    },
    {
     "name": "stdout",
     "output_type": "stream",
     "text": [
      "job_scan_24_07_18.csv\n",
      "[ON_DATA] 3963245190 Pathology Associate I with verification Altasciences 2024-06-29 https://www.linkedin.com/jobs/view/3963245190/?eBP=NON_CHARGEABLE_CHANNEL&refId=Z2QB%2FS01q8nrfxf1flYGEg%3D%3D&trackingId=ESewJStvq9sJExkrQeeTgg%3D%3D&trk=flagship3_search_srp_jobs ['$21.73/hr - $25/hr Full-time Entry level', '1,001-5,000 employees · Research Services', 'Skills: Green Loan Principles (GLP), Biology, +7 more', 'See how you compare to 7 applicants. Try Premium for $0', '', 'Am I a good fit for this job?', 'How can I best position myself for this job?', 'Tell me more about Altasciences'] 5686\n"
     ]
    },
    {
     "name": "stderr",
     "output_type": "stream",
     "text": [
      "INFO:li:scraper:('[][United States][23]', 'Processed')\n"
     ]
    },
    {
     "name": "stdout",
     "output_type": "stream",
     "text": [
      "job_scan_24_07_18.csv\n",
      "[ON_DATA] 3963244175 Research Associate Lead with verification Altasciences 2024-06-29 https://www.linkedin.com/jobs/view/3963244175/?eBP=NON_CHARGEABLE_CHANNEL&refId=Z2QB%2FS01q8nrfxf1flYGEg%3D%3D&trackingId=X37PrNr%2Bc0X0SLA%2FNjjR9w%3D%3D&trk=flagship3_search_srp_jobs ['Full-time Entry level', '1,001-5,000 employees · Research Services', 'Skills: Communication, Team Leadership, +1 more', 'See how you compare to 10 applicants. Try Premium for $0', '', 'Am I a good fit for this job?', 'How can I best position myself for this job?', 'Tell me more about Altasciences'] 1521\n"
     ]
    },
    {
     "name": "stderr",
     "output_type": "stream",
     "text": [
      "INFO:li:scraper:('[][United States][24]', 'Processed')\n"
     ]
    },
    {
     "name": "stdout",
     "output_type": "stream",
     "text": [
      "job_scan_24_07_18.csv\n",
      "[ON_DATA] 3963245187 Research Laboratory Technician with verification Altasciences 2024-06-29 https://www.linkedin.com/jobs/view/3963245187/?eBP=NON_CHARGEABLE_CHANNEL&refId=Z2QB%2FS01q8nrfxf1flYGEg%3D%3D&trackingId=Lpp7jntikXH5QapjAftWMw%3D%3D&trk=flagship3_search_srp_jobs ['Full-time Entry level', '1,001-5,000 employees · Research Services', 'Skills: Green Loan Principles (GLP), Staff Oversight, +8 more', 'See how you compare to 12 applicants. Try Premium for $0', '', 'Am I a good fit for this job?', 'How can I best position myself for this job?', 'Tell me more about Altasciences'] 7154\n"
     ]
    },
    {
     "name": "stderr",
     "output_type": "stream",
     "text": [
      "INFO:li:scraper:('[][United States][25]', 'Processed')\n",
      "INFO:li:scraper:('[][United States]', 'No more jobs to process in this page')\n",
      "INFO:li:scraper:('[][United States]', 'Metrics:', '{ processed: 25, failed: 0, missed: 0, skipped: 0 }')\n",
      "INFO:li:scraper:('[][United States]', 'Pagination requested [1]')\n",
      "INFO:li:scraper:('[][United States]', 'Opening https://www.linkedin.com/jobs/search?location=United+States&f_C=10292265%2C288165%2C43644&start=25')\n",
      "INFO:li:scraper:('[][United States]', 'Waiting for new jobs to load')\n"
     ]
    },
    {
     "name": "stdout",
     "output_type": "stream",
     "text": [
      "job_scan_24_07_18.csv\n",
      "[ON_DATA] 3978059069 Pathology Associate I with verification Altasciences 2024-07-17 https://www.linkedin.com/jobs/view/3978059069/?eBP=NON_CHARGEABLE_CHANNEL&refId=Z2QB%2FS01q8nrfxf1flYGEg%3D%3D&trackingId=%2BwPa3D3Qy%2BwqFDux%2BgYdxw%3D%3D&trk=flagship3_search_srp_jobs ['$21.73/hr - $25/hr Full-time Entry level', '1,001-5,000 employees · Research Services', 'Skills: Green Loan Principles (GLP), Biology, +7 more', 'See recent hiring trends for Altasciences. Try Premium for $0', '', 'Am I a good fit for this job?', 'How can I best position myself for this job?', 'Tell me more about Altasciences'] 5686\n"
     ]
    },
    {
     "name": "stderr",
     "output_type": "stream",
     "text": [
      "INFO:li:scraper:('[][United States]', 'Session is valid')\n",
      "INFO:li:scraper:('[][United States][26]', 'Processed')\n"
     ]
    },
    {
     "name": "stdout",
     "output_type": "stream",
     "text": [
      "job_scan_24_07_18.csv\n",
      "[ON_DATA] 3964767156 Research Associate II, DCA with verification Altasciences  https://www.linkedin.com/jobs/view/3964767156/?eBP=NON_CHARGEABLE_CHANNEL&refId=mD7gBi5vWprnZinv%2BF8Hww%3D%3D&trackingId=8tAH%2FTuFDrEZiAgOLsooLA%3D%3D&trk=flagship3_search_srp_jobs ['$21/hr - $29/hr Full-time Mid-Senior level', '1,001-5,000 employees · Research Services', 'Skills: Good Laboratory Practice (GLP), Basic Math, +8 more', 'See how you compare to 6 applicants. Try Premium for $0', '', 'Am I a good fit for this job?', 'How can I best position myself for this job?', 'Tell me more about Altasciences'] 4280\n"
     ]
    },
    {
     "name": "stderr",
     "output_type": "stream",
     "text": [
      "INFO:li:scraper:('[][United States][27]', 'Processed')\n"
     ]
    },
    {
     "name": "stdout",
     "output_type": "stream",
     "text": [
      "job_scan_24_07_18.csv\n",
      "[ON_DATA] 3963242476 Research Associate II with verification Altasciences 2024-06-29 https://www.linkedin.com/jobs/view/3963242476/?eBP=NON_CHARGEABLE_CHANNEL&refId=mD7gBi5vWprnZinv%2BF8Hww%3D%3D&trackingId=6I5%2FEkSTNyFD%2BglFm6xpWg%3D%3D&trk=flagship3_search_srp_jobs ['$22.50/hr - $28/hr Full-time Entry level', '1,001-5,000 employees · Research Services', 'Skills: Procedure Manuals, ELISA, +8 more', 'See how you compare to 17 applicants. Try Premium for $0', '', 'Am I a good fit for this job?', 'How can I best position myself for this job?', 'Tell me more about Altasciences'] 4142\n"
     ]
    },
    {
     "name": "stderr",
     "output_type": "stream",
     "text": [
      "INFO:li:scraper:('[][United States][28]', 'Processed')\n"
     ]
    },
    {
     "name": "stdout",
     "output_type": "stream",
     "text": [
      "job_scan_24_07_18.csv\n",
      "[ON_DATA] 3968562549 Histology Technician II with verification Altasciences 2024-07-05 https://www.linkedin.com/jobs/view/3968562549/?eBP=NON_CHARGEABLE_CHANNEL&refId=mD7gBi5vWprnZinv%2BF8Hww%3D%3D&trackingId=jpEoMIWYC9QLK8hgG%2BbzeA%3D%3D&trk=flagship3_search_srp_jobs ['Part-time Entry level', '1,001-5,000 employees · Research Services', 'Skills: Microtome, Staining, +6 more', 'See recent hiring trends for Altasciences. Try Premium for $0', '', 'Am I a good fit for this job?', 'How can I best position myself for this job?', 'Tell me more about Altasciences'] 4574\n"
     ]
    },
    {
     "name": "stderr",
     "output_type": "stream",
     "text": [
      "INFO:li:scraper:('[][United States][29]', 'Processed')\n"
     ]
    },
    {
     "name": "stdout",
     "output_type": "stream",
     "text": [
      "job_scan_24_07_18.csv\n",
      "[ON_DATA] 3963246094 Research Associate II, Formulations with verification Altasciences 2024-06-29 https://www.linkedin.com/jobs/view/3963246094/?eBP=NON_CHARGEABLE_CHANNEL&refId=mD7gBi5vWprnZinv%2BF8Hww%3D%3D&trackingId=RjEQJy9KXuJskOnsesvneQ%3D%3D&trk=flagship3_search_srp_jobs ['$21.73/hr - $28.98/hr Full-time Entry level', '1,001-5,000 employees · Research Services', 'Skills: Sampling, Mathematics, +8 more', 'See how you compare to 8 applicants. Try Premium for $0', '', 'Am I a good fit for this job?', 'How can I best position myself for this job?', 'Tell me more about Altasciences'] 4991\n"
     ]
    },
    {
     "name": "stderr",
     "output_type": "stream",
     "text": [
      "INFO:li:scraper:('[][United States][30]', 'Processed')\n"
     ]
    },
    {
     "name": "stdout",
     "output_type": "stream",
     "text": [
      "job_scan_24_07_18.csv\n",
      "[ON_DATA] 3963239979 Pathology Associate III with verification Altasciences 2024-06-29 https://www.linkedin.com/jobs/view/3963239979/?eBP=NON_CHARGEABLE_CHANNEL&refId=mD7gBi5vWprnZinv%2BF8Hww%3D%3D&trackingId=kbywTIbm4tJQexUS8ctQ%2BA%3D%3D&trk=flagship3_search_srp_jobs ['$21.73/hr - $25/hr Full-time Entry level', '1,001-5,000 employees · Research Services', 'Skills: Green Loan Principles (GLP), Biology, +8 more', 'See recent hiring trends for Altasciences. Try Premium for $0', '', 'Am I a good fit for this job?', 'How can I best position myself for this job?', 'Tell me more about Altasciences'] 5685\n"
     ]
    },
    {
     "name": "stderr",
     "output_type": "stream",
     "text": [
      "INFO:li:scraper:('[][United States][31]', 'Processed')\n"
     ]
    },
    {
     "name": "stdout",
     "output_type": "stream",
     "text": [
      "job_scan_24_07_18.csv\n",
      "[ON_DATA] 3963243503 Client Coordinator with verification Altasciences 2024-06-29 https://www.linkedin.com/jobs/view/3963243503/?eBP=NON_CHARGEABLE_CHANNEL&refId=mD7gBi5vWprnZinv%2BF8Hww%3D%3D&trackingId=G9XxaeTDa0CTggBQ677%2FHw%3D%3D&trk=flagship3_search_srp_jobs ['$25.21/hr - $33.60/hr Full-time Mid-Senior level', '1,001-5,000 employees · Research Services', 'Skills: Mathematics, Contract Research Organization (CRO), +8 more', 'See how you compare to 6 applicants. Try Premium for $0', '', 'Am I a good fit for this job?', 'How can I best position myself for this job?', 'Tell me more about Altasciences'] 5491\n"
     ]
    },
    {
     "name": "stderr",
     "output_type": "stream",
     "text": [
      "INFO:li:scraper:('[][United States][32]', 'Processed')\n"
     ]
    },
    {
     "name": "stdout",
     "output_type": "stream",
     "text": [
      "job_scan_24_07_18.csv\n",
      "[ON_DATA] 3963239978 Scientist I with verification Altasciences 2024-06-29 https://www.linkedin.com/jobs/view/3963239978/?eBP=NON_CHARGEABLE_CHANNEL&refId=mD7gBi5vWprnZinv%2BF8Hww%3D%3D&trackingId=XM5DePgzxq3NSlOWnxo%2BAA%3D%3D&trk=flagship3_search_srp_jobs ['$90K/yr - $110K/yr Full-time Mid-Senior level', '1,001-5,000 employees · Research Services', 'Skills: GraphPad Prism, Green Loan Principles (GLP), +8 more', 'See how you compare to 30 applicants. Try Premium for $0', '', 'Am I a good fit for this job?', 'How can I best position myself for this job?', 'Tell me more about Altasciences'] 4463\n"
     ]
    },
    {
     "name": "stderr",
     "output_type": "stream",
     "text": [
      "INFO:li:scraper:('[][United States][33]', 'Processed')\n"
     ]
    },
    {
     "name": "stdout",
     "output_type": "stream",
     "text": [
      "job_scan_24_07_18.csv\n",
      "[ON_DATA] 3963239975 Clinical Quality Control Associate I with verification Altasciences 2024-06-29 https://www.linkedin.com/jobs/view/3963239975/?eBP=NON_CHARGEABLE_CHANNEL&refId=mD7gBi5vWprnZinv%2BF8Hww%3D%3D&trackingId=Zc8LaVUaabQO1jGlSxuI0A%3D%3D&trk=flagship3_search_srp_jobs ['Full-time Entry level', '1,001-5,000 employees · Research Services', 'Skills: Quality Control, General Administration, +8 more', 'See how you compare to 11 applicants. Try Premium for $0', '', 'Am I a good fit for this job?', 'How can I best position myself for this job?', 'Tell me more about Altasciences'] 3379\n"
     ]
    },
    {
     "name": "stderr",
     "output_type": "stream",
     "text": [
      "INFO:li:scraper:('[][United States][34]', 'Processed')\n"
     ]
    },
    {
     "name": "stdout",
     "output_type": "stream",
     "text": [
      "job_scan_24_07_18.csv\n",
      "[ON_DATA] 3963040990 Research Associate I with verification Altasciences 2024-07-01 https://www.linkedin.com/jobs/view/3963040990/?eBP=NON_CHARGEABLE_CHANNEL&refId=mD7gBi5vWprnZinv%2BF8Hww%3D%3D&trackingId=CteQWnx5Lug5o7zAVYqGeg%3D%3D&trk=flagship3_search_srp_jobs ['Full-time Entry level', '1,001-5,000 employees · Research Services', 'Skills: Procedure Manuals, Real-Time Polymerase Chain Reaction (qPCR), +8 more', 'See how you compare to 11 applicants. Try Premium for $0'] 3853\n"
     ]
    },
    {
     "name": "stderr",
     "output_type": "stream",
     "text": [
      "INFO:li:scraper:('[][United States][35]', 'Processed')\n"
     ]
    },
    {
     "name": "stdout",
     "output_type": "stream",
     "text": [
      "job_scan_24_07_18.csv\n",
      "[ON_DATA] 3963043722 Facilities, Housekeeper with verification Altasciences 2024-07-04 https://www.linkedin.com/jobs/view/3963043722/?eBP=NON_CHARGEABLE_CHANNEL&refId=mD7gBi5vWprnZinv%2BF8Hww%3D%3D&trackingId=KuEk3taegRWfMlEQdBWvQw%3D%3D&trk=flagship3_search_srp_jobs ['Full-time Entry level', '1,001-5,000 employees · Research Services', 'Skills: Laundry, Housekeeping, +8 more', 'See recent hiring trends for Altasciences. Try Premium for $0', '', 'Am I a good fit for this job?', 'How can I best position myself for this job?', 'Tell me more about Altasciences'] 3507\n"
     ]
    },
    {
     "name": "stderr",
     "output_type": "stream",
     "text": [
      "INFO:li:scraper:('[][United States][36]', 'Processed')\n"
     ]
    },
    {
     "name": "stdout",
     "output_type": "stream",
     "text": [
      "job_scan_24_07_18.csv\n",
      "[ON_DATA] 3963244180 Scientist II, Flow Cytometry with verification Altasciences 2024-06-29 https://www.linkedin.com/jobs/view/3963244180/?eBP=NON_CHARGEABLE_CHANNEL&refId=mD7gBi5vWprnZinv%2BF8Hww%3D%3D&trackingId=mnDAqnsJPB7E9zzr%2B5%2BrEA%3D%3D&trk=flagship3_search_srp_jobs ['$72K/yr - $115K/yr Full-time Mid-Senior level', '1,001-5,000 employees · Research Services', 'Skills: Laboratory Information Management System (LIMS), Pre-clinical Studies, +8 more', 'See how you compare to 6 applicants. Try Premium for $0', '', 'Am I a good fit for this job?', 'How can I best position myself for this job?', 'Tell me more about Altasciences'] 4452\n"
     ]
    },
    {
     "name": "stderr",
     "output_type": "stream",
     "text": [
      "INFO:li:scraper:('[][United States][37]', 'Processed')\n"
     ]
    },
    {
     "name": "stdout",
     "output_type": "stream",
     "text": [
      "job_scan_24_07_18.csv\n",
      "[ON_DATA] 3963043728 Research Associate I Formulations with verification Altasciences 2024-06-28 https://www.linkedin.com/jobs/view/3963043728/?eBP=NON_CHARGEABLE_CHANNEL&refId=mD7gBi5vWprnZinv%2BF8Hww%3D%3D&trackingId=vgyHKUTxmqAD8l4DOBMXFQ%3D%3D&trk=flagship3_search_srp_jobs ['Full-time Entry level', '1,001-5,000 employees · Research Services', 'Skills: Research Projects, Green Loan Principles (GLP), +8 more', 'See how you compare to 3 applicants. Try Premium for $0', '', 'Am I a good fit for this job?', 'How can I best position myself for this job?', 'Tell me more about Altasciences'] 4187\n"
     ]
    },
    {
     "name": "stderr",
     "output_type": "stream",
     "text": [
      "INFO:li:scraper:('[][United States][38]', 'Processed')\n"
     ]
    },
    {
     "name": "stdout",
     "output_type": "stream",
     "text": [
      "job_scan_24_07_18.csv\n",
      "[ON_DATA] 3963242484 Clinical Research Technician I with verification Altasciences 2024-06-29 https://www.linkedin.com/jobs/view/3963242484/?eBP=NON_CHARGEABLE_CHANNEL&refId=mD7gBi5vWprnZinv%2BF8Hww%3D%3D&trackingId=TNo8liREWOmt8I%2BX6OyUiw%3D%3D&trk=flagship3_search_srp_jobs ['$18.35/hr Part-time Entry level', '1,001-5,000 employees · Research Services', 'Skills: Communication, Cell Culture, +5 more', 'See how you compare to 6 applicants. Try Premium for $0', '', 'Am I a good fit for this job?', 'How can I best position myself for this job?', 'Tell me more about Altasciences'] 3740\n"
     ]
    },
    {
     "name": "stderr",
     "output_type": "stream",
     "text": [
      "INFO:li:scraper:('[][United States][39]', 'Processed')\n"
     ]
    },
    {
     "name": "stdout",
     "output_type": "stream",
     "text": [
      "job_scan_24_07_18.csv\n",
      "[ON_DATA] 3963242479 QC Reviewer II with verification Altasciences 2024-06-29 https://www.linkedin.com/jobs/view/3963242479/?eBP=NON_CHARGEABLE_CHANNEL&refId=mD7gBi5vWprnZinv%2BF8Hww%3D%3D&trackingId=0m855qcUVb2DqHxaLiuDdA%3D%3D&trk=flagship3_search_srp_jobs ['$22/hr - $28/hr Full-time Entry level', '1,001-5,000 employees · Research Services', 'Skills: Green Loan Principles (GLP), Data Review, +6 more', 'See how you compare to 8 applicants. Try Premium for $0', '', 'Am I a good fit for this job?', 'How can I best position myself for this job?', 'Tell me more about Altasciences'] 4773\n"
     ]
    },
    {
     "name": "stderr",
     "output_type": "stream",
     "text": [
      "INFO:li:scraper:('[][United States][40]', 'Processed')\n"
     ]
    },
    {
     "name": "stdout",
     "output_type": "stream",
     "text": [
      "job_scan_24_07_18.csv\n",
      "[ON_DATA] 3963047084 Research Associate I, Scientific Services with verification Altasciences 2024-07-18 https://www.linkedin.com/jobs/view/3963047084/?eBP=NON_CHARGEABLE_CHANNEL&refId=mD7gBi5vWprnZinv%2BF8Hww%3D%3D&trackingId=4KM0xMfX7ueNa2cEKc3hRA%3D%3D&trk=flagship3_search_srp_jobs ['Full-time Entry level', '1,001-5,000 employees · Research Services', 'Skills: Quality Control, Green Loan Principles (GLP), +8 more', 'See recent hiring trends for Altasciences. Try Premium for $0', '', 'Am I a good fit for this job?', 'How can I best position myself for this job?', 'Tell me more about Altasciences'] 4781\n"
     ]
    },
    {
     "name": "stderr",
     "output_type": "stream",
     "text": [
      "INFO:li:scraper:('[][United States][41]', 'Processed')\n"
     ]
    },
    {
     "name": "stdout",
     "output_type": "stream",
     "text": [
      "job_scan_24_07_18.csv\n",
      "[ON_DATA] 3963245191 Facilities Assistant with verification Altasciences 2024-06-29 https://www.linkedin.com/jobs/view/3963245191/?eBP=NON_CHARGEABLE_CHANNEL&refId=mD7gBi5vWprnZinv%2BF8Hww%3D%3D&trackingId=2mg3vaLtyjl6pAIbhU6M1A%3D%3D&trk=flagship3_search_srp_jobs ['Full-time Entry level', '1,001-5,000 employees · Research Services', 'Skills: Furniture, Conveyor Belts, +8 more', 'See how you compare to 3 applicants. Try Premium for $0', '', 'Am I a good fit for this job?', 'How can I best position myself for this job?', 'Tell me more about Altasciences'] 3270\n"
     ]
    },
    {
     "name": "stderr",
     "output_type": "stream",
     "text": [
      "INFO:li:scraper:('[][United States][42]', 'Processed')\n"
     ]
    },
    {
     "name": "stdout",
     "output_type": "stream",
     "text": [
      "job_scan_24_07_18.csv\n",
      "[ON_DATA] 3964767153 Associate Scientist, DCA with verification Altasciences 2024-07-01 https://www.linkedin.com/jobs/view/3964767153/?eBP=NON_CHARGEABLE_CHANNEL&refId=mD7gBi5vWprnZinv%2BF8Hww%3D%3D&trackingId=03xirEF0pYDg3h8cgh%2B6RQ%3D%3D&trk=flagship3_search_srp_jobs ['Full-time Mid-Senior level', '1,001-5,000 employees · Research Services', 'Skills: Analytical Chemistry, Good Laboratory Practice (GLP), +8 more', 'See how you compare to 29 applicants. Try Premium for $0', '', 'Am I a good fit for this job?', 'How can I best position myself for this job?', 'Tell me more about Altasciences'] 5038\n"
     ]
    },
    {
     "name": "stderr",
     "output_type": "stream",
     "text": [
      "INFO:li:scraper:('[][United States][43]', 'Processed')\n"
     ]
    },
    {
     "name": "stdout",
     "output_type": "stream",
     "text": [
      "job_scan_24_07_18.csv\n",
      "[ON_DATA] 3963241527 Clinical Research Technician I with verification Altasciences 2024-06-29 https://www.linkedin.com/jobs/view/3963241527/?eBP=NON_CHARGEABLE_CHANNEL&refId=mD7gBi5vWprnZinv%2BF8Hww%3D%3D&trackingId=OokzGKYgX4SEILTTtgj6hg%3D%3D&trk=flagship3_search_srp_jobs ['Full-time Entry level', '1,001-5,000 employees · Research Services', 'Skills: Automated External Defibrillator (AED), Cardiopulmonary Resuscitation (CPR), +8 more', 'See how you compare to 29 applicants. Try Premium for $0'] 3825\n"
     ]
    },
    {
     "name": "stderr",
     "output_type": "stream",
     "text": [
      "INFO:li:scraper:('[][United States][44]', 'Processed')\n"
     ]
    },
    {
     "name": "stdout",
     "output_type": "stream",
     "text": [
      "job_scan_24_07_18.csv\n",
      "[ON_DATA] 3964765239 Manager, Data Management with verification Altasciences 2024-07-01 https://www.linkedin.com/jobs/view/3964765239/?eBP=NON_CHARGEABLE_CHANNEL&refId=mD7gBi5vWprnZinv%2BF8Hww%3D%3D&trackingId=T77AO%2Fcai%2FnD1jz7qZmYKQ%3D%3D&trk=flagship3_search_srp_jobs ['$75K/yr - $98K/yr Full-time Mid-Senior level', '1,001-5,000 employees · Research Services', 'Skills: Mitigation Strategies, Training Plans, +8 more', 'See how you compare to 13 applicants. Try Premium for $0', '', 'Am I a good fit for this job?', 'How can I best position myself for this job?', 'Tell me more about Altasciences'] 6021\n"
     ]
    },
    {
     "name": "stderr",
     "output_type": "stream",
     "text": [
      "INFO:li:scraper:('[][United States][45]', 'Processed')\n"
     ]
    },
    {
     "name": "stdout",
     "output_type": "stream",
     "text": [
      "job_scan_24_07_18.csv\n",
      "[ON_DATA] 3963243496 Screening Technician II with verification Altasciences 2024-06-29 https://www.linkedin.com/jobs/view/3963243496/?eBP=NON_CHARGEABLE_CHANNEL&refId=mD7gBi5vWprnZinv%2BF8Hww%3D%3D&trackingId=BwVgFDFHoTI72mhSPApjfQ%3D%3D&trk=flagship3_search_srp_jobs ['$21.73/hr - $28.98/hr Full-time Entry level', '1,001-5,000 employees · Research Services', 'Skills: Communication, Preventive Maintenance, +2 more', 'See how you compare to 13 applicants. Try Premium for $0'] 4336\n"
     ]
    },
    {
     "name": "stderr",
     "output_type": "stream",
     "text": [
      "INFO:li:scraper:('[][United States][46]', 'Processed')\n"
     ]
    },
    {
     "name": "stdout",
     "output_type": "stream",
     "text": [
      "job_scan_24_07_18.csv\n",
      "[ON_DATA] 3977825753 Research Associate - Analytical Chemistry with verification Altasciences 2024-07-16 https://www.linkedin.com/jobs/view/3977825753/?eBP=NON_CHARGEABLE_CHANNEL&refId=mD7gBi5vWprnZinv%2BF8Hww%3D%3D&trackingId=0uYHQE4%2BR%2FA95nxKKxEsSw%3D%3D&trk=flagship3_search_srp_jobs ['Full-time Mid-Senior level', '1,001-5,000 employees · Research Services', 'Skills: Procedural Manuals, Binders, +8 more', 'See how you compare to 3 applicants. Try Premium for $0', '', 'Am I a good fit for this job?', 'How can I best position myself for this job?', 'Tell me more about Altasciences'] 4223\n"
     ]
    },
    {
     "name": "stderr",
     "output_type": "stream",
     "text": [
      "INFO:li:scraper:('[][United States][47]', 'Processed')\n"
     ]
    },
    {
     "name": "stdout",
     "output_type": "stream",
     "text": [
      "job_scan_24_07_18.csv\n",
      "[ON_DATA] 3963244166 Training Lead with verification Altasciences 2024-06-29 https://www.linkedin.com/jobs/view/3963244166/?eBP=NON_CHARGEABLE_CHANNEL&refId=mD7gBi5vWprnZinv%2BF8Hww%3D%3D&trackingId=mRFrH9cDze1JUF0l%2B%2BgQfg%3D%3D&trk=flagship3_search_srp_jobs ['$21.73/hr - $27/hr Full-time Entry level', '1,001-5,000 employees · Research Services', 'Skills: Procedure Manuals, Green Loan Principles (GLP), +8 more', 'See recent hiring trends for Altasciences. Try Premium for $0', '', 'Am I a good fit for this job?', 'How can I best position myself for this job?', 'Tell me more about Altasciences'] 6426\n"
     ]
    },
    {
     "name": "stderr",
     "output_type": "stream",
     "text": [
      "INFO:li:scraper:('[][United States][48]', 'Processed')\n"
     ]
    },
    {
     "name": "stdout",
     "output_type": "stream",
     "text": [
      "job_scan_24_07_18.csv\n",
      "[ON_DATA] 3963239981 Senior Research Pathologist with verification Altasciences 2024-06-29 https://www.linkedin.com/jobs/view/3963239981/?eBP=NON_CHARGEABLE_CHANNEL&refId=mD7gBi5vWprnZinv%2BF8Hww%3D%3D&trackingId=3KtaglsTQfqfbAN2sWvrLw%3D%3D&trk=flagship3_search_srp_jobs ['$185K/yr - $200K/yr Full-time Mid-Senior level', '1,001-5,000 employees · Research Services', 'Skills: Green Loan Principles (GLP), Pathology, +8 more', 'See recent hiring trends for Altasciences. Try Premium for $0', '', 'Am I a good fit for this job?', 'How can I best position myself for this job?', 'Tell me more about Altasciences'] 4639\n"
     ]
    },
    {
     "name": "stderr",
     "output_type": "stream",
     "text": [
      "INFO:li:scraper:('[][United States][49]', 'Processed')\n"
     ]
    },
    {
     "name": "stdout",
     "output_type": "stream",
     "text": [
      "job_scan_24_07_18.csv\n",
      "[ON_DATA] 3963246097 Scientist II - LCMS with verification Altasciences 2024-06-29 https://www.linkedin.com/jobs/view/3963246097/?eBP=NON_CHARGEABLE_CHANNEL&refId=mD7gBi5vWprnZinv%2BF8Hww%3D%3D&trackingId=HfBN1NIyU5NU2bourcCE%2FQ%3D%3D&trk=flagship3_search_srp_jobs ['$75K/yr - $95K/yr Full-time Entry level', '1,001-5,000 employees · Research Services', 'Skills: Laboratory Information Management System (LIMS), Pre-clinical Studies, +8 more', 'See how you compare to 14 applicants. Try Premium for $0'] 5564\n"
     ]
    },
    {
     "name": "stderr",
     "output_type": "stream",
     "text": [
      "INFO:li:scraper:('[][United States][50]', 'Processed')\n",
      "INFO:li:scraper:('[][United States]', 'No more jobs to process in this page')\n",
      "INFO:li:scraper:('[][United States]', 'Metrics:', '{ processed: 50, failed: 0, missed: 0, skipped: 0 }')\n",
      "INFO:li:scraper:('[][United States]', 'Pagination requested [2]')\n",
      "INFO:li:scraper:('[][United States]', 'Opening https://www.linkedin.com/jobs/search?location=United+States&f_C=10292265%2C288165%2C43644&start=50')\n",
      "INFO:li:scraper:('[][United States]', 'Waiting for new jobs to load')\n"
     ]
    },
    {
     "name": "stdout",
     "output_type": "stream",
     "text": [
      "job_scan_24_07_18.csv\n",
      "[ON_DATA] 3964764633 Scientist, DCA with verification Altasciences 2024-07-01 https://www.linkedin.com/jobs/view/3964764633/?eBP=NON_CHARGEABLE_CHANNEL&refId=mD7gBi5vWprnZinv%2BF8Hww%3D%3D&trackingId=Pu9IYa03eK0tmUQbi0HFSw%3D%3D&trk=flagship3_search_srp_jobs ['$60K/yr - $80K/yr Full-time Mid-Senior level', '1,001-5,000 employees · Research Services', 'Skills: Good Laboratory Practice (GLP), Presentations, +8 more', 'See how you compare to 7 applicants. Try Premium for $0', '', 'Am I a good fit for this job?', 'How can I best position myself for this job?', 'Tell me more about Altasciences'] 5485\n"
     ]
    },
    {
     "name": "stderr",
     "output_type": "stream",
     "text": [
      "INFO:li:scraper:('[][United States]', 'Session is valid')\n",
      "INFO:li:scraper:('[][United States][51]', 'Skipped because promoted')\n",
      "INFO:li:scraper:('[][United States][52]', 'Processed')\n"
     ]
    },
    {
     "name": "stdout",
     "output_type": "stream",
     "text": [
      "job_scan_24_07_18.csv\n",
      "[ON_DATA] 3963239982 Training Lead - Invivo Operations with verification Altasciences 2024-06-29 https://www.linkedin.com/jobs/view/3963239982/?eBP=NON_CHARGEABLE_CHANNEL&refId=D6K2Lu5PVBv1rdpmzLyPFA%3D%3D&trackingId=Q9Ha2fSWiGeV%2FTVigKAgNA%3D%3D&trk=flagship3_search_srp_jobs ['$21.73/hr - $27/hr Full-time Entry level', '1,001-5,000 employees · Research Services', 'Skills: Procedure Manuals, Green Loan Principles (GLP), +8 more', 'See how you compare to over 100 other applicants. Try Premium for $0', '', 'Am I a good fit for this job?', 'How can I best position myself for this job?', 'Tell me more about Altasciences'] 6426\n"
     ]
    },
    {
     "name": "stderr",
     "output_type": "stream",
     "text": [
      "INFO:li:scraper:('[][United States][53]', 'Processed')\n"
     ]
    },
    {
     "name": "stdout",
     "output_type": "stream",
     "text": [
      "job_scan_24_07_18.csv\n",
      "[ON_DATA] 3963240824 Participant Recruitment Agent - Bilingual Spanish with verification Altasciences 2024-06-29 https://www.linkedin.com/jobs/view/3963240824/?eBP=NON_CHARGEABLE_CHANNEL&refId=D6K2Lu5PVBv1rdpmzLyPFA%3D%3D&trackingId=SgIDySXLbe7ib2BBu%2FpPWQ%3D%3D&trk=flagship3_search_srp_jobs ['$18.74/hr - $22/hr Part-time Entry level', '1,001-5,000 employees · Research Services', 'Skills: Recruiting, Communication, +3 more', 'See recent hiring trends for Altasciences. Try Premium for $0', '', 'Am I a good fit for this job?', 'How can I best position myself for this job?', 'Tell me more about Altasciences'] 3488\n"
     ]
    },
    {
     "name": "stderr",
     "output_type": "stream",
     "text": [
      "INFO:li:scraper:('[][United States][54]', 'Processed')\n"
     ]
    },
    {
     "name": "stdout",
     "output_type": "stream",
     "text": [
      "job_scan_24_07_18.csv\n",
      "[ON_DATA] 3963243493 Research Scientist, Study Director with verification Altasciences 2024-06-29 https://www.linkedin.com/jobs/view/3963243493/?eBP=NON_CHARGEABLE_CHANNEL&refId=D6K2Lu5PVBv1rdpmzLyPFA%3D%3D&trackingId=r6IXm69S9%2BZhufxcNfZ8qQ%3D%3D&trk=flagship3_search_srp_jobs ['$110K/yr Full-time Mid-Senior level', '1,001-5,000 employees · Research Services', 'Skills: Pre-clinical Studies, Green Loan Principles (GLP), +8 more', 'See how you compare to 3 applicants. Try Premium for $0'] 6005\n"
     ]
    },
    {
     "name": "stderr",
     "output_type": "stream",
     "text": [
      "INFO:li:scraper:('[][United States][55]', 'Processed')\n"
     ]
    },
    {
     "name": "stdout",
     "output_type": "stream",
     "text": [
      "job_scan_24_07_18.csv\n",
      "[ON_DATA] 3963241523 Clinical Team Leader with verification Altasciences 2024-06-29 https://www.linkedin.com/jobs/view/3963241523/?eBP=NON_CHARGEABLE_CHANNEL&refId=D6K2Lu5PVBv1rdpmzLyPFA%3D%3D&trackingId=R0kINfWouS6GiUiDRGbVmw%3D%3D&trk=flagship3_search_srp_jobs ['$21.73/hr - $28.98/hr Full-time Mid-Senior level', '1,001-5,000 employees · Research Services', 'Skills: Phlebotomy, Cardiopulmonary Resuscitation (CPR), +8 more', 'See how you compare to 3 applicants. Try Premium for $0', '', 'Am I a good fit for this job?', 'How can I best position myself for this job?', 'Tell me more about Altasciences'] 4552\n"
     ]
    },
    {
     "name": "stderr",
     "output_type": "stream",
     "text": [
      "INFO:li:scraper:('[][United States][56]', 'Processed')\n"
     ]
    },
    {
     "name": "stdout",
     "output_type": "stream",
     "text": [
      "job_scan_24_07_18.csv\n",
      "[ON_DATA] 3963044603 Pharmacy Technician with verification Altasciences 2024-06-28 https://www.linkedin.com/jobs/view/3963044603/?eBP=NON_CHARGEABLE_CHANNEL&refId=D6K2Lu5PVBv1rdpmzLyPFA%3D%3D&trackingId=IB8Kzt900HvdI%2Fd17G5GTw%3D%3D&trk=flagship3_search_srp_jobs ['Full-time Entry level', '1,001-5,000 employees · Research Services', 'Skills: Problem Solving, Communication, +7 more', 'See how you compare to 3 applicants. Try Premium for $0', '', 'Am I a good fit for this job?', 'How can I best position myself for this job?', 'Tell me more about Altasciences'] 3354\n"
     ]
    },
    {
     "name": "stderr",
     "output_type": "stream",
     "text": [
      "INFO:li:scraper:('[][United States][57]', 'Processed')\n"
     ]
    },
    {
     "name": "stdout",
     "output_type": "stream",
     "text": [
      "job_scan_24_07_18.csv\n",
      "[ON_DATA] 3972533118 Phlebotomist - Screening Technician III with verification Altasciences 2024-07-10 https://www.linkedin.com/jobs/view/3972533118/?eBP=NON_CHARGEABLE_CHANNEL&refId=D6K2Lu5PVBv1rdpmzLyPFA%3D%3D&trackingId=ZSBjDPOyyaG8R0Mwl%2BEr7g%3D%3D&trk=flagship3_search_srp_jobs ['Full-time Entry level', '1,001-5,000 employees · Research Services', 'Skills: Phlebotomy, Basic Life Support (BLS), +1 more', 'See how you compare to 3 applicants. Try Premium for $0'] 4122\n"
     ]
    },
    {
     "name": "stderr",
     "output_type": "stream",
     "text": [
      "INFO:li:scraper:('[][United States][58]', 'Processed')\n"
     ]
    },
    {
     "name": "stdout",
     "output_type": "stream",
     "text": [
      "job_scan_24_07_18.csv\n",
      "[ON_DATA] 3963244165 Research Associate, Laboratory Supervisor with verification Altasciences 2024-06-29 https://www.linkedin.com/jobs/view/3963244165/?eBP=NON_CHARGEABLE_CHANNEL&refId=D6K2Lu5PVBv1rdpmzLyPFA%3D%3D&trackingId=Kc8p8mZV7waYrh52Jl3CVw%3D%3D&trk=flagship3_search_srp_jobs ['$70K/yr - $90K/yr Full-time Mid-Senior level', '1,001-5,000 employees · Research Services', 'Skills: Procedure Manuals, Green Loan Principles (GLP), +8 more', 'See how you compare to 7 applicants. Try Premium for $0', '', 'Am I a good fit for this job?', 'How can I best position myself for this job?', 'Tell me more about Altasciences'] 5244\n"
     ]
    },
    {
     "name": "stderr",
     "output_type": "stream",
     "text": [
      "INFO:li:scraper:('[][United States][59]', 'Processed')\n"
     ]
    },
    {
     "name": "stdout",
     "output_type": "stream",
     "text": [
      "job_scan_24_07_18.csv\n",
      "[ON_DATA] 3963244168 Proposals Manager with verification Altasciences 2024-06-29 https://www.linkedin.com/jobs/view/3963244168/?eBP=NON_CHARGEABLE_CHANNEL&refId=D6K2Lu5PVBv1rdpmzLyPFA%3D%3D&trackingId=hBbbfpN6C01%2Fql%2FpuZjobw%3D%3D&trk=flagship3_search_srp_jobs ['$22/hr - $29/hr Full-time Mid-Senior level', '1,001-5,000 employees · Research Services', 'Skills: Procedure Manuals, Subject Matter Experts, +8 more', 'See recent hiring trends for Altasciences. Try Premium for $0', '', 'Am I a good fit for this job?', 'How can I best position myself for this job?', 'Tell me more about Altasciences'] 5860\n"
     ]
    },
    {
     "name": "stderr",
     "output_type": "stream",
     "text": [
      "INFO:li:scraper:('[][United States][60]', 'Processed')\n"
     ]
    },
    {
     "name": "stdout",
     "output_type": "stream",
     "text": [
      "job_scan_24_07_18.csv\n",
      "[ON_DATA] 3963242474 PK Scientist I with verification Altasciences 2024-06-29 https://www.linkedin.com/jobs/view/3963242474/?eBP=NON_CHARGEABLE_CHANNEL&refId=D6K2Lu5PVBv1rdpmzLyPFA%3D%3D&trackingId=FNEgjJU1aG1iX%2BPQZ5%2B1zQ%3D%3D&trk=flagship3_search_srp_jobs ['$70K/yr Full-time Entry level', '1,001-5,000 employees · Research Services', 'Skills: Written Communication, Interpersonal Skills, +8 more', 'See how you compare to 11 applicants. Try Premium for $0', '', 'Am I a good fit for this job?', 'How can I best position myself for this job?', 'Tell me more about Altasciences'] 5734\n"
     ]
    },
    {
     "name": "stderr",
     "output_type": "stream",
     "text": [
      "INFO:li:scraper:('[][United States][61]', 'Processed')\n"
     ]
    },
    {
     "name": "stdout",
     "output_type": "stream",
     "text": [
      "job_scan_24_07_18.csv\n",
      "[ON_DATA] 3978594688 Quality Assurance Associate with verification Altasciences 2024-07-17 https://www.linkedin.com/jobs/view/3978594688/?eBP=NON_CHARGEABLE_CHANNEL&refId=D6K2Lu5PVBv1rdpmzLyPFA%3D%3D&trackingId=7gE2OFrBZBhB%2Fd8PfbIRzQ%3D%3D&trk=flagship3_search_srp_jobs ['Full-time Entry level', '1,001-5,000 employees · Research Services', 'Skills: Green Loan Principles (GLP), Pre-clinical Studies, +8 more', 'See how you compare to 8 applicants. Try Premium for $0', '', 'Am I a good fit for this job?', 'How can I best position myself for this job?', 'Tell me more about Altasciences'] 5099\n"
     ]
    },
    {
     "name": "stderr",
     "output_type": "stream",
     "text": [
      "INFO:li:scraper:('[][United States][62]', 'Processed')\n"
     ]
    },
    {
     "name": "stdout",
     "output_type": "stream",
     "text": [
      "job_scan_24_07_18.csv\n",
      "[ON_DATA] 3963043731 Training Specialist with verification Altasciences 2024-06-28 https://www.linkedin.com/jobs/view/3963043731/?eBP=NON_CHARGEABLE_CHANNEL&refId=D6K2Lu5PVBv1rdpmzLyPFA%3D%3D&trackingId=ztU%2BTtv1lRYotDAJskSEOw%3D%3D&trk=flagship3_search_srp_jobs ['Full-time Entry level', '1,001-5,000 employees · Research Services', 'Skills: Green Loan Principles (GLP), Good Laboratory Practice (GLP), +6 more', 'See recent hiring trends for Altasciences. Try Premium for $0', '', 'Am I a good fit for this job?', 'How can I best position myself for this job?', 'Tell me more about Altasciences'] 3895\n"
     ]
    },
    {
     "name": "stderr",
     "output_type": "stream",
     "text": [
      "INFO:li:scraper:('[][United States][63]', 'Processed')\n"
     ]
    },
    {
     "name": "stdout",
     "output_type": "stream",
     "text": [
      "job_scan_24_07_18.csv\n",
      "[ON_DATA] 3963040988 Associate Scientist, DCA with verification Altasciences 2024-07-01 https://www.linkedin.com/jobs/view/3963040988/?eBP=NON_CHARGEABLE_CHANNEL&refId=D6K2Lu5PVBv1rdpmzLyPFA%3D%3D&trackingId=BNCegc0u49OhyQ9yR5qcfg%3D%3D&trk=flagship3_search_srp_jobs ['Full-time Mid-Senior level', '1,001-5,000 employees · Research Services', 'Skills: Analytical Chemistry, Good Laboratory Practice (GLP), +8 more', 'See recent hiring trends for Altasciences. Try Premium for $0', '', 'Am I a good fit for this job?', 'How can I best position myself for this job?', 'Tell me more about Altasciences'] 5051\n"
     ]
    },
    {
     "name": "stderr",
     "output_type": "stream",
     "text": [
      "INFO:li:scraper:('[][United States][64]', 'Processed')\n"
     ]
    },
    {
     "name": "stdout",
     "output_type": "stream",
     "text": [
      "job_scan_24_07_18.csv\n",
      "[ON_DATA] 3966761203 Director, Financial Planning & Analysis with verification Altasciences 2024-07-04 https://www.linkedin.com/jobs/view/3966761203/?eBP=NON_CHARGEABLE_CHANNEL&refId=D6K2Lu5PVBv1rdpmzLyPFA%3D%3D&trackingId=k6aVajy6BsBdiEl7d%2Fj84Q%3D%3D&trk=flagship3_search_srp_jobs ['$160K/yr Full-time Mid-Senior level', '1,001-5,000 employees · Research Services', 'Skills: Financial Planning, Variance Analysis, +8 more', 'See how you compare to 16 applicants. Try Premium for $0', '', 'Am I a good fit for this job?', 'How can I best position myself for this job?', 'Tell me more about Altasciences'] 5244\n"
     ]
    },
    {
     "name": "stderr",
     "output_type": "stream",
     "text": [
      "INFO:li:scraper:('[][United States][65]', 'Processed')\n"
     ]
    },
    {
     "name": "stdout",
     "output_type": "stream",
     "text": [
      "job_scan_24_07_18.csv\n",
      "[ON_DATA] 3966758581 Director, Financial Planning & Analysis with verification Altasciences 2024-07-04 https://www.linkedin.com/jobs/view/3966758581/?eBP=NON_CHARGEABLE_CHANNEL&refId=D6K2Lu5PVBv1rdpmzLyPFA%3D%3D&trackingId=xKpruaXzG3Lo1OFJVbhFug%3D%3D&trk=flagship3_search_srp_jobs ['$160K/yr Full-time Mid-Senior level', '1,001-5,000 employees · Research Services', 'Skills: Financial Planning, Variance Analysis, +8 more', 'See how you compare to 5 applicants. Try Premium for $0'] 5244\n"
     ]
    },
    {
     "name": "stderr",
     "output_type": "stream",
     "text": [
      "INFO:li:scraper:('[][United States][66]', 'Processed')\n"
     ]
    },
    {
     "name": "stdout",
     "output_type": "stream",
     "text": [
      "job_scan_24_07_18.csv\n",
      "[ON_DATA] 3963239976 Manager, Monitoring Services with verification Altasciences 2024-06-29 https://www.linkedin.com/jobs/view/3963239976/?eBP=NON_CHARGEABLE_CHANNEL&refId=D6K2Lu5PVBv1rdpmzLyPFA%3D%3D&trackingId=DgYXQjRI1XRdnOtbvc2OSQ%3D%3D&trk=flagship3_search_srp_jobs ['Full-time Mid-Senior level', '1,001-5,000 employees · Research Services', 'Skills: Clinical Monitoring, Resource Allocation, +8 more', 'See how you compare to 5 applicants. Try Premium for $0', '', 'Am I a good fit for this job?', 'How can I best position myself for this job?', 'Tell me more about Altasciences'] 5910\n"
     ]
    },
    {
     "name": "stderr",
     "output_type": "stream",
     "text": [
      "INFO:li:scraper:('[][United States][67]', 'Processed')\n"
     ]
    },
    {
     "name": "stdout",
     "output_type": "stream",
     "text": [
      "job_scan_24_07_18.csv\n",
      "[ON_DATA] 3963244171 QA Auditor with verification Altasciences 2024-06-29 https://www.linkedin.com/jobs/view/3963244171/?eBP=NON_CHARGEABLE_CHANNEL&refId=D6K2Lu5PVBv1rdpmzLyPFA%3D%3D&trackingId=bWn4%2BcUr5b5J9tnhvcJX%2BA%3D%3D&trk=flagship3_search_srp_jobs ['Full-time Entry level', '1,001-5,000 employees · Research Services', 'Skills: Green Loan Principles (GLP), Good Laboratory Practice (GLP), +5 more', 'See how you compare to 4 applicants. Try Premium for $0', '', 'Am I a good fit for this job?', 'How can I best position myself for this job?', 'Tell me more about Altasciences'] 4792\n"
     ]
    },
    {
     "name": "stderr",
     "output_type": "stream",
     "text": [
      "INFO:li:scraper:('[][United States][68]', 'Processed')\n"
     ]
    },
    {
     "name": "stdout",
     "output_type": "stream",
     "text": [
      "job_scan_24_07_18.csv\n",
      "[ON_DATA] 3978594687 Facilities Technician with verification Altasciences 2024-07-17 https://www.linkedin.com/jobs/view/3978594687/?eBP=NON_CHARGEABLE_CHANNEL&refId=D6K2Lu5PVBv1rdpmzLyPFA%3D%3D&trackingId=e0Yn61CX8gSVKA%2B8D5n5Ig%3D%3D&trk=flagship3_search_srp_jobs ['Full-time Mid-Senior level', '1,001-5,000 employees · Research Services', 'Skills: Safety Practices, Green Loan Principles (GLP), +8 more', 'See recent hiring trends for Altasciences. Try Premium for $0', '', 'Am I a good fit for this job?', 'How can I best position myself for this job?', 'Tell me more about Altasciences'] 5362\n"
     ]
    },
    {
     "name": "stderr",
     "output_type": "stream",
     "text": [
      "INFO:li:scraper:('[][United States][69]', 'Processed')\n"
     ]
    },
    {
     "name": "stdout",
     "output_type": "stream",
     "text": [
      "job_scan_24_07_18.csv\n",
      "[ON_DATA] 3963243502 Manager, Human Resources with verification Altasciences 2024-06-29 https://www.linkedin.com/jobs/view/3963243502/?eBP=NON_CHARGEABLE_CHANNEL&refId=D6K2Lu5PVBv1rdpmzLyPFA%3D%3D&trackingId=Fx3Tuz6zSAZAg304nFohOA%3D%3D&trk=flagship3_search_srp_jobs ['Full-time Mid-Senior level', '1,001-5,000 employees · Research Services', 'Skills: Employee Relations, Human Resources Information Systems (HRIS), +8 more', 'See how you compare to 28 applicants. Try Premium for $0', '', 'Am I a good fit for this job?', 'How can I best position myself for this job?', 'Tell me more about Altasciences'] 6007\n"
     ]
    },
    {
     "name": "stderr",
     "output_type": "stream",
     "text": [
      "INFO:li:scraper:('[][United States][70]', 'Processed')\n"
     ]
    },
    {
     "name": "stdout",
     "output_type": "stream",
     "text": [
      "job_scan_24_07_18.csv\n",
      "[ON_DATA] 3963243498 Proposal Manager with verification Altasciences 2024-06-29 https://www.linkedin.com/jobs/view/3963243498/?eBP=NON_CHARGEABLE_CHANNEL&refId=D6K2Lu5PVBv1rdpmzLyPFA%3D%3D&trackingId=n6b0qGzqDoLk5TDaiSQ9aw%3D%3D&trk=flagship3_search_srp_jobs ['$55K/yr - $70K/yr Full-time Entry level', '1,001-5,000 employees · Research Services', 'Skills: Proposal Generation, Presentations, +8 more', 'See how you compare to 8 applicants. Try Premium for $0', '', 'Am I a good fit for this job?', 'How can I best position myself for this job?', 'Tell me more about Altasciences'] 5235\n"
     ]
    },
    {
     "name": "stderr",
     "output_type": "stream",
     "text": [
      "INFO:li:scraper:('[][United States][71]', 'Processed')\n"
     ]
    },
    {
     "name": "stdout",
     "output_type": "stream",
     "text": [
      "job_scan_24_07_18.csv\n",
      "[ON_DATA] 3964767155 Supervisor, Research Associate with verification Altasciences 2024-07-01 https://www.linkedin.com/jobs/view/3964767155/?eBP=NON_CHARGEABLE_CHANNEL&refId=D6K2Lu5PVBv1rdpmzLyPFA%3D%3D&trackingId=Wxfg13LNUBCLD99f93cVxQ%3D%3D&trk=flagship3_search_srp_jobs ['Full-time Mid-Senior level', '1,001-5,000 employees · Research Services', 'Skills: Key Performance Indicators, Presentations, +8 more', 'See recent hiring trends for Altasciences. Try Premium for $0', '', 'Am I a good fit for this job?', 'How can I best position myself for this job?', 'Tell me more about Altasciences'] 5536\n"
     ]
    },
    {
     "name": "stderr",
     "output_type": "stream",
     "text": [
      "INFO:li:scraper:('[][United States][72]', 'Processed')\n"
     ]
    },
    {
     "name": "stdout",
     "output_type": "stream",
     "text": [
      "job_scan_24_07_18.csv\n",
      "[ON_DATA] 3963243495 Senior Scientist-LCMS with verification Altasciences 2024-06-29 https://www.linkedin.com/jobs/view/3963243495/?eBP=NON_CHARGEABLE_CHANNEL&refId=D6K2Lu5PVBv1rdpmzLyPFA%3D%3D&trackingId=zUU83eGdc5U21vc4Nsm7Vw%3D%3D&trk=flagship3_search_srp_jobs ['Full-time Mid-Senior level', '1,001-5,000 employees · Research Services', 'Skills: Biochemistry, Laboratory Information Management System (LIMS), +8 more', 'See how you compare to 4 applicants. Try Premium for $0', '', 'Am I a good fit for this job?', 'How can I best position myself for this job?', 'Tell me more about Altasciences'] 4807\n"
     ]
    },
    {
     "name": "stderr",
     "output_type": "stream",
     "text": [
      "INFO:li:scraper:('[][United States][73]', 'Processed')\n"
     ]
    },
    {
     "name": "stdout",
     "output_type": "stream",
     "text": [
      "job_scan_24_07_18.csv\n",
      "[ON_DATA] 3963041985 Manager, Clinical Pathology with verification Altasciences 2024-06-28 https://www.linkedin.com/jobs/view/3963041985/?eBP=NON_CHARGEABLE_CHANNEL&refId=D6K2Lu5PVBv1rdpmzLyPFA%3D%3D&trackingId=0Rf1fqchH9PPJ9K6KqL8hQ%3D%3D&trk=flagship3_search_srp_jobs ['Full-time Mid-Senior level', '1,001-5,000 employees · Research Services', 'Skills: Clinical Trials, Clinical Research, +8 more', 'See recent hiring trends for Altasciences. Try Premium for $0', '', 'Am I a good fit for this job?', 'How can I best position myself for this job?', 'Tell me more about Altasciences'] 3942\n"
     ]
    },
    {
     "name": "stderr",
     "output_type": "stream",
     "text": [
      "INFO:li:scraper:('[][United States][74]', 'Processed')\n"
     ]
    },
    {
     "name": "stdout",
     "output_type": "stream",
     "text": [
      "job_scan_24_07_18.csv\n",
      "[ON_DATA] 3963240815 Paramedic - Clinical Research with verification Altasciences 2024-06-29 https://www.linkedin.com/jobs/view/3963240815/?eBP=NON_CHARGEABLE_CHANNEL&refId=D6K2Lu5PVBv1rdpmzLyPFA%3D%3D&trackingId=f94aS2DC4NVqdLqELN5HsA%3D%3D&trk=flagship3_search_srp_jobs ['Part-time Entry level', '1,001-5,000 employees · Research Services', 'Skills: Paramedic, Advanced Cardiac Life Support (ACLS), +8 more', 'See recent hiring trends for Altasciences. Try Premium for $0'] 3673\n"
     ]
    },
    {
     "name": "stderr",
     "output_type": "stream",
     "text": [
      "INFO:li:scraper:('[][United States][75]', 'Processed')\n",
      "INFO:li:scraper:('[][United States]', 'No more jobs to process in this page')\n",
      "INFO:li:scraper:('[][United States]', 'Metrics:', '{ processed: 74, failed: 0, missed: 0, skipped: 1 }')\n",
      "INFO:li:scraper:('[][United States]', 'Pagination requested [3]')\n",
      "INFO:li:scraper:('[][United States]', 'Opening https://www.linkedin.com/jobs/search?location=United+States&f_C=10292265%2C288165%2C43644&start=75')\n",
      "INFO:li:scraper:('[][United States]', 'Waiting for new jobs to load')\n"
     ]
    },
    {
     "name": "stdout",
     "output_type": "stream",
     "text": [
      "job_scan_24_07_18.csv\n",
      "[ON_DATA] 3974925787 Clinical Research Nurse I with verification Altasciences 2024-07-12 https://www.linkedin.com/jobs/view/3974925787/?eBP=NON_CHARGEABLE_CHANNEL&refId=D6K2Lu5PVBv1rdpmzLyPFA%3D%3D&trackingId=6Gdl1Ui2kKKfrbq3ImMheQ%3D%3D&trk=flagship3_search_srp_jobs ['Full-time Entry level', 'Research', '1,001-5,000 employees · Research Services', 'Skills: Basic Life Support (BLS), Advanced Cardiac Life Support (ACLS), +8 more', 'See how you compare to 3 applicants. Try Premium for $0', '', 'Am I a good fit for this job?', 'How can I best position myself for this job?', 'Tell me more about Altasciences'] 4012\n"
     ]
    },
    {
     "name": "stderr",
     "output_type": "stream",
     "text": [
      "INFO:li:scraper:('[][United States]', 'Session is valid')\n",
      "INFO:li:scraper:('[][United States][76]', 'Processed')\n"
     ]
    },
    {
     "name": "stdout",
     "output_type": "stream",
     "text": [
      "job_scan_24_07_18.csv\n",
      "[ON_DATA] 3963243497 QA Auditor with verification Altasciences  https://www.linkedin.com/jobs/view/3963243497/?trk=flagship3_search_srp_jobs ['$67.5K/yr - $80K/yr Full-time Entry level', '1,001-5,000 employees · Research Services', 'Skills: Process Auditing, Quality Assurance, +6 more', 'See how you compare to 4 applicants. Try Premium for $0', '', 'Am I a good fit for this job?', 'How can I best position myself for this job?', 'Tell me more about Altasciences'] 5406\n"
     ]
    },
    {
     "name": "stderr",
     "output_type": "stream",
     "text": [
      "INFO:li:scraper:('[][United States][77]', 'Processed')\n"
     ]
    },
    {
     "name": "stdout",
     "output_type": "stream",
     "text": [
      "job_scan_24_07_18.csv\n",
      "[ON_DATA] 3963044606 Facilities Associate III with verification Altasciences 2024-06-28 https://www.linkedin.com/jobs/view/3963044606/?eBP=NON_CHARGEABLE_CHANNEL&refId=2QQXIb6UzJgyME%2B78sJZTQ%3D%3D&trackingId=dvmbPZozFVrxPTh3ZNTdXQ%3D%3D&trk=flagship3_search_srp_jobs ['Full-time Mid-Senior level', '1,001-5,000 employees · Research Services', 'Skills: Facilities Operations, Safety Practices, +8 more', 'See recent hiring trends for Altasciences. Try Premium for $0', '', 'Am I a good fit for this job?', 'How can I best position myself for this job?', 'Tell me more about Altasciences'] 5199\n"
     ]
    },
    {
     "name": "stderr",
     "output_type": "stream",
     "text": [
      "INFO:li:scraper:('[][United States][78]', 'Processed')\n"
     ]
    },
    {
     "name": "stdout",
     "output_type": "stream",
     "text": [
      "job_scan_24_07_18.csv\n",
      "[ON_DATA] 3963239977 Senior QA Auditor with verification Altasciences 2024-06-29 https://www.linkedin.com/jobs/view/3963239977/?eBP=NON_CHARGEABLE_CHANNEL&refId=2QQXIb6UzJgyME%2B78sJZTQ%3D%3D&trackingId=iPhlgWIIoFmkwE9M4sy8Cw%3D%3D&trk=flagship3_search_srp_jobs ['Full-time Mid-Senior level', '1,001-5,000 employees · Research Services', 'Skills: Green Loan Principles (GLP), Good Laboratory Practice (GLP), +8 more', 'See recent hiring trends for Altasciences. Try Premium for $0', '', 'Am I a good fit for this job?', 'How can I best position myself for this job?', 'Tell me more about Altasciences'] 5899\n"
     ]
    },
    {
     "name": "stderr",
     "output_type": "stream",
     "text": [
      "INFO:li:scraper:('[][United States][79]', 'Processed')\n"
     ]
    },
    {
     "name": "stdout",
     "output_type": "stream",
     "text": [
      "job_scan_24_07_18.csv\n",
      "[ON_DATA] 3964765242 Clinical Veterinarian with verification Altasciences 2024-07-01 https://www.linkedin.com/jobs/view/3964765242/?eBP=NON_CHARGEABLE_CHANNEL&refId=2QQXIb6UzJgyME%2B78sJZTQ%3D%3D&trackingId=5R0bpRWRr9CJmY4ENbhs6Q%3D%3D&trk=flagship3_search_srp_jobs ['Full-time Entry level', '1,001-5,000 employees · Research Services', 'Skills: Veterinary Medicine, Computer Literacy, +8 more', 'See recent hiring trends for Altasciences. Try Premium for $0', '', 'Am I a good fit for this job?', 'How can I best position myself for this job?', 'Tell me more about Altasciences'] 5009\n"
     ]
    },
    {
     "name": "stderr",
     "output_type": "stream",
     "text": [
      "INFO:li:scraper:('[][United States][80]', 'Processed')\n"
     ]
    },
    {
     "name": "stdout",
     "output_type": "stream",
     "text": [
      "job_scan_24_07_18.csv\n",
      "[ON_DATA] 3963246090 Senior Project Finance Analyst Lead with verification Altasciences 2024-06-29 https://www.linkedin.com/jobs/view/3963246090/?eBP=NON_CHARGEABLE_CHANNEL&refId=2QQXIb6UzJgyME%2B78sJZTQ%3D%3D&trackingId=ka6NJiut10Xu94YUrfy9Xg%3D%3D&trk=flagship3_search_srp_jobs ['$73K/yr - $98K/yr Full-time Mid-Senior level', '1,001-5,000 employees · Research Services', 'Skills: Deferred Revenue, Reporting Requirements, +8 more', 'See how you compare to 3 applicants. Try Premium for $0', '', 'Am I a good fit for this job?', 'How can I best position myself for this job?', 'Tell me more about Altasciences'] 7694\n"
     ]
    },
    {
     "name": "stderr",
     "output_type": "stream",
     "text": [
      "INFO:li:scraper:('[][United States][81]', 'Processed')\n"
     ]
    }
   ],
   "source": [
    "linked_page = pd.read_csv('linkedin_pages.csv')\n",
    "execute_list = linked_page.dropna()\n",
    "for link in execute_list['job_link']:\n",
    "    query = Query(    \n",
    "        options=QueryOptions(\n",
    "            locations=['United States'],\n",
    "            skip_promoted_jobs=True,\n",
    "            limit = 1000,      \n",
    "            filters=QueryFilters(\n",
    "                company_jobs_url= link\n",
    "            )\n",
    "        )\n",
    "    )\n",
    "    scraper.run(query)"
   ]
  }
 ],
 "metadata": {
  "kernelspec": {
   "display_name": "Python 3",
   "language": "python",
   "name": "python3"
  },
  "language_info": {
   "codemirror_mode": {
    "name": "ipython",
    "version": 3
   },
   "file_extension": ".py",
   "mimetype": "text/x-python",
   "name": "python",
   "nbconvert_exporter": "python",
   "pygments_lexer": "ipython3",
   "version": "3.9.18"
  }
 },
 "nbformat": 4,
 "nbformat_minor": 2
}
