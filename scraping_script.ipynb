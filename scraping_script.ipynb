{
 "cells": [
  {
   "cell_type": "code",
   "execution_count": 2,
   "metadata": {},
   "outputs": [],
   "source": [
    "import os\n",
    "import logging\n",
    "import requests\n",
    "from bs4 import BeautifulSoup\n"
   ]
  },
  {
   "cell_type": "code",
   "execution_count": 1,
   "metadata": {},
   "outputs": [
    {
     "ename": "NameError",
     "evalue": "name 'requests' is not defined",
     "output_type": "error",
     "traceback": [
      "\u001b[1;31m---------------------------------------------------------------------------\u001b[0m",
      "\u001b[1;31mNameError\u001b[0m                                 Traceback (most recent call last)",
      "Cell \u001b[1;32mIn[1], line 28\u001b[0m\n\u001b[0;32m     25\u001b[0m     \u001b[38;5;28;01mreturn\u001b[39;00m \u001b[38;5;124m\"\u001b[39m\u001b[38;5;124mLinkedIn company page not found\u001b[39m\u001b[38;5;124m\"\u001b[39m\n\u001b[0;32m     27\u001b[0m company_name \u001b[38;5;241m=\u001b[39m \u001b[38;5;124m\"\u001b[39m\u001b[38;5;124mMenlo Ventures\u001b[39m\u001b[38;5;124m\"\u001b[39m\n\u001b[1;32m---> 28\u001b[0m company_data \u001b[38;5;241m=\u001b[39m \u001b[43mget_linkedin_company_url\u001b[49m\u001b[43m(\u001b[49m\u001b[43mcompany_name\u001b[49m\u001b[43m)\u001b[49m\n\u001b[0;32m     29\u001b[0m \u001b[38;5;28mprint\u001b[39m(\u001b[38;5;124mf\u001b[39m\u001b[38;5;124m\"\u001b[39m\u001b[38;5;124mLinkedIn URL for \u001b[39m\u001b[38;5;132;01m{\u001b[39;00mcompany_data[\u001b[38;5;124m'\u001b[39m\u001b[38;5;124mcompany_name\u001b[39m\u001b[38;5;124m'\u001b[39m]\u001b[38;5;132;01m}\u001b[39;00m\u001b[38;5;124m: \u001b[39m\u001b[38;5;132;01m{\u001b[39;00mcompany_data[\u001b[38;5;124m'\u001b[39m\u001b[38;5;124mcompany_page_url\u001b[39m\u001b[38;5;124m'\u001b[39m]\u001b[38;5;132;01m}\u001b[39;00m\u001b[38;5;124m\"\u001b[39m)\n",
      "Cell \u001b[1;32mIn[1], line 9\u001b[0m, in \u001b[0;36mget_linkedin_company_url\u001b[1;34m(company_name)\u001b[0m\n\u001b[0;32m      3\u001b[0m google_search_url \u001b[38;5;241m=\u001b[39m \u001b[38;5;124mf\u001b[39m\u001b[38;5;124m\"\u001b[39m\u001b[38;5;124mhttps://www.google.com/search?q=\u001b[39m\u001b[38;5;132;01m{\u001b[39;00msearch_query\u001b[38;5;132;01m}\u001b[39;00m\u001b[38;5;124m\"\u001b[39m\n\u001b[0;32m      5\u001b[0m headers \u001b[38;5;241m=\u001b[39m {\n\u001b[0;32m      6\u001b[0m     \u001b[38;5;124m\"\u001b[39m\u001b[38;5;124mUser-Agent\u001b[39m\u001b[38;5;124m\"\u001b[39m: \u001b[38;5;124m\"\u001b[39m\u001b[38;5;124mMozilla/5.0 (Windows NT 10.0; Win64; x64) AppleWebKit/537.36 (KHTML, like Gecko) Chrome/91.0.4472.124 Safari/537.36\u001b[39m\u001b[38;5;124m\"\u001b[39m\n\u001b[0;32m      7\u001b[0m }\n\u001b[1;32m----> 9\u001b[0m response \u001b[38;5;241m=\u001b[39m \u001b[43mrequests\u001b[49m\u001b[38;5;241m.\u001b[39mget(google_search_url, headers\u001b[38;5;241m=\u001b[39mheaders)\n\u001b[0;32m     10\u001b[0m soup \u001b[38;5;241m=\u001b[39m BeautifulSoup(response\u001b[38;5;241m.\u001b[39mtext, \u001b[38;5;124m'\u001b[39m\u001b[38;5;124mhtml.parser\u001b[39m\u001b[38;5;124m'\u001b[39m)\n\u001b[0;32m     12\u001b[0m \u001b[38;5;28;01mfor\u001b[39;00m link \u001b[38;5;129;01min\u001b[39;00m soup\u001b[38;5;241m.\u001b[39mfind_all(\u001b[38;5;124m'\u001b[39m\u001b[38;5;124ma\u001b[39m\u001b[38;5;124m'\u001b[39m):\n",
      "\u001b[1;31mNameError\u001b[0m: name 'requests' is not defined"
     ]
    }
   ],
   "source": [
    "\n",
    "\n",
    "def get_linkedin_company_url(company_name):\n",
    "    search_query = f\"{company_name} LinkedIn\"\n",
    "    google_search_url = f\"https://www.google.com/search?q={search_query}\"\n",
    "    \n",
    "    headers = {\n",
    "        \"User-Agent\": \"Mozilla/5.0 (Windows NT 10.0; Win64; x64) AppleWebKit/537.36 (KHTML, like Gecko) Chrome/91.0.4472.124 Safari/537.36\"\n",
    "    }\n",
    "    \n",
    "    response = requests.get(google_search_url, headers=headers)\n",
    "    soup = BeautifulSoup(response.text, 'html.parser')\n",
    "    \n",
    "    for link in soup.find_all('a'):\n",
    "        url = link.get('href')\n",
    "        if url is None:\n",
    "            continue\n",
    "        if 'linkedin.com/company' in url:\n",
    "            linkedin_company_name = url.split('/')[-1]\n",
    "            company_link = url\n",
    "            output = {'company_name': company_name,\n",
    "                'company_linkedin_name':linkedin_company_name, \n",
    "                'company_page_url':company_link}\n",
    "\n",
    "            return output\n",
    "    \n",
    "    return \"LinkedIn company page not found\"\n",
    "\n",
    "company_name = \"Menlo Ventures\"\n",
    "company_data = get_linkedin_company_url(company_name)\n",
    "print(f\"LinkedIn URL for {company_data['company_name']}: {company_data['company_page_url']}\")\n"
   ]
  },
  {
   "cell_type": "code",
   "execution_count": 8,
   "metadata": {},
   "outputs": [
    {
     "name": "stderr",
     "output_type": "stream",
     "text": [
      "INFO:li:scraper:('Using strategy AuthenticatedStrategy',)\n",
      "INFO:li:scraper:('Starting new query', \"Query(query= options=QueryOptions(limit=1000 locations=['United States'] filters=QueryFilters(company_jobs_url=https://www.linkedin.com/jobs/search/?currentJobId=3954754673&f_C=162663&geoId=92000000&origin=COMPANY_PAGE_JOBS_CLUSTER_EXPANSION&originToLandingJobPostings=3954754673%2C3952663973%2C3955407426%2C3845620624%2C3942259594%2C3972937075%2C3964004424%2C3948218536%2C3972232833) apply_link=False skip_promoted_jobs=True page_offset=0))\")\n",
      "INFO:li:scraper:('Chrome debugger url', 'http://localhost:53966')\n",
      "INFO:li:scraper:('Websocket debugger url: ', 'ws://localhost:53966/devtools/page/2BB12E526C2850D072F5D6761F0F02DD')\n",
      "INFO:li:scraper:('[][United States]', 'Setting authentication cookie')\n",
      "INFO:li:scraper:('[][United States]', 'Opening https://www.linkedin.com/jobs/search?location=United+States&f_C=162663&start=0')\n",
      "INFO:li:scraper:('[][United States]', 'Session is valid')\n",
      "INFO:li:scraper:('[][United States][1]', 'Processed')\n"
     ]
    },
    {
     "name": "stdout",
     "output_type": "stream",
     "text": [
      "[ON_DATA] 3955408336 Sr Actuarial Analyst Blue Cross NC  https://www.linkedin.com/jobs/view/3955408336/?eBP=NON_CHARGEABLE_CHANNEL&refId=M0j5uAIr65PJWXvRXzcgWw%3D%3D&trackingId=ontcRDTaaRORGXOKrX2fjA%3D%3D&trk=flagship3_search_srp_jobs ['$75.9K/yr - $136.6K/yr HybridMatches your job preferences, workplace type is Hybrid. Full-time Mid-Senior level', '5,001-10,000 employees · Insurance', '5 school alumni work here', 'Skills: SAS (Software), Analytical Skills, +8 more', 'See recent hiring trends for Bluecrossnc-LL. Reactivate Premium', '', 'Am I a good fit for this job?', 'How can I best position myself for this job?', 'Tell me more about Blue Cros...'] 1879\n"
     ]
    },
    {
     "name": "stderr",
     "output_type": "stream",
     "text": [
      "INFO:li:scraper:('[][United States][2]', 'Processed')\n"
     ]
    },
    {
     "name": "stdout",
     "output_type": "stream",
     "text": [
      "[ON_DATA] 3972937075 Sr Business Systems Analyst (Pharmacy Division - Medicare) Blue Cross NC  https://www.linkedin.com/jobs/view/3972937075/?eBP=NON_CHARGEABLE_CHANNEL&refId=M0j5uAIr65PJWXvRXzcgWw%3D%3D&trackingId=dw6ho6b7mdJMaoAKsqmJhg%3D%3D&trk=flagship3_search_srp_jobs [] 4755\n"
     ]
    },
    {
     "name": "stderr",
     "output_type": "stream",
     "text": [
      "INFO:li:scraper:('[][United States][3]', 'Processed')\n"
     ]
    },
    {
     "name": "stdout",
     "output_type": "stream",
     "text": [
      "[ON_DATA] 3945998755 Principal AI Strategy and Governance Analyst Blue Cross NC  https://www.linkedin.com/jobs/view/3945998755/?eBP=NON_CHARGEABLE_CHANNEL&refId=M0j5uAIr65PJWXvRXzcgWw%3D%3D&trackingId=wrxjSf0vVdDnMHto2W14rA%3D%3D&trk=flagship3_search_srp_jobs ['$118.3K/yr - $214.8K/yr On-siteMatches your job preferences, workplace type is On-site. Full-time Mid-Senior level', '5,001-10,000 employees · Insurance', '5 school alumni work here', 'Skills: Analytical Skills, Data Governance, +8 more', 'See recent hiring trends for Bluecrossnc-LL. Reactivate Premium', '', 'Am I a good fit for this job?', 'How can I best position myself for this job?', 'Tell me more about Blue Cros...'] 4836\n"
     ]
    },
    {
     "name": "stderr",
     "output_type": "stream",
     "text": [
      "INFO:li:scraper:('[][United States][4]', 'Processed')\n"
     ]
    },
    {
     "name": "stdout",
     "output_type": "stream",
     "text": [
      "[ON_DATA] 3969364402 Executive Assistant, Diversified Business Group Blue Cross NC  https://www.linkedin.com/jobs/view/3969364402/?eBP=NON_CHARGEABLE_CHANNEL&refId=M0j5uAIr65PJWXvRXzcgWw%3D%3D&trackingId=OCqC8V%2BF20snuEY43%2FvFFQ%3D%3D&trk=flagship3_search_srp_jobs ['$63.1K/yr - $100.8K/yr HybridMatches your job preferences, workplace type is Hybrid. Full-time Entry level', '5,001-10,000 employees · Insurance', '5 school alumni work here', 'Skills: Travel Arrangements, Expense Reports, +8 more', 'See recent hiring trends for Bluecrossnc-LL. Reactivate Premium', '', 'Am I a good fit for this job?', 'How can I best position myself for this job?', 'Tell me more about Blue Cros...'] 3383\n"
     ]
    },
    {
     "name": "stderr",
     "output_type": "stream",
     "text": [
      "INFO:li:scraper:('[][United States][5]', 'Processed')\n"
     ]
    },
    {
     "name": "stdout",
     "output_type": "stream",
     "text": [
      "[ON_DATA] 3955407426 Principal Product Developer - Behavioral Health Blue Cross NC  https://www.linkedin.com/jobs/view/3955407426/?eBP=NON_CHARGEABLE_CHANNEL&refId=M0j5uAIr65PJWXvRXzcgWw%3D%3D&trackingId=lGbdrrTdc6azrIERMsQNTg%3D%3D&trk=flagship3_search_srp_jobs ['$105.6K/yr - $191.8K/yr Full-time Mid-Senior level', '5,001-10,000 employees · Insurance', '5 school alumni work here', 'Skills: Business Case Preparation, Detailed Design, +8 more', 'See recent hiring trends for Bluecrossnc-LL. Reactivate Premium', '', 'Am I a good fit for this job?', 'How can I best position myself for this job?', 'Tell me more about Blue Cros...'] 2624\n"
     ]
    },
    {
     "name": "stderr",
     "output_type": "stream",
     "text": [
      "INFO:li:scraper:('[][United States][6]', 'Processed')\n"
     ]
    },
    {
     "name": "stdout",
     "output_type": "stream",
     "text": [
      "[ON_DATA] 3845620624 Associate Vice President (AVP), Government Pharmacy Blue Cross NC  https://www.linkedin.com/jobs/view/3845620624/?eBP=NON_CHARGEABLE_CHANNEL&refId=M0j5uAIr65PJWXvRXzcgWw%3D%3D&trackingId=JQl383OSENXC0SDh05nmzg%3D%3D&trk=flagship3_search_srp_jobs ['$165.8K/yr - $331.6K/yr On-siteMatches your job preferences, workplace type is On-site. Full-time Executive', '5,001-10,000 employees · Insurance', '5 school alumni work here', 'Skills: Government Business, Bid Processes, +8 more', 'See recent hiring trends for Bluecrossnc-LL. Reactivate Premium'] 2960\n"
     ]
    },
    {
     "name": "stderr",
     "output_type": "stream",
     "text": [
      "INFO:li:scraper:('[][United States][7]', 'Processed')\n"
     ]
    },
    {
     "name": "stdout",
     "output_type": "stream",
     "text": [
      "[ON_DATA] 3948218536 MDM Data Analyst Blue Cross NC  https://www.linkedin.com/jobs/view/3948218536/?eBP=NON_CHARGEABLE_CHANNEL&refId=M0j5uAIr65PJWXvRXzcgWw%3D%3D&trackingId=7YQFIuY4cWYZEouQAEBMKQ%3D%3D&trk=flagship3_search_srp_jobs ['$68.2K/yr - $109.1K/yr Full-time Mid-Senior level', '5,001-10,000 employees · Insurance', '5 school alumni work here', 'Skills: Data Analysis, SQL, +8 more', 'See recent hiring trends for Bluecrossnc-LL. Reactivate Premium', '', 'Am I a good fit for this job?', 'How can I best position myself for this job?', 'Tell me more about Blue Cros...'] 2647\n"
     ]
    },
    {
     "name": "stderr",
     "output_type": "stream",
     "text": [
      "INFO:li:scraper:('[][United States][8]', 'Processed')\n"
     ]
    },
    {
     "name": "stdout",
     "output_type": "stream",
     "text": [
      "[ON_DATA] 3949803374 Principal Data & Analytics Governance Analyst with verification Blue Cross NC  https://www.linkedin.com/jobs/view/3949803374/?eBP=NON_CHARGEABLE_CHANNEL&refId=M0j5uAIr65PJWXvRXzcgWw%3D%3D&trackingId=SdAD963BSfhCVCy1gZHhUw%3D%3D&trk=flagship3_search_srp_jobs ['RemoteMatches your job preferences, workplace type is Remote. Full-time', '5,001-10,000 employees · Insurance', '5 school alumni work here', '5 of 8 skills match your profile - you may be a good fit', 'See how you compare to over 100 other applicants. Reactivate Premium', '', 'Am I a good fit for this job?', 'How can I best position myself for this job?', 'Tell me more about Blue Cros...'] 1744\n"
     ]
    },
    {
     "name": "stderr",
     "output_type": "stream",
     "text": [
      "INFO:li:scraper:('[][United States][9]', 'Processed')\n"
     ]
    },
    {
     "name": "stdout",
     "output_type": "stream",
     "text": [
      "[ON_DATA] 3964004424 Case Manager, Behavioral Health Total Care Blue Cross NC  https://www.linkedin.com/jobs/view/3964004424/?eBP=NON_CHARGEABLE_CHANNEL&refId=M0j5uAIr65PJWXvRXzcgWw%3D%3D&trackingId=mlJN5%2BuQX6QvuYr7np4QHg%3D%3D&trk=flagship3_search_srp_jobs ['$61.9K/yr - $99K/yr On-siteMatches your job preferences, workplace type is On-site. Full-time Mid-Senior level', '5,001-10,000 employees · Insurance', '5 school alumni work here', 'Skills: Case Management, Behavioral Health, +8 more', 'See recent hiring trends for Bluecrossnc-LL. Reactivate Premium'] 3090\n"
     ]
    },
    {
     "name": "stderr",
     "output_type": "stream",
     "text": [
      "INFO:li:scraper:('[][United States][10]', 'Processed')\n"
     ]
    },
    {
     "name": "stdout",
     "output_type": "stream",
     "text": [
      "[ON_DATA] 3949477757 Sr Support Engineer - Generative AI with verification Blue Cross NC  https://www.linkedin.com/jobs/view/3949477757/?eBP=NON_CHARGEABLE_CHANNEL&refId=M0j5uAIr65PJWXvRXzcgWw%3D%3D&trackingId=WInZ0TlLuktikuYznJHLYw%3D%3D&trk=flagship3_search_srp_jobs ['RemoteMatches your job preferences, workplace type is Remote. Full-time Mid-Senior level', '5,001-10,000 employees · Insurance', '5 school alumni work here', 'Skills: Analytical Skills, Business Workflows, +5 more', 'See how you compare to 48 applicants. Reactivate Premium'] 2406\n"
     ]
    },
    {
     "name": "stderr",
     "output_type": "stream",
     "text": [
      "INFO:li:scraper:('[][United States][11]', 'Processed')\n"
     ]
    },
    {
     "name": "stdout",
     "output_type": "stream",
     "text": [
      "[ON_DATA] 3958140946 Consulting Actuary - Medicare Part D with verification Blue Cross NC  https://www.linkedin.com/jobs/view/3958140946/?eBP=NON_CHARGEABLE_CHANNEL&refId=M0j5uAIr65PJWXvRXzcgWw%3D%3D&trackingId=bcZ64BT1IYt2IyuzzNZ8Kw%3D%3D&trk=flagship3_search_srp_jobs ['RemoteMatches your job preferences, workplace type is Remote. Full-time Mid-Senior level', '5,001-10,000 employees · Insurance', '5 school alumni work here', 'Skills: Medicare Part D, Actuarial Science, +2 more', 'See how you compare to 5 applicants. Reactivate Premium'] 1887\n"
     ]
    },
    {
     "name": "stderr",
     "output_type": "stream",
     "text": [
      "INFO:li:scraper:('[][United States][12]', 'Processed')\n"
     ]
    },
    {
     "name": "stdout",
     "output_type": "stream",
     "text": [
      "[ON_DATA] 3972232833 Senior AI/ML Scientist Blue Cross NC  https://www.linkedin.com/jobs/view/3972232833/?eBP=NON_CHARGEABLE_CHANNEL&refId=M0j5uAIr65PJWXvRXzcgWw%3D%3D&trackingId=OspjpAN5XZ0comYVAdt%2BTA%3D%3D&trk=flagship3_search_srp_jobs ['$110K/yr - $199K/yr Full-time Mid-Senior level', '5,001-10,000 employees · Insurance', '5 school alumni work here', '7 of 10 skills match your profile - you may be a good fit', 'See recent hiring trends for Bluecrossnc-LL. Reactivate Premium', '', 'Am I a good fit for this job?', 'How can I best position myself for this job?', 'Tell me more about Blue Cros...'] 3480\n"
     ]
    },
    {
     "name": "stderr",
     "output_type": "stream",
     "text": [
      "INFO:li:scraper:('[][United States][13]', 'Processed')\n"
     ]
    },
    {
     "name": "stdout",
     "output_type": "stream",
     "text": [
      "[ON_DATA] 3958756183 Consulting Actuary - Medicare Part D Blue Cross NC  https://www.linkedin.com/jobs/view/3958756183/?eBP=NON_CHARGEABLE_CHANNEL&refId=M0j5uAIr65PJWXvRXzcgWw%3D%3D&trackingId=DtNR4PpgpHA83pahL1yT5w%3D%3D&trk=flagship3_search_srp_jobs ['$105.5K/yr - $200.5K/yr On-siteMatches your job preferences, workplace type is On-site. Full-time Mid-Senior level', '5,001-10,000 employees · Insurance', '5 school alumni work here', 'Skills: Statistical Analysis, SAS (Software), +8 more', 'See recent hiring trends for Bluecrossnc-LL. Reactivate Premium', '', 'Am I a good fit for this job?', 'How can I best position myself for this job?', 'Tell me more about Blue Cros...'] 1943\n"
     ]
    },
    {
     "name": "stderr",
     "output_type": "stream",
     "text": [
      "INFO:li:scraper:('[][United States][14]', 'Processed')\n"
     ]
    },
    {
     "name": "stdout",
     "output_type": "stream",
     "text": [
      "[ON_DATA] 3972933689 Clinical Quality Management Analyst - 2 positions (Eastern NC and Western NC) Blue Cross NC  https://www.linkedin.com/jobs/view/3972933689/?eBP=NON_CHARGEABLE_CHANNEL&refId=M0j5uAIr65PJWXvRXzcgWw%3D%3D&trackingId=F6i5jal%2FUz39rPnjSHtAYQ%3D%3D&trk=flagship3_search_srp_jobs ['$68.2K/yr - $109.1K/yr On-siteMatches your job preferences, workplace type is On-site. Full-time Mid-Senior level', '5,001-10,000 employees · Insurance', '5 school alumni work here', 'Skills: Licensed Practical Nurse (LPN), Medical Review, +8 more', 'See recent hiring trends for Bluecrossnc-LL. Reactivate Premium'] 2913\n"
     ]
    },
    {
     "name": "stderr",
     "output_type": "stream",
     "text": [
      "INFO:li:scraper:('[][United States][15]', 'Processed')\n"
     ]
    },
    {
     "name": "stdout",
     "output_type": "stream",
     "text": [
      "[ON_DATA] 3962869924 Regional Sales Executive with verification Blue Cross NC  https://www.linkedin.com/jobs/view/3962869924/?eBP=NON_CHARGEABLE_CHANNEL&refId=M0j5uAIr65PJWXvRXzcgWw%3D%3D&trackingId=EtUakujORv5NO7ZSWIwJ6w%3D%3D&trk=flagship3_search_srp_jobs ['On-siteMatches your job preferences, workplace type is On-site. Full-time Mid-Senior level', '5,001-10,000 employees · Insurance', '5 school alumni work here', 'Skills: Retention Strategies, Presentations, +8 more', 'See how you compare to 23 applicants. Reactivate Premium', '', 'Am I a good fit for this job?', 'How can I best position myself for this job?', 'Tell me more about Blue Cros...'] 4900\n"
     ]
    },
    {
     "name": "stderr",
     "output_type": "stream",
     "text": [
      "INFO:li:scraper:('[][United States][16]', 'Processed')\n"
     ]
    },
    {
     "name": "stdout",
     "output_type": "stream",
     "text": [
      "[ON_DATA] 3954882518 Principal Product Developer - Behavioral Health with verification Blue Cross NC  https://www.linkedin.com/jobs/view/3954882518/?eBP=NON_CHARGEABLE_CHANNEL&refId=M0j5uAIr65PJWXvRXzcgWw%3D%3D&trackingId=ecdBSpwzGPujt%2BCiExR%2BYw%3D%3D&trk=flagship3_search_srp_jobs ['RemoteMatches your job preferences, workplace type is Remote. Full-time Mid-Senior level', '5,001-10,000 employees · Insurance', '5 school alumni work here', 'Skills: Healthcare, Program Management, +8 more', 'See how you compare to 45 applicants. Reactivate Premium', '', 'Am I a good fit for this job?', 'How can I best position myself for this job?', 'Tell me more about Blue Cros...'] 2587\n"
     ]
    },
    {
     "name": "stderr",
     "output_type": "stream",
     "text": [
      "INFO:li:scraper:('[][United States][17]', 'Processed')\n"
     ]
    },
    {
     "name": "stdout",
     "output_type": "stream",
     "text": [
      "[ON_DATA] 3963798864 BI Developer Analyst Blue Cross NC  https://www.linkedin.com/jobs/view/3963798864/?eBP=NON_CHARGEABLE_CHANNEL&refId=M0j5uAIr65PJWXvRXzcgWw%3D%3D&trackingId=M0QeJXvOSXILt%2FdIj5aLuQ%3D%3D&trk=flagship3_search_srp_jobs ['$68.2K/yr - $109.1K/yr Full-time Mid-Senior level', 'Data Engineering SQL', '5,001-10,000 employees · Insurance', '5 school alumni work here', '6 of 10 skills match your profile - you may be a good fit', 'See recent hiring trends for Bluecrossnc-LL. Reactivate Premium', '', 'Am I a good fit for this job?', 'How can I best position myself for this job?', 'Tell me more about Blue Cros...'] 2789\n"
     ]
    },
    {
     "name": "stderr",
     "output_type": "stream",
     "text": [
      "INFO:li:scraper:('[][United States][18]', 'Processed')\n"
     ]
    },
    {
     "name": "stdout",
     "output_type": "stream",
     "text": [
      "[ON_DATA] 3952667429 Sr Machine Learning Engineer Blue Cross NC  https://www.linkedin.com/jobs/view/3952667429/?eBP=NON_CHARGEABLE_CHANNEL&refId=M0j5uAIr65PJWXvRXzcgWw%3D%3D&trackingId=VpHYw3k4WX%2F522W0WC3vkQ%3D%3D&trk=flagship3_search_srp_jobs ['$100.5K/yr - $182.7K/yr On-siteMatches your job preferences, workplace type is On-site. Full-time Mid-Senior level', 'Machine Learning Python Show more', '5,001-10,000 employees · Insurance', '5 school alumni work here', 'Skills: Data Mining, Data Science, +8 more', 'See recent hiring trends for Bluecrossnc-LL. Reactivate Premium', '', 'Am I a good fit for this job?', 'How can I best position myself for this job?', 'Tell me more about Blue Cros...'] 3344\n"
     ]
    },
    {
     "name": "stderr",
     "output_type": "stream",
     "text": [
      "INFO:li:scraper:('[][United States][19]', 'Processed')\n"
     ]
    },
    {
     "name": "stdout",
     "output_type": "stream",
     "text": [
      "[ON_DATA] 3972932853 Team Leader, Compliance Blue Cross NC  https://www.linkedin.com/jobs/view/3972932853/?eBP=NON_CHARGEABLE_CHANNEL&refId=M0j5uAIr65PJWXvRXzcgWw%3D%3D&trackingId=6Jtovmx9s9SA%2BQwxbfobIA%3D%3D&trk=flagship3_search_srp_jobs ['$69K/yr - $124.2K/yr On-siteMatches your job preferences, workplace type is On-site. Full-time Mid-Senior level', '5,001-10,000 employees · Insurance', '5 school alumni work here', 'Skills: Medicare, Timelines, +8 more', 'See recent hiring trends for Bluecrossnc-LL. Reactivate Premium', '', 'Am I a good fit for this job?', 'How can I best position myself for this job?', 'Tell me more about Blue Cros...'] 2794\n"
     ]
    },
    {
     "name": "stderr",
     "output_type": "stream",
     "text": [
      "INFO:li:scraper:('[][United States][20]', 'Processed')\n"
     ]
    },
    {
     "name": "stdout",
     "output_type": "stream",
     "text": [
      "[ON_DATA] 3955735944 Senior Actuarial Analyst with verification Blue Cross NC  https://www.linkedin.com/jobs/view/3955735944/?eBP=NON_CHARGEABLE_CHANNEL&refId=M0j5uAIr65PJWXvRXzcgWw%3D%3D&trackingId=loLq%2ByG0Ju04FoQ03HjLQQ%3D%3D&trk=flagship3_search_srp_jobs ['RemoteMatches your job preferences, workplace type is Remote. Full-time Mid-Senior level', '5,001-10,000 employees · Insurance', '5 school alumni work here', 'Skills: Statistical Analysis, Data Analysis, +5 more', 'See how you compare to 48 applicants. Reactivate Premium', '', 'Am I a good fit for this job?', 'How can I best position myself for this job?', 'Tell me more about Blue Cros...'] 2043\n"
     ]
    },
    {
     "name": "stderr",
     "output_type": "stream",
     "text": [
      "INFO:li:scraper:('[][United States][21]', 'Processed')\n"
     ]
    },
    {
     "name": "stdout",
     "output_type": "stream",
     "text": [
      "[ON_DATA] 3972231829 Medicare Sales Executive Blue Cross NC  https://www.linkedin.com/jobs/view/3972231829/?eBP=NON_CHARGEABLE_CHANNEL&refId=M0j5uAIr65PJWXvRXzcgWw%3D%3D&trackingId=P2Y%2F3xkQhhQn4jLboA6lJQ%3D%3D&trk=flagship3_search_srp_jobs ['HybridMatches your job preferences, workplace type is Hybrid. Full-time Mid-Senior level', '5,001-10,000 employees · Insurance', '5 school alumni work here', 'Skills: Sales Processes, Strategic Vision, +8 more', 'See recent hiring trends for Bluecrossnc-LL. Reactivate Premium', '', 'Am I a good fit for this job?', 'How can I best position myself for this job?', 'Tell me more about Blue Cros...'] 2538\n"
     ]
    },
    {
     "name": "stderr",
     "output_type": "stream",
     "text": [
      "INFO:li:scraper:('[][United States][22]', 'Processed')\n"
     ]
    },
    {
     "name": "stdout",
     "output_type": "stream",
     "text": [
      "[ON_DATA] 3952663973 Sr Support Engineer, AI/ML Blue Cross NC  https://www.linkedin.com/jobs/view/3952663973/?eBP=NON_CHARGEABLE_CHANNEL&refId=M0j5uAIr65PJWXvRXzcgWw%3D%3D&trackingId=cRByElExrBzoKfg5cC1Lnw%3D%3D&trk=flagship3_search_srp_jobs ['$100.5K/yr - $182.7K/yr On-siteMatches your job preferences, workplace type is On-site. Full-time Mid-Senior level', '5,001-10,000 employees · Insurance', '5 school alumni work here', 'Skills: Troubleshooting, Communication, +2 more', 'See recent hiring trends for Bluecrossnc-LL. Reactivate Premium', '', 'Am I a good fit for this job?', 'How can I best position myself for this job?', 'Tell me more about Blue Cros...'] 2543\n"
     ]
    },
    {
     "name": "stderr",
     "output_type": "stream",
     "text": [
      "INFO:li:scraper:('[][United States][23]', 'Processed')\n"
     ]
    },
    {
     "name": "stdout",
     "output_type": "stream",
     "text": [
      "[ON_DATA] 3942800274 AI/ML Governance Analyst Blue Cross NC  https://www.linkedin.com/jobs/view/3942800274/?eBP=NON_CHARGEABLE_CHANNEL&refId=M0j5uAIr65PJWXvRXzcgWw%3D%3D&trackingId=iquVmCpLCZH908PfKHHg4w%3D%3D&trk=flagship3_search_srp_jobs ['$74K/yr - $118.2K/yr On-siteMatches your job preferences, workplace type is On-site. Full-time Entry level', '5,001-10,000 employees · Insurance', '5 school alumni work here', 'Skills: Analytical Skills, Implementation Plans, +8 more', 'See recent hiring trends for Bluecrossnc-LL. Reactivate Premium', '', 'Am I a good fit for this job?', 'How can I best position myself for this job?', 'Tell me more about Blue Cros...'] 3896\n"
     ]
    },
    {
     "name": "stderr",
     "output_type": "stream",
     "text": [
      "INFO:li:scraper:('[][United States][24]', 'Processed')\n"
     ]
    },
    {
     "name": "stdout",
     "output_type": "stream",
     "text": [
      "[ON_DATA] 3954754673 Manager, Payroll Tax and Accounting with verification Blue Cross NC  https://www.linkedin.com/jobs/view/3954754673/?eBP=NON_CHARGEABLE_CHANNEL&refId=M0j5uAIr65PJWXvRXzcgWw%3D%3D&trackingId=wXFX1SDP4AMvmiqpIDO7SQ%3D%3D&trk=flagship3_search_srp_jobs ['RemoteMatches your job preferences, workplace type is Remote. Full-time Mid-Senior level', '5,001-10,000 employees · Insurance', '5 school alumni work here', 'Skills: Multi-state Payroll Processing, Workday Payroll, +2 more', 'See how you compare to 68 applicants. Reactivate Premium', '', 'Am I a good fit for this job?', 'How can I best position myself for this job?', 'Tell me more about Blue Cros...'] 3183\n"
     ]
    },
    {
     "name": "stderr",
     "output_type": "stream",
     "text": [
      "INFO:li:scraper:('[][United States][25]', 'Processed')\n",
      "INFO:li:scraper:('[][United States]', 'No more jobs to process in this page')\n",
      "INFO:li:scraper:('[][United States]', 'Metrics:', '{ processed: 25, failed: 0, missed: 0, skipped: 0 }')\n",
      "INFO:li:scraper:('[][United States]', 'Pagination requested [1]')\n",
      "INFO:li:scraper:('[][United States]', 'Opening https://www.linkedin.com/jobs/search?location=United+States&f_C=162663&start=25')\n",
      "INFO:li:scraper:('[][United States]', 'Waiting for new jobs to load')\n"
     ]
    },
    {
     "name": "stdout",
     "output_type": "stream",
     "text": [
      "[ON_DATA] 3964005054 Sr Business Systems Analyst Blue Cross NC  https://www.linkedin.com/jobs/view/3964005054/?eBP=NON_CHARGEABLE_CHANNEL&refId=M0j5uAIr65PJWXvRXzcgWw%3D%3D&trackingId=BUmK1uRvmeSAg%2BroqMFz%2FQ%3D%3D&trk=flagship3_search_srp_jobs ['$75.9K/yr - $136.6K/yr HybridMatches your job preferences, workplace type is Hybrid. Full-time Mid-Senior level', '5,001-10,000 employees · Insurance', '5 school alumni work here', 'Skills: Systems Analysis, Business Systems Analysis, +8 more', 'See recent hiring trends for Bluecrossnc-LL. Reactivate Premium', '', 'Am I a good fit for this job?', 'How can I best position myself for this job?', 'Tell me more about Blue Cros...'] 4097\n"
     ]
    },
    {
     "name": "stderr",
     "output_type": "stream",
     "text": [
      "INFO:li:scraper:('[][United States]', 'Session is valid')\n",
      "INFO:li:scraper:('[][United States][26]', 'Processed')\n"
     ]
    },
    {
     "name": "stdout",
     "output_type": "stream",
     "text": [
      "[ON_DATA] 3945998756 Principal Data & Analytics Governance Analyst Blue Cross NC  https://www.linkedin.com/jobs/view/3945998756/?eBP=NON_CHARGEABLE_CHANNEL&refId=NreC38FujF45zyRpSvkg5Q%3D%3D&trackingId=ymN%2BeYn078WAWVeqvwYKlA%3D%3D&trk=flagship3_search_srp_jobs ['$91.1K/yr - $164K/yr Full-time Mid-Senior level', '5,001-10,000 employees · Insurance', '5 school alumni work here', '5 of 8 skills match your profile - you may be a good fit', 'See recent hiring trends for Bluecrossnc-LL. Reactivate Premium', '', 'Am I a good fit for this job?', 'How can I best position myself for this job?', 'Tell me more about Blue Cros...'] 1792\n"
     ]
    },
    {
     "name": "stderr",
     "output_type": "stream",
     "text": [
      "INFO:li:scraper:('[][United States][27]', 'Processed')\n"
     ]
    },
    {
     "name": "stdout",
     "output_type": "stream",
     "text": [
      "[ON_DATA] 3942259594 Principal Logical Data Modeler Blue Cross NC  https://www.linkedin.com/jobs/view/3942259594/?eBP=NON_CHARGEABLE_CHANNEL&refId=NreC38FujF45zyRpSvkg5Q%3D%3D&trackingId=DnooBofgSii%2Bzb1kRtAWjg%3D%3D&trk=flagship3_search_srp_jobs ['$105.6K/yr - $191.8K/yr Full-time Mid-Senior level', '5,001-10,000 employees · Insurance', '5 school alumni work here', 'Skills: Data Modeling, Data Warehousing, +8 more', 'See recent hiring trends for Bluecrossnc-LL. Reactivate Premium', '', 'Am I a good fit for this job?', 'How can I best position myself for this job?', 'Tell me more about Blue Cros...'] 3626\n"
     ]
    },
    {
     "name": "stderr",
     "output_type": "stream",
     "text": [
      "INFO:li:scraper:('[][United States][28]', 'Processed')\n"
     ]
    },
    {
     "name": "stdout",
     "output_type": "stream",
     "text": [
      "[ON_DATA] 3908067120 Principal Project/Program Manager, Medicare Pharmacy Blue Cross NC  https://www.linkedin.com/jobs/view/3908067120/?eBP=NON_CHARGEABLE_CHANNEL&refId=NreC38FujF45zyRpSvkg5Q%3D%3D&trackingId=ZJ1JkNnAqOGWGk6TACL2Nw%3D%3D&trk=flagship3_search_srp_jobs ['$91.1K/yr - $164K/yr On-siteMatches your job preferences, workplace type is On-site. Full-time Mid-Senior level', '5,001-10,000 employees · Insurance', '5 school alumni work here', 'Skills: Customer Satisfaction, Project Plans, +8 more', 'See recent hiring trends for Bluecrossnc-LL. Reactivate Premium'] 3472\n"
     ]
    },
    {
     "name": "stderr",
     "output_type": "stream",
     "text": [
      "INFO:li:scraper:('[][United States][29]', 'Processed')\n"
     ]
    },
    {
     "name": "stdout",
     "output_type": "stream",
     "text": [
      "[ON_DATA] 3941299394 Enterprise Strategy Consultant Blue Cross NC  https://www.linkedin.com/jobs/view/3941299394/?eBP=NON_CHARGEABLE_CHANNEL&refId=NreC38FujF45zyRpSvkg5Q%3D%3D&trackingId=iq%2FkQzo1cX6rN9UohWIOvw%3D%3D&trk=flagship3_search_srp_jobs ['$77.2K/yr - $123.4K/yr RemoteMatches your job preferences, workplace type is Remote. Full-time Mid-Senior level', '5,001-10,000 employees · Insurance', '5 school alumni work here', 'Skills: Strategy Consulting, Business Case Preparation, +8 more', 'See recent hiring trends for Bluecrossnc-LL. Reactivate Premium', '', 'Am I a good fit for this job?', 'How can I best position myself for this job?', 'Tell me more about Blue Cros...'] 4860\n"
     ]
    },
    {
     "name": "stderr",
     "output_type": "stream",
     "text": [
      "INFO:li:scraper:('[][United States][30]', 'Processed')\n"
     ]
    },
    {
     "name": "stdout",
     "output_type": "stream",
     "text": [
      "[ON_DATA] 3948216652 Sr Support Engineer - Generative AI Blue Cross NC  https://www.linkedin.com/jobs/view/3948216652/?eBP=NON_CHARGEABLE_CHANNEL&refId=NreC38FujF45zyRpSvkg5Q%3D%3D&trackingId=c8bgzHdhhAzTuYRZjR4ePw%3D%3D&trk=flagship3_search_srp_jobs ['$100.5K/yr - $182.7K/yr On-siteMatches your job preferences, workplace type is On-site. Full-time Mid-Senior level', '5,001-10,000 employees · Insurance', '5 school alumni work here', 'Skills: Analytical Skills, Business Workflows, +5 more', 'See recent hiring trends for Bluecrossnc-LL. Reactivate Premium', '', 'Am I a good fit for this job?', 'How can I best position myself for this job?', 'Tell me more about Blue Cros...'] 2447\n"
     ]
    },
    {
     "name": "stderr",
     "output_type": "stream",
     "text": [
      "INFO:li:scraper:('[][United States][31]', 'Processed')\n"
     ]
    },
    {
     "name": "stdout",
     "output_type": "stream",
     "text": [
      "[ON_DATA] 3919728231 Data & Analytics Governance Analyst Blue Cross NC  https://www.linkedin.com/jobs/view/3919728231/?eBP=NON_CHARGEABLE_CHANNEL&refId=NreC38FujF45zyRpSvkg5Q%3D%3D&trackingId=9ZUxPEXY7GZtoTSRiErmoQ%3D%3D&trk=flagship3_search_srp_jobs ['$68.2K/yr - $109.1K/yr Full-time Mid-Senior level', '5,001-10,000 employees · Insurance', '5 school alumni work here', 'Skills: Analytics, Data Analytics, +8 more', 'See recent hiring trends for Bluecrossnc-LL. Reactivate Premium', '', 'Am I a good fit for this job?', 'How can I best position myself for this job?', 'Tell me more about Blue Cros...'] 2484\n"
     ]
    },
    {
     "name": "stderr",
     "output_type": "stream",
     "text": [
      "INFO:li:scraper:('[][United States][32]', 'Processed')\n"
     ]
    },
    {
     "name": "stdout",
     "output_type": "stream",
     "text": [
      "[ON_DATA] 3969363490 Senior Business Operations Advisor Blue Cross NC  https://www.linkedin.com/jobs/view/3969363490/?eBP=NON_CHARGEABLE_CHANNEL&refId=NreC38FujF45zyRpSvkg5Q%3D%3D&trackingId=NmEEtMbV3TvJP%2FDrVQRO7g%3D%3D&trk=flagship3_search_srp_jobs ['$69K/yr - $124.2K/yr HybridMatches your job preferences, workplace type is Hybrid. Full-time Mid-Senior level', '5,001-10,000 employees · Insurance', '5 school alumni work here', 'Skills: Data Analytics, Business Planning, +8 more', 'See recent hiring trends for Bluecrossnc-LL. Reactivate Premium', '', 'Am I a good fit for this job?', 'How can I best position myself for this job?', 'Tell me more about Blue Cros...'] 3736\n"
     ]
    },
    {
     "name": "stderr",
     "output_type": "stream",
     "text": [
      "INFO:li:scraper:('[][United States][33]', 'Skipped because promoted')\n",
      "INFO:li:scraper:('[][United States][34]', 'Skipped because promoted')\n",
      "INFO:li:scraper:('[][United States][35]', 'Processed')\n"
     ]
    },
    {
     "name": "stdout",
     "output_type": "stream",
     "text": [
      "[ON_DATA] search Internship, Data Analyst/Data Engineer, Energy (Fall 2024) Tesla  https://www.linkedin.com/jobs/collections/recommended/?currentJobId=3952438480&eBP=CwEAAAGQo8SMCIBn5c1XyuVrZqv32G1Bhm8keITICVCyZnGaWyuJfawdZgga8cjuO1zF7IPT1cDSDrjCEUNf6bg5XrRZSuUsofopCAi5IF6OVfv-JihXZuFjZPapB-qgfDCH3QHlUlkXkmddUpu6396JWDQLcyHI2dNSuGCE6CtIkEeOTDrmduvuqcL1JOoYAlXkUXzIGTAYxCgCEJyeLcyAt_HcgIICe0k5rB_e2HdTlr5f_R0nTtjt9iAvpc-E4i1qQqXrni4HWr2wUyF3nQEQ9gS25Kn1qmnpfTHVzwiE5Fx1cRaOw3dXsNLlTtwaCgKRG4DLnl1jfQ518HpzjnExZ1P9MPLEILa4OKNG9z3nVQfJP3iBrVPM4EY_jcLIXUFO_pFBNBflO0qehy9jdefaTTJH5bBIWXEZ4kdkDNSEdMwftlm1RwUdfKC4bA&refId=o7lXSpLcrzAtCdbwoTYZdA%3D%3D&trackingId=SLVRXnK5w5m88ZI0mfPMMg%3D%3D ['On-siteMatches your job preferences, workplace type is On-site. InternshipMatches your job preferences, job type is Internship. Internship', '10,001+ employees · Motor Vehicle Manufacturing', '2 connections work here · 17 company alumni work here · 7,837 school alumni work here', 'Skills: Computer Science, Data Analytics, +8 more', 'See how you compare to over 100 other applicants. Reactivate Premium', '', 'Am I a good fit for this job?', 'How can I best position myself for this job?', 'Tell me more about Tesla'] 5937\n"
     ]
    },
    {
     "name": "stderr",
     "output_type": "stream",
     "text": [
      "INFO:li:scraper:('[][United States][36]', 'Processed')\n"
     ]
    },
    {
     "name": "stdout",
     "output_type": "stream",
     "text": [
      "[ON_DATA] search Data Scientist Harnham 2024-07-11 https://www.linkedin.com/jobs/search/?alertAction=viewjobs&currentJobId=3973209176&eBP=NON_CHARGEABLE_CHANNEL&f_C=162663&location=United%20States&origin=JOBS_HOME_JOB_ALERTS&refId=gX5KCkSg%2B7tKGwjRepM3kQ%3D%3D&savedSearchId=3524949429&start=25&trackingId=hwvKBQ9f8To%2FnJBHCKGoVg%3D%3D ['£65K/yr - £70K/yr On-siteMatches your job preferences, workplace type is On-site. Full-time Mid-Senior level', '201-500 employees · Staffing and Recruiting', 'Skills: Python (Programming Language), SQL, +1 more', 'See how you compare to 16 applicants. Reactivate Premium', '', 'Am I a good fit for this job?', 'How can I best position myself for this job?', 'Tell me more about Harnham'] 2209\n"
     ]
    },
    {
     "name": "stderr",
     "output_type": "stream",
     "text": [
      "INFO:li:scraper:('[][United States][37]', 'Processed')\n"
     ]
    },
    {
     "name": "stdout",
     "output_type": "stream",
     "text": [
      "[ON_DATA] search Data Analyst REVOLUTION BEAUTY  https://www.linkedin.com/jobs/search/?alertAction=viewjobs&currentJobId=3969961686&eBP=NON_CHARGEABLE_CHANNEL&f_C=162663&location=United%20States&origin=JOBS_HOME_JOB_ALERTS&refId=gX5KCkSg%2B7tKGwjRepM3kQ%3D%3D&savedSearchId=3524949429&start=25&trackingId=wpRwGYkvdWGyrDkG1GB0MA%3D%3D ['HybridMatches your job preferences, workplace type is Hybrid. Full-time Associate', '201-500 employees · Personal Care Product Manufacturing', '2 school alumni work here', 'Skills: Data Analytics, SQL, +6 more', 'See how you compare to 91 applicants. Reactivate Premium', '', 'Am I a good fit for this job?', 'How can I best position myself for this job?', 'Tell me more about REVOLUTIO...'] 1579\n"
     ]
    },
    {
     "name": "stderr",
     "output_type": "stream",
     "text": [
      "INFO:li:scraper:('[][United States][38]', 'Processed')\n"
     ]
    },
    {
     "name": "stdout",
     "output_type": "stream",
     "text": [
      "[ON_DATA] search Data Engineer - Software Houseful  https://www.linkedin.com/jobs/search/?alertAction=viewjobs&currentJobId=3973151577&eBP=NON_CHARGEABLE_CHANNEL&f_C=162663&location=United%20States&origin=JOBS_HOME_JOB_ALERTS&refId=gX5KCkSg%2B7tKGwjRepM3kQ%3D%3D&savedSearchId=3524949429&start=25&trackingId=z3lnBzZGH8eWMLMawoGRnA%3D%3D ['HybridMatches your job preferences, workplace type is Hybrid. Full-time Mid-Senior level', '501-1,000 employees · Software Development', 'Skills: Data Engineering, Apache Spark, +8 more', 'See how you compare to 12 applicants. Reactivate Premium', '', 'Am I a good fit for this job?', 'How can I best position myself for this job?', 'Tell me more about Houseful'] 2525\n"
     ]
    },
    {
     "name": "stderr",
     "output_type": "stream",
     "text": [
      "INFO:li:scraper:('[][United States][39]', 'Processed')\n"
     ]
    },
    {
     "name": "stdout",
     "output_type": "stream",
     "text": [
      "[ON_DATA] search Entry-Level Business Analyst (Remote) Shine 2024-07-09 https://www.linkedin.com/jobs/search/?currentJobId=3970267896&eBP=NON_CHARGEABLE_CHANNEL&f_C=162663&f_TPR=r604800&f_WT=2&geoId=103644278&location=United%20States&origin=JOBS_HOME_REMOTE_JOBS&refId=KkTsTt1ZcrkvxT8agn9YFw%3D%3D&start=25&trackingId=Atbn%2FZAjUDtQZ9k6iYqJhg%3D%3D ['RemoteMatches your job preferences, workplace type is Remote. Full-time Entry level', '1-10 employees · Advertising Services', '6 of 10 skills match your profile - you may be a good fit', 'See recent hiring trends for Shine. Reactivate Premium', '', 'Am I a good fit for this job?', 'How can I best position myself for this job?', 'Tell me more about Shine'] 3223\n"
     ]
    },
    {
     "name": "stderr",
     "output_type": "stream",
     "text": [
      "INFO:li:scraper:('[][United States][40]', 'Processed')\n"
     ]
    },
    {
     "name": "stdout",
     "output_type": "stream",
     "text": [
      "[ON_DATA] search Machine Learning Engineer, Search Dropbox  https://www.linkedin.com/jobs/search/?currentJobId=3953025631&eBP=NON_CHARGEABLE_CHANNEL&f_C=162663&f_TPR=r604800&f_WT=2&geoId=103644278&location=United%20States&origin=JOBS_HOME_REMOTE_JOBS&refId=KkTsTt1ZcrkvxT8agn9YFw%3D%3D&start=25&trackingId=tbS4OPa97xQBLluH9kZhkA%3D%3D ['RemoteMatches your job preferences, workplace type is Remote. Full-time', 'Machine Learning Python Show more', '1,001-5,000 employees · Software Development', '1 company alum works here · 24 school alumni work here', '7 of 10 skills match your profile - you may be a good fit', 'See recent hiring trends for Shine. Reactivate Premium'] 5249\n"
     ]
    },
    {
     "name": "stderr",
     "output_type": "stream",
     "text": [
      "INFO:li:scraper:('[][United States][41]', 'Processed')\n"
     ]
    },
    {
     "name": "stdout",
     "output_type": "stream",
     "text": [
      "[ON_DATA] search Data Analyst Vertisystem 2024-07-10 https://www.linkedin.com/jobs/search/?currentJobId=3971813350&eBP=NON_CHARGEABLE_CHANNEL&f_C=162663&f_TPR=r604800&f_WT=2&geoId=103644278&location=United%20States&origin=JOBS_HOME_REMOTE_JOBS&refId=KkTsTt1ZcrkvxT8agn9YFw%3D%3D&start=25&trackingId=CgturVVYEiflRcLUc7oFlw%3D%3D ['$70/hr - $90/hr RemoteMatches your job preferences, workplace type is Remote. Contract Mid-Senior level', '201-500 employees · Business Consulting and Services', '2 of 2 skills match your profile - you may be a good fit', 'See how you compare to over 100 other applicants. Reactivate Premium', '', 'Am I a good fit for this job?', 'How can I best position myself for this job?', 'Tell me more about Vertisystem'] 762\n"
     ]
    },
    {
     "name": "stderr",
     "output_type": "stream",
     "text": [
      "INFO:li:scraper:('[][United States][42]', 'Processed')\n"
     ]
    },
    {
     "name": "stdout",
     "output_type": "stream",
     "text": [
      "[ON_DATA] search Data Scientist (ML/Remote Sensing) Rise Technical  https://www.linkedin.com/jobs/search/?currentJobId=3967683790&eBP=NON_CHARGEABLE_CHANNEL&f_C=162663&f_TPR=r604800&f_WT=3&geoId=103644278&location=United%20States&origin=JOBS_HOME_HYBRID_JOBS&refId=QVI%2BFSlP2USVQqNfawBfzw%3D%3D&start=25&trackingId=0N05B0XxMalHvXvVaSLTLA%3D%3D ['$80K/yr - $120K/yr HybridMatches your job preferences, workplace type is Hybrid. Full-time Mid-Senior level', '201-500 employees · Staffing and Recruiting', 'Skills: Machine Learning, Data Science, +7 more', 'See how you compare to over 100 other applicants. Reactivate Premium', '', 'Am I a good fit for this job?', 'How can I best position myself for this job?', 'Tell me more about Rise Tech...'] 1623\n"
     ]
    },
    {
     "name": "stderr",
     "output_type": "stream",
     "text": [
      "INFO:li:scraper:('[][United States][43]', 'Processed')\n"
     ]
    },
    {
     "name": "stdout",
     "output_type": "stream",
     "text": [
      "[ON_DATA] search Shortage Data Scientist I Burlington Stores, Inc.  https://www.linkedin.com/jobs/search/?currentJobId=3968232016&eBP=NON_CHARGEABLE_CHANNEL&f_C=162663&f_TPR=r604800&f_WT=3&geoId=103644278&location=United%20States&origin=JOBS_HOME_HYBRID_JOBS&refId=QVI%2BFSlP2USVQqNfawBfzw%3D%3D&start=25&trackingId=Hao%2Fo9dpUSdmgY076cwe%2Fg%3D%3D ['$80K/yr - $105K/yr HybridMatches your job preferences, workplace type is Hybrid. Full-time Mid-Senior level', '10,001+ employees · Retail', '15 school alumni work here', '9 of 10 skills match your profile - you may be a good fit', 'See how you compare to 91 applicants. Reactivate Premium', '', 'Am I a good fit for this job?', 'How can I best position myself for this job?', 'Tell me more about Burlingto...'] 4565\n"
     ]
    },
    {
     "name": "stderr",
     "output_type": "stream",
     "text": [
      "INFO:li:scraper:('[][United States][44]', 'Processed')\n"
     ]
    },
    {
     "name": "stdout",
     "output_type": "stream",
     "text": [
      "[ON_DATA] search Data Analyst 1 (ITS) New York State Insurance Fund (NYSIF) 2024-07-08 https://www.linkedin.com/jobs/search/?currentJobId=3966699499&eBP=NON_CHARGEABLE_CHANNEL&f_C=162663&f_TPR=r604800&f_WT=3&geoId=103644278&location=United%20States&origin=JOBS_HOME_HYBRID_JOBS&refId=QVI%2BFSlP2USVQqNfawBfzw%3D%3D&start=25&trackingId=VYLBxmW805xkWSJ5JPgmbA%3D%3D ['$65K/yr - $82.7K/yr HybridMatches your job preferences, workplace type is Hybrid. Full-time Associate', '1,001-5,000 employees · Insurance', '3 school alumni work here', '4 of 5 skills match your profile - you may be a good fit', 'See recent hiring trends for New York State Insurance Fund. Reactivate Premium', '', 'Am I a good fit for this job?', 'How can I best position myself for this job?', 'Tell me more about New York ...'] 4855\n"
     ]
    },
    {
     "name": "stderr",
     "output_type": "stream",
     "text": [
      "INFO:li:scraper:('[][United States]', 'No more jobs to process in this page')\n",
      "INFO:li:scraper:('[][United States]', 'Metrics:', '{ processed: 42, failed: 0, missed: 6, skipped: 2 }')\n",
      "INFO:li:scraper:('[][United States]', 'Pagination requested [2]')\n",
      "INFO:li:scraper:('[][United States]', 'Opening https://www.linkedin.com/jobs/search?location=United+States&f_C=162663&start=50')\n",
      "INFO:li:scraper:('[][United States]', 'Waiting for new jobs to load')\n",
      "INFO:li:scraper:('[][United States]', \"Couldn't find more jobs for the running query\")\n"
     ]
    },
    {
     "name": "stdout",
     "output_type": "stream",
     "text": [
      "[ON_END]\n"
     ]
    }
   ],
   "source": [
    "import logging\n",
    "from linkedin_jobs_scraper import LinkedinScraper\n",
    "from linkedin_jobs_scraper.events import Events, EventData, EventMetrics\n",
    "from linkedin_jobs_scraper.query import Query, QueryOptions, QueryFilters\n",
    "from linkedin_jobs_scraper.filters import RelevanceFilters, TimeFilters, TypeFilters, ExperienceLevelFilters, \\\n",
    "    OnSiteOrRemoteFilters, SalaryBaseFilters\n",
    "\n",
    "# Change root logger level (default is WARN)\n",
    "logging.basicConfig(level=logging.INFO)\n",
    "\n",
    "\n",
    "# Fired once for each successfully processed job\n",
    "def on_data(data: EventData):\n",
    "    print('[ON_DATA]',data.job_id, data.title, data.company, data.date, data.link, data.insights,\n",
    "          len(data.description))\n",
    "\n",
    "\n",
    "# Fired once for each page (25 jobs)\n",
    "def on_metrics(metrics: EventMetrics):\n",
    "    print('[ON_METRICS]', str(metrics))\n",
    "\n",
    "\n",
    "def on_error(error):\n",
    "    print('[ON_ERROR]', error)\n",
    "\n",
    "\n",
    "def on_end():\n",
    "    print('[ON_END]')\n",
    "\n",
    "\n",
    "scraper = LinkedinScraper(\n",
    "    chrome_executable_path=None,  # Custom Chrome executable path (e.g. /foo/bar/bin/chromedriver)\n",
    "    chrome_binary_location=None,  \n",
    "    chrome_options=None,  # Custom Chrome options here\n",
    "    headless=True,  # Overrides headless mode only if chrome_options is None\n",
    "    max_workers=1,  # How many threads will be spawned to run queries concurrently (one Chrome driver for each thread)\n",
    "    slow_mo=0.5,  # Slow down the scraper to avoid 'Too many requests 429' errors (in seconds)\n",
    "    page_load_timeout=40,\n",
    "  # Page load timeout (in seconds)    \n",
    ")\n",
    "\n",
    "# Add event listeners\n",
    "scraper.on(Events.DATA, on_data)\n",
    "scraper.on(Events.ERROR, on_error)\n",
    "scraper.on(Events.END, on_end)\n",
    "\n",
    "query = Query(    \n",
    "    options=QueryOptions(\n",
    "        locations=['United States'],\n",
    "        skip_promoted_jobs=True,\n",
    "        limit = 1000,      \n",
    "        filters=QueryFilters(\n",
    "            # Paste link below\n",
    "            company_jobs_url= 'https://www.linkedin.com/jobs/search/?currentJobId=3954754673&f_C=162663&geoId=92000000&origin=COMPANY_PAGE_JOBS_CLUSTER_EXPANSION&originToLandingJobPostings=3954754673%2C3952663973%2C3955407426%2C3845620624%2C3942259594%2C3972937075%2C3964004424%2C3948218536%2C3972232833'        \n",
    "        )\n",
    "    )\n",
    ")\n",
    "scraper.run(query)"
   ]
  }
 ],
 "metadata": {
  "kernelspec": {
   "display_name": "Python 3",
   "language": "python",
   "name": "python3"
  },
  "language_info": {
   "codemirror_mode": {
    "name": "ipython",
    "version": 3
   },
   "file_extension": ".py",
   "mimetype": "text/x-python",
   "name": "python",
   "nbconvert_exporter": "python",
   "pygments_lexer": "ipython3",
   "version": "3.9.18"
  }
 },
 "nbformat": 4,
 "nbformat_minor": 2
}
