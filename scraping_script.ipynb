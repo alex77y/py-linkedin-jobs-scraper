{
 "cells": [
  {
   "cell_type": "code",
   "execution_count": 1,
   "metadata": {},
   "outputs": [
    {
     "data": {
      "text/plain": [
       "'AQEDAS2mLGsASEaYAAABjf1VuRkAAAGQqCVqvU4AUxLR8GDMvnA8OHRUtcNXu3yTYZCDX1xye0dToP_l5dWGteox4x1Nbs15mr8ovHbhMwr8JEoS-GRDxIRip1muX3RqB-HpR4rqVE3L3yi7gzP9ziO3'"
      ]
     },
     "execution_count": 1,
     "metadata": {},
     "output_type": "execute_result"
    }
   ],
   "source": [
    "import os\n",
    "import logging\n"
   ]
  },
  {
   "cell_type": "code",
   "execution_count": 2,
   "metadata": {},
   "outputs": [],
   "source": [
    "company_job_link = 'https://www.linkedin.com/jobs/search/?f_C=162663&geoId=92000000&origin=COMPANY_PAGE_JOBS_CLUSTER_EXPANSION&originToLandingJobPostings=3954754673%2C3952663973%2C3955407426%2C3845620624%2C3942259594%2C3972937075%2C3964004424%2C3948218536%2C3972232833&lipi=urn%3Ali%3Apage%3Acompanies_company_jobs_jobs%3B2eb68743-9b7d-46d1-a182-6194d6c6dc89'"
   ]
  },
  {
   "cell_type": "code",
   "execution_count": 3,
   "metadata": {},
   "outputs": [
    {
     "name": "stderr",
     "output_type": "stream",
     "text": [
      "INFO:li:scraper:('Using strategy AuthenticatedStrategy',)\n",
      "INFO:li:scraper:('Starting new query', \"Query(query= options=QueryOptions(limit=25 locations=['Worldwide'] filters=QueryFilters(company_jobs_url=https://www.linkedin.com/jobs/search/?currentJobId=3954754673&f_C=162663&geoId=92000000&origin=COMPANY_PAGE_JOBS_CLUSTER_EXPANSION&originToLandingJobPostings=3954754673%2C3952663973%2C3955407426%2C3845620624%2C3942259594%2C3972937075%2C3964004424%2C3948218536%2C3972232833) apply_link=False skip_promoted_jobs=False page_offset=0))\")\n",
      "INFO:li:scraper:('Chrome debugger url', 'http://localhost:62406')\n",
      "INFO:li:scraper:('Websocket debugger url: ', 'ws://localhost:62406/devtools/page/0513E8CEDE3FCF220305D05A922B8F6E')\n",
      "INFO:li:scraper:('[][Worldwide]', 'Setting authentication cookie')\n",
      "INFO:li:scraper:('[][Worldwide]', 'Opening https://www.linkedin.com/jobs/search?location=Worldwide&f_C=162663&start=0')\n",
      "INFO:li:scraper:('[][Worldwide]', 'Session is valid')\n",
      "INFO:li:scraper:('[][Worldwide][1]', 'Processed')\n"
     ]
    },
    {
     "name": "stdout",
     "output_type": "stream",
     "text": [
      "[ON_DATA] Thrive Apprentice- Data Analyst- Engineer Data Science with verification Verizon   https://www.linkedin.com/jobs/view/3966711586/?eBP=CwEAAAGQotfrQIDdtYqcBf0_BQn3CyRvaArZht0uq7wDSNyF4Xc85SO8BSPlvXowvQCRkrIkGf1_aQH5PrSiQZtwkTagZNWW7WYw9aZdjGGrtFX2ylQ1CgCJhOrBbRnJB_2UaiaPG7giwZYTwvVih_RbkNn7paH9FjJv_azZO9y9CayqLFngFxPcXthm_Fhl6D17eG5Pr7lop2eN_ep03SnzBpNl5DzYMWSdTRkgSZFqgCRJRwo7lBvU5TZwQdjiZPaaLttuJMes2BLjOCsBPdDNqoLDP7yCBOKedUakMWw2oh1scRIU7lLR2xHl3ZwBs1SOedyKzRiBVuc6eezTBahgOhb2V8B24vpPrUQH_xD5EMVd0BhsbsL6L_q-FJ8TkeStnoT46-2VF_nfmuwS5qRqBDH3YUPBz6rzyR59gKWAQ_At20xXiVnpbp3_aJeoLCy9BZ_g1Ag1&refId=tR0m%2BVIW2Vxh6fr7AMaerQ%3D%3D&trackingId=q%2FeGUoIbzPrM84vr0RCkbg%3D%3D&trk=flagship3_search_srp_jobs ['HybridMatches your job preferences, workplace type is Hybrid. InternshipMatches your job preferences, job type is Internship. Internship', '10,001+ employees · IT Services and IT Consulting', '3 company alumni work here · 166 school alumni work here', 'Skills: Data Science, Data Analytics, +8 more', 'See how you compare to over 100 other applicants. Reactivate Premium'] 5118\n"
     ]
    },
    {
     "name": "stderr",
     "output_type": "stream",
     "text": [
      "INFO:li:scraper:('[][Worldwide][2]', 'Processed')\n"
     ]
    },
    {
     "name": "stdout",
     "output_type": "stream",
     "text": [
      "[ON_DATA] Co-op, Crew Resources - Data Analyst (Fall, 2024) with verification Delta Air Lines   https://www.linkedin.com/jobs/view/3923065263/?eBP=CwEAAAGQotfrQQhyfienRfWLFbfAkzNUDxuUgjcy5WsgkGj7wwapyRyqgyTsaPIaHkPwovN834kSuQPdDCf_i2pTCh1ekwX1_nQHcQPoZxWEBeZMoHEdFioqNcDFqF6PldQgRb9WFfCndN_uxU_FIWKiS-IIbT8HXKJGzPEJhRaRTjAXDvesmH__d8-a_IXCZhTatunvEarp-byMeAHYlrrNkB2f9pYjjOM0scAmTXExot4Uii6IKieSa7qENDKFE_Tc1_yNM3b5Fi48FlX2IbMXFxum7WlXAdcwpdzsv_nvBxGPeMZqU2DfHsBo5n9zTaGnXowKQdRQJrRdhVE9_HWlyh0NY6GzKeqr6l0VWOT5totNPhldeIrfF36rRlKzXovNSGLdbKMYD-H2U6qkpy1008tYLwSq1Bwrl5_IhwlkfKTg-MIrKT_cTF79ozPQ_idS-OE&refId=tR0m%2BVIW2Vxh6fr7AMaerQ%3D%3D&trackingId=zx03XzIiBZEewJAfODCP6A%3D%3D&trk=flagship3_search_srp_jobs ['On-siteMatches your job preferences, workplace type is On-site. InternshipMatches your job preferences, job type is Internship. Internship', '10,001+ employees · Airlines and Aviation', '31 school alumni work here', 'Skills: Data Modeling, Databases, +8 more', 'See how you compare to over 100 other applicants. Reactivate Premium', '', 'Am I a good fit for this job?', 'How can I best position myself for this job?', 'Tell me more about Delta Air...'] 2330\n"
     ]
    },
    {
     "name": "stderr",
     "output_type": "stream",
     "text": [
      "INFO:li:scraper:('[][Worldwide][3]', 'Processed')\n"
     ]
    },
    {
     "name": "stdout",
     "output_type": "stream",
     "text": [
      "[ON_DATA] Internship, Data Analyst/Data Engineer, Energy (Fall 2024) with verification Tesla   https://www.linkedin.com/jobs/view/3952438480/?eBP=CwEAAAGQotfrQVEcXQxd_fHXwBAxdRzm85PXWtf3nt6lsf8GcN5m5m-Tl3_2Kaa5Y91jYxf3LY5pJ3aQ81JLUnE0HZOMPGFQaCGNc9nO8drEzUT1H6YMn-UdXaREDsHsj9372ajXnkiaBEnrq1dndJjAuaU8nSvIcifKp8nNEZWUNDH4rCmDDgB-ij5MNoUhxYWXjqXKygyCW_Sz7oKMCxL68IxgBb_Z-081xvGLUk4wb9g-I8qeh6_aXpLNHULTCblU0OfWpBr20xAMj_JkNyi6tFcAIE8RpFwU_9U--MkAl5jUq9JCUxHdI4UbpU37YQrsO16WmCpF6Ktb9WHH2tiIIFGgemGRpYltNdE0WCT2Sk_b2YVqOPqDfmGS18zq15BUlL4S7ImrOxqoHGG52PrTGXcbLerDgWeVeG4Ymqs_bEcGouEZlqV5hJRSRLHU&refId=tR0m%2BVIW2Vxh6fr7AMaerQ%3D%3D&trackingId=LthAU54AGi673AViD8rTZA%3D%3D&trk=flagship3_search_srp_jobs ['On-siteMatches your job preferences, workplace type is On-site. InternshipMatches your job preferences, job type is Internship. Internship', '10,001+ employees · Motor Vehicle Manufacturing', '2 connections work here · 17 company alumni work here · 7,837 school alumni work here', 'Skills: Computer Science, Data Analytics, +8 more', 'See how you compare to over 100 other applicants. Reactivate Premium', '', 'Am I a good fit for this job?', 'How can I best position myself for this job?', 'Tell me more about Tesla'] 5937\n"
     ]
    },
    {
     "name": "stderr",
     "output_type": "stream",
     "text": [
      "INFO:li:scraper:('[][Worldwide][4]', 'Processed')\n"
     ]
    },
    {
     "name": "stdout",
     "output_type": "stream",
     "text": [
      "[ON_DATA] Data Analyst Intern, application via RippleMatch RippleMatch   https://www.linkedin.com/jobs/view/3964393265/?eBP=CwEAAAGQotfrQWVQTbHELies95Wo8yvTuqX3NdK_iMRFlT5BAeUiyBZn7ja89sJaQ1P4Xd1PPPkEsftBLpvCu-ci0f0JRRZmRKRFTPV_-sRy-km-JdYRk-7TqH5rn1qpkpoIIH99TU7u664qRDIflVKItVvcp6-rRZFuuCm22x1qX8CkIusBamm7HFA7_7BNC7gNzGjxiDDpDJeOtUTGIVXWjn8xBqh8YM8la8PfpUtmLNYfJ4jDjq27rLcNQLpqohvsF0v12QCEV_VW0ta3yZPZLZ_5_StDsu3hRNWPFiP08-D6kWwxjyALJAC1pSInD5SJVJBWTXr9-ZKwJ32sS_u14AxhmXAM9nYq8xO7nY9_70EjU7yrS5PKGe8I5M2sE4AtSzxqQcYLBANOsHjEU0OGpcwueqglv_o9Kw74rPWgCqiXu0OdGb2NYFw&refId=tR0m%2BVIW2Vxh6fr7AMaerQ%3D%3D&trackingId=ETc%2FlR9jTU51zt%2F2LJGxvw%3D%3D&trk=flagship3_search_srp_jobs ['On-siteMatches your job preferences, workplace type is On-site. InternshipMatches your job preferences, job type is Internship. Internship', '51-200 employees · Technology, Information and Internet', '3 school alumni work here', '8 of 10 skills match your profile - you may be a good fit', 'See recent hiring trends for RippleMatch. Reactivate Premium', '', 'Am I a good fit for this job?', 'How can I best position myself for this job?', 'Tell me more about RippleMatch'] 1450\n"
     ]
    },
    {
     "name": "stderr",
     "output_type": "stream",
     "text": [
      "INFO:li:scraper:('[][Worldwide][5]', 'Processed')\n"
     ]
    },
    {
     "name": "stdout",
     "output_type": "stream",
     "text": [
      "[ON_DATA] Data Analyst Intern, application via RippleMatch RippleMatch   https://www.linkedin.com/jobs/view/3964388960/?eBP=CwEAAAGQotfrQVSyDj6_kmckAIjp9OnjP6kGrVBbKDo1o2iVN6PLO5BnhqXP9n7e4srQk4HboFSJUxQE4qxu5X3EclH_EIKE_C2HDLwRCJTFd_z4WqNpcW10c7U1kC8nxcUfsQdhfAyAd_wGKgv0yMvoDPhFq7UaYCmQEET36ZYxxrrj34FhhZCR76Wa9oCQOareQ2eCLTlR1e9Ojh33bVv_qEnyJnRVDHe_sNeYXmAXmcKk7BeV9HPi8pvpPhU9lUFkb-fXkzzhV575khCAYb_NZiEOsxk2_-7m64J1MM7VvW3glQOaREFk483KtYHuP5vflpy6XePX-gIBRmXRMYOpUTQG_vz9yCUkaKgDciAPpVHKZdisQPic2XrWCoYIGwbcHOpC2SI-DqJde5p-KoCbHQIXyYCJTmUy3Zi2-oTiJiwL6zhEBZCosGQ&refId=tR0m%2BVIW2Vxh6fr7AMaerQ%3D%3D&trackingId=EVHR2bj8dt2erO4PiLAOvA%3D%3D&trk=flagship3_search_srp_jobs ['On-siteMatches your job preferences, workplace type is On-site. InternshipMatches your job preferences, job type is Internship. Internship', '51-200 employees · Technology, Information and Internet', '3 school alumni work here', '8 of 10 skills match your profile - you may be a good fit', 'See recent hiring trends for RippleMatch. Reactivate Premium', '', 'Am I a good fit for this job?', 'How can I best position myself for this job?', 'Tell me more about RippleMatch'] 1450\n"
     ]
    },
    {
     "name": "stderr",
     "output_type": "stream",
     "text": [
      "INFO:li:scraper:('[][Worldwide][6]', 'Processed')\n"
     ]
    },
    {
     "name": "stdout",
     "output_type": "stream",
     "text": [
      "[ON_DATA] Data Analyst Intern ZURU Toy Company   https://www.linkedin.com/jobs/view/3964277158/?eBP=CwEAAAGQotfrQQwrNGx99sWxKhAA4CjB2J3X0KdQVAbC_wdYisD9Cr0668EStROSdyp7jpWA5JPl6DVS5dnrwj1AdeTp40a1qQ7JmDn2tgKDJybJIs_FVK9LDABAblgOQHoxT8zz5fAo6efo0_ubnJNgM3W0tBYSdHLponoidEPSsrUZDZVFW3Q0cqrvktoHIOtOmPshWSHdNHPGeZnkQIf-0FQSZCpSq3KNrS_m5LVj-t_llyBx7tY1YeOOeu3VFNaVTPf-cTTQHiP2hhZVzt1QU8A8kh7Tp21_UDNJOPXIwPlTtgSKBwVMhKhAJaGJEnv-VaqmI5svu1k4DCcwXegzyrvg12RNTiGgiGJyvVvXVkqM_6eNWP0v3u-frfcvpo8lOE0mchR-krE9qyY5P8t7XgchgVKhrwDT&refId=tR0m%2BVIW2Vxh6fr7AMaerQ%3D%3D&trackingId=1k8%2FyR06uf9RYUhofBsSaw%3D%3D&trk=flagship3_search_srp_jobs ['$16.90/hr - $18/hr On-siteMatches your job preferences, workplace type is On-site. InternshipMatches your job preferences, job type is Internship. Internship', '1,001-5,000 employees · Manufacturing', '7 of 10 skills match your profile - you may be a good fit', 'See how you compare to over 100 other applicants. Reactivate Premium', '', 'Am I a good fit for this job?', 'How can I best position myself for this job?', 'Tell me more about ZURU Toy ...'] 4172\n"
     ]
    },
    {
     "name": "stderr",
     "output_type": "stream",
     "text": [
      "INFO:li:scraper:('[][Worldwide][7]', 'Processed')\n"
     ]
    },
    {
     "name": "stdout",
     "output_type": "stream",
     "text": [
      "[ON_DATA] IT Systems and Data Analysis Intern WHYY   https://www.linkedin.com/jobs/view/3963027497/?eBP=CwEAAAGQotfrQWnTpy6xoRmlXlnmRUm-NdqjTPP1QT9uVGjsqSB6rzkcJP2pdKXNib0Sm11HBKWv1dxpDhGesSR8HdyraI50zELLNTLA27_T-HRpXuvH26Rs4oNLaLDbPInhq-f2jM4pMsi5nPCxkLJUnFQYhNYvUEFwXDOR5thf1StTRSG0xVCybnyqbrjT9P5bSGgB_X147GHpcCDRYRNfKRONoEGEgUy65soRAkI4kgzJh1i4GhKAGMTvsYeQBMAw4IkxcnC4w0-usuJWRgUFXc1aUa2UfgG6IkiIUm2tI-5wdBctRJXuF4JoMTHjZJONW7Ggzuhszjvaz4nvK8c2dNVoEneQI5pDXeNSEBUg6Z1LFh1PktpIkjzhVziXiNsYK62UC4K5DDTErq4Lm_tS43Tbs59ZW9831AXrgvzPnxFVNySTLasHfNmwgg&refId=tR0m%2BVIW2Vxh6fr7AMaerQ%3D%3D&trackingId=5zEukULZpbDyifmU3W1lKg%3D%3D&trk=flagship3_search_srp_jobs ['On-siteMatches your job preferences, workplace type is On-site. InternshipMatches your job preferences, job type is Internship. Internship', '201-500 employees · Broadcast Media Production and Distribution', '5 school alumni work here', '7 of 10 skills match your profile - you may be a good fit', 'See recent hiring trends for WHYY. Reactivate Premium'] 1321\n"
     ]
    },
    {
     "name": "stderr",
     "output_type": "stream",
     "text": [
      "INFO:li:scraper:('[][Worldwide][8]', 'Processed')\n"
     ]
    },
    {
     "name": "stdout",
     "output_type": "stream",
     "text": [
      "[ON_DATA] Data Analyst Internship - Data Science & Gen-AI Team Peerlogic   https://www.linkedin.com/jobs/view/3960000140/?eBP=CwEAAAGQotfrQQ7A2CrN8dmwqOvG0-5DLXTjTrBf1I8R8BdbCJUyFuE31Rz26U4MU5GlJqC0O4Spri_0QwOhiMbBGZmij_ciZhd9KHlC55ktsTGITlyTGFYVuIberNDcNMqG2N8sbR9JzrtAnCqehKg_JumM8ezLAY0493u4kOPTW1lW7HlPVbuxV9lSIze0_7T2UIEB_oXlGHJiBm6JhfNS3duQIgcpcIJzjp7y0nJrhYHgDeLWcrxPlkg04CCZf53MGailxYfwxRq_v7YjGcrRkOg7gyRAsFHEqftg2s29ajtEleOC6FWVHlaeuyAL3j3-8VSTeeKNst5BfNRBynwCEN1zRVdJ1-5KFNIUY24wSwS4F3t6fXFse7mtdVocfdMZ0tSgaggrGZA-dzQ9kbn1INkAAjIiIJjx6NvlV9noQFAo6JpWoaCaJ0-dzBK55IU&refId=tR0m%2BVIW2Vxh6fr7AMaerQ%3D%3D&trackingId=KW01DuqRLNyyzRs%2FyD6%2BVg%3D%3D&trk=flagship3_search_srp_jobs ['InternshipMatches your job preferences, job type is Internship. Internship', '11-50 employees · Software Development', 'Skills: Computer Science, Data Science, +8 more', 'See how you compare to over 100 other applicants. Reactivate Premium', '', 'Am I a good fit for this job?', 'How can I best position myself for this job?', 'Tell me more about Peerlogic'] 3352\n"
     ]
    },
    {
     "name": "stderr",
     "output_type": "stream",
     "text": [
      "INFO:li:scraper:('[][Worldwide]', 'No more jobs to process in this page')\n",
      "INFO:li:scraper:('[][Worldwide]', 'Metrics:', '{ processed: 8, failed: 0, missed: 17, skipped: 0 }')\n",
      "INFO:li:scraper:('[][Worldwide]', 'Pagination requested [1]')\n",
      "INFO:li:scraper:('[][Worldwide]', 'Opening https://www.linkedin.com/jobs/search?location=Worldwide&f_C=162663&start=25')\n",
      "INFO:li:scraper:('[][Worldwide]', 'Waiting for new jobs to load')\n",
      "INFO:li:scraper:('[][Worldwide]', 'Session is valid')\n",
      "INFO:li:scraper:('[][Worldwide][26]', 'Processed')\n"
     ]
    },
    {
     "name": "stdout",
     "output_type": "stream",
     "text": [
      "[ON_DATA] Thrive Apprentice- Data Analyst- Engineer Data Science with verification Verizon   https://www.linkedin.com/jobs/view/3966711586/?eBP=CwEAAAGQotgxAaTDo_2LB4tEmCJkryjIeoRtjLlkzwJoL9pYvA0dvLle7tPfVUcsMP3WCCdJiSdefVXss0d4XyUPMcJ70Ue9dAI4NpR5fY_eShgJ6Q5Edzgxn8V9ZdTPcXl0b7v5jew2FwPeCnlvNHBBJVKbaws_zi8RlPPUJf-uW84a9Ofc_vUAdMJ9XhTD4l5SSSNtx3XJOjo1MevJuifqwgHeAmiEKjOZgwelq6umEcY118UD_2oRAm7te5doL-U5EGKLyZUqCzNKH9nYkaBQsj5DQX-7ppa4iIGDVpPvSAdwnIneiE43prL2RC6rjsFBUNbqC82O5wNWC7-nDfHarUf4QgwtsltoQGBt4JlMZ6ZL3piKPbz2CNdrGw1x9PDHGQFGfPpch5eXwrau_fO4DIWHC2F7M1bTUW4a4PAX_TtJxP_mSrsnbZ98LW03itcRtQb23w&refId=8sXeVP9gd31SFHS035FnBA%3D%3D&trackingId=1bNKtUwvkV9%2Bt20UkR%2F%2Bhw%3D%3D&trk=flagship3_search_srp_jobs ['HybridMatches your job preferences, workplace type is Hybrid. InternshipMatches your job preferences, job type is Internship. Internship', '10,001+ employees · IT Services and IT Consulting', '3 company alumni work here · 166 school alumni work here', 'Skills: Data Science, Data Analytics, +8 more', 'See how you compare to over 100 other applicants. Reactivate Premium'] 5118\n"
     ]
    },
    {
     "name": "stderr",
     "output_type": "stream",
     "text": [
      "INFO:li:scraper:('[][Worldwide][27]', 'Processed')\n"
     ]
    }
   ],
   "source": [
    "import logging\n",
    "from linkedin_jobs_scraper import LinkedinScraper\n",
    "from linkedin_jobs_scraper.events import Events, EventData, EventMetrics\n",
    "from linkedin_jobs_scraper.query import Query, QueryOptions, QueryFilters\n",
    "from linkedin_jobs_scraper.filters import RelevanceFilters, TimeFilters, TypeFilters, ExperienceLevelFilters, \\\n",
    "    OnSiteOrRemoteFilters, SalaryBaseFilters\n",
    "\n",
    "# Change root logger level (default is WARN)\n",
    "logging.basicConfig(level=logging.INFO)\n",
    "\n",
    "\n",
    "# Fired once for each successfully processed job\n",
    "def on_data(data: EventData):\n",
    "    print('[ON_DATA]', data.title, data.company, data.company_link, data.date, data.link, data.insights,\n",
    "          len(data.description))\n",
    "\n",
    "\n",
    "# Fired once for each page (25 jobs)\n",
    "def on_metrics(metrics: EventMetrics):\n",
    "    print('[ON_METRICS]', str(metrics))\n",
    "\n",
    "\n",
    "def on_error(error):\n",
    "    print('[ON_ERROR]', error)\n",
    "\n",
    "\n",
    "def on_end():\n",
    "    print('[ON_END]')\n",
    "\n",
    "\n",
    "scraper = LinkedinScraper(\n",
    "    chrome_executable_path=None,  # Custom Chrome executable path (e.g. /foo/bar/bin/chromedriver)\n",
    "    chrome_binary_location=None,  \n",
    "    chrome_options=None,  # Custom Chrome options here\n",
    "    headless=True,  # Overrides headless mode only if chrome_options is None\n",
    "    max_workers=1,  # How many threads will be spawned to run queries concurrently (one Chrome driver for each thread)\n",
    "    slow_mo=0.5,  # Slow down the scraper to avoid 'Too many requests 429' errors (in seconds)\n",
    "    page_load_timeout=40,\n",
    "  # Page load timeout (in seconds)    \n",
    ")\n",
    "\n",
    "# Add event listeners\n",
    "scraper.on(Events.DATA, on_data)\n",
    "scraper.on(Events.ERROR, on_error)\n",
    "scraper.on(Events.END, on_end)\n",
    "\n",
    "query = Query(    \n",
    "    options=QueryOptions(        \n",
    "        filters=QueryFilters(\n",
    "            # Paste link below\n",
    "            company_jobs_url= 'https://www.linkedin.com/jobs/search/?currentJobId=3954754673&f_C=162663&geoId=92000000&origin=COMPANY_PAGE_JOBS_CLUSTER_EXPANSION&originToLandingJobPostings=3954754673%2C3952663973%2C3955407426%2C3845620624%2C3942259594%2C3972937075%2C3964004424%2C3948218536%2C3972232833'        \n",
    "        )\n",
    "    )\n",
    ")\n",
    "scraper.run(query)"
   ]
  },
  {
   "cell_type": "code",
   "execution_count": 4,
   "metadata": {},
   "outputs": [],
   "source": [
    "from linkedin_jobs_scraper.query import Query, QueryOptions, QueryFilters\n",
    "from linkedin_jobs_scraper.filters import RelevanceFilters, TimeFilters, TypeFilters, ExperienceLevelFilters, \\\n",
    "    OnSiteOrRemoteFilters, IndustryFilters, SalaryBaseFilters\n"
   ]
  }
 ],
 "metadata": {
  "kernelspec": {
   "display_name": "Python 3",
   "language": "python",
   "name": "python3"
  },
  "language_info": {
   "codemirror_mode": {
    "name": "ipython",
    "version": 3
   },
   "file_extension": ".py",
   "mimetype": "text/x-python",
   "name": "python",
   "nbconvert_exporter": "python",
   "pygments_lexer": "ipython3",
   "version": "3.9.18"
  }
 },
 "nbformat": 4,
 "nbformat_minor": 2
}
